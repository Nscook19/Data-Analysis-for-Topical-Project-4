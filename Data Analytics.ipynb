{
 "cells": [
  {
   "cell_type": "code",
   "execution_count": 7,
   "id": "d15abe34",
   "metadata": {},
   "outputs": [],
   "source": [
    "import pandas as pd\n",
    "import plotly.express as px\n",
    "import plotly.graph_objects as go\n",
    "import seaborn as sns\n",
    "import matplotlib.pyplot as plt"
   ]
  },
  {
   "cell_type": "code",
   "execution_count": 8,
   "id": "9a266560",
   "metadata": {},
   "outputs": [
    {
     "name": "stdout",
     "output_type": "stream",
     "text": [
      "Path to dataset files: C:\\Users\\Nscoo\\.cache\\kagglehub\\datasets\\jockeroika\\life-style-data\\versions\\7\n"
     ]
    }
   ],
   "source": [
    "import kagglehub\n",
    "\n",
    "# Download latest version\n",
    "path = kagglehub.dataset_download(\"jockeroika/life-style-data\")\n",
    "\n",
    "print(\"Path to dataset files:\", path)"
   ]
  },
  {
   "cell_type": "code",
   "execution_count": 9,
   "id": "a31ef582",
   "metadata": {},
   "outputs": [
    {
     "name": "stdout",
     "output_type": "stream",
     "text": [
      "     Age  Gender  Weight (kg)  Height (m)  Max_BPM  Avg_BPM  Resting_BPM  \\\n",
      "0  34.91    Male        65.27        1.62   188.58   157.65        69.05   \n",
      "1  23.37  Female        56.41        1.55   179.43   131.75        73.18   \n",
      "2  33.20  Female        58.98        1.67   175.04   123.95        54.96   \n",
      "3  38.69  Female        93.78        1.70   191.21   155.10        50.07   \n",
      "4  45.09    Male        52.42        1.88   193.58   152.88        70.84   \n",
      "\n",
      "   Session_Duration (hours)  Calories_Burned Workout_Type  ...  \\\n",
      "0                      1.00          1080.90     Strength  ...   \n",
      "1                      1.37          1809.91         HIIT  ...   \n",
      "2                      0.91           802.26       Cardio  ...   \n",
      "3                      1.10          1450.79         HIIT  ...   \n",
      "4                      1.08          1166.40     Strength  ...   \n",
      "\n",
      "   cal_from_macros  pct_carbs  protein_per_kg   pct_HRR  pct_maxHR  \\\n",
      "0          2139.59   0.500432        1.624789  0.741237   0.835985   \n",
      "1          1711.65   0.500850        1.514093  0.551247   0.734270   \n",
      "2          1965.92   0.500610        1.663445  0.574534   0.708124   \n",
      "3          1627.28   0.499533        0.862017  0.744155   0.811150   \n",
      "4          2659.23   0.500581        2.538153  0.668405   0.789751   \n",
      "\n",
      "   cal_balance  lean_mass_kg  expected_burn  Burns Calories (per 30 min)_bc  \\\n",
      "0       725.10     47.777394       685.1600                    7.260425e+19   \n",
      "1      -232.91     40.809803       978.6184                    1.020506e+20   \n",
      "2       805.74     44.635580       654.5266                    1.079607e+20   \n",
      "3      1206.21     63.007432       773.6300                    8.987921e+19   \n",
      "4       303.60     43.347504       711.4176                    5.264685e+19   \n",
      "\n",
      "   Burns_Calories_Bin  \n",
      "0              Medium  \n",
      "1                High  \n",
      "2                High  \n",
      "3                High  \n",
      "4                 Low  \n",
      "\n",
      "[5 rows x 54 columns]\n",
      "<class 'pandas.core.frame.DataFrame'>\n",
      "RangeIndex: 20000 entries, 0 to 19999\n",
      "Data columns (total 54 columns):\n",
      " #   Column                          Non-Null Count  Dtype  \n",
      "---  ------                          --------------  -----  \n",
      " 0   Age                             20000 non-null  float64\n",
      " 1   Gender                          20000 non-null  object \n",
      " 2   Weight (kg)                     20000 non-null  float64\n",
      " 3   Height (m)                      20000 non-null  float64\n",
      " 4   Max_BPM                         20000 non-null  float64\n",
      " 5   Avg_BPM                         20000 non-null  float64\n",
      " 6   Resting_BPM                     20000 non-null  float64\n",
      " 7   Session_Duration (hours)        20000 non-null  float64\n",
      " 8   Calories_Burned                 20000 non-null  float64\n",
      " 9   Workout_Type                    20000 non-null  object \n",
      " 10  Fat_Percentage                  20000 non-null  float64\n",
      " 11  Water_Intake (liters)           20000 non-null  float64\n",
      " 12  Workout_Frequency (days/week)   20000 non-null  float64\n",
      " 13  Experience_Level                20000 non-null  float64\n",
      " 14  BMI                             20000 non-null  float64\n",
      " 15  Daily meals frequency           20000 non-null  float64\n",
      " 16  Physical exercise               20000 non-null  float64\n",
      " 17  Carbs                           20000 non-null  float64\n",
      " 18  Proteins                        20000 non-null  float64\n",
      " 19  Fats                            20000 non-null  float64\n",
      " 20  Calories                        20000 non-null  float64\n",
      " 21  meal_name                       20000 non-null  object \n",
      " 22  meal_type                       20000 non-null  object \n",
      " 23  diet_type                       20000 non-null  object \n",
      " 24  sugar_g                         20000 non-null  float64\n",
      " 25  sodium_mg                       20000 non-null  float64\n",
      " 26  cholesterol_mg                  20000 non-null  float64\n",
      " 27  serving_size_g                  20000 non-null  float64\n",
      " 28  cooking_method                  20000 non-null  object \n",
      " 29  prep_time_min                   20000 non-null  float64\n",
      " 30  cook_time_min                   20000 non-null  float64\n",
      " 31  rating                          20000 non-null  float64\n",
      " 32  Name of Exercise                20000 non-null  object \n",
      " 33  Sets                            20000 non-null  float64\n",
      " 34  Reps                            20000 non-null  float64\n",
      " 35  Benefit                         20000 non-null  object \n",
      " 36  Burns Calories (per 30 min)     20000 non-null  float64\n",
      " 37  Target Muscle Group             20000 non-null  object \n",
      " 38  Equipment Needed                20000 non-null  object \n",
      " 39  Difficulty Level                20000 non-null  object \n",
      " 40  Body Part                       20000 non-null  object \n",
      " 41  Type of Muscle                  20000 non-null  object \n",
      " 42  Workout                         20000 non-null  object \n",
      " 43  BMI_calc                        20000 non-null  float64\n",
      " 44  cal_from_macros                 20000 non-null  float64\n",
      " 45  pct_carbs                       20000 non-null  float64\n",
      " 46  protein_per_kg                  20000 non-null  float64\n",
      " 47  pct_HRR                         20000 non-null  float64\n",
      " 48  pct_maxHR                       20000 non-null  float64\n",
      " 49  cal_balance                     20000 non-null  float64\n",
      " 50  lean_mass_kg                    20000 non-null  float64\n",
      " 51  expected_burn                   20000 non-null  float64\n",
      " 52  Burns Calories (per 30 min)_bc  20000 non-null  float64\n",
      " 53  Burns_Calories_Bin              20000 non-null  object \n",
      "dtypes: float64(39), object(15)\n",
      "memory usage: 8.2+ MB\n",
      "None\n",
      "                Age   Weight (kg)    Height (m)       Max_BPM       Avg_BPM  \\\n",
      "count  20000.000000  20000.000000  20000.000000  20000.000000  20000.000000   \n",
      "mean      38.851453     73.898832      1.723093    179.889702    143.704306   \n",
      "std       12.114580     21.173010      0.127033     11.510805     14.267688   \n",
      "min       18.000000     39.180000      1.490000    159.310000    119.070000   \n",
      "25%       28.170000     58.160000      1.620000    170.057500    131.220000   \n",
      "50%       39.865000     70.000000      1.710000    180.140000    142.990000   \n",
      "75%       49.630000     86.100000      1.800000    189.425000    156.060000   \n",
      "max       59.670000    130.770000      2.010000    199.640000    169.840000   \n",
      "\n",
      "        Resting_BPM  Session_Duration (hours)  Calories_Burned  \\\n",
      "count  20000.000000              20000.000000     20000.000000   \n",
      "mean      62.195813                  1.259446      1280.109600   \n",
      "std        7.289351                  0.341336       502.228982   \n",
      "min       49.490000                  0.490000       323.110000   \n",
      "25%       55.960000                  1.050000       910.800000   \n",
      "50%       62.200000                  1.270000      1231.450000   \n",
      "75%       68.090000                  1.460000      1553.112500   \n",
      "max       74.500000                  2.020000      2890.820000   \n",
      "\n",
      "       Fat_Percentage  Water_Intake (liters)  ...      BMI_calc  \\\n",
      "count    20000.000000           20000.000000  ...  20000.000000   \n",
      "mean        26.101313               2.627485  ...     24.921651   \n",
      "std          4.996160               0.604724  ...      6.701144   \n",
      "min         11.333134               1.460000  ...     12.037907   \n",
      "25%         22.387807               2.170000  ...     20.094975   \n",
      "50%         25.822504               2.610000  ...     24.119097   \n",
      "75%         29.676026               3.120000  ...     28.562620   \n",
      "max         35.000000               3.730000  ...     50.229544   \n",
      "\n",
      "       cal_from_macros     pct_carbs  protein_per_kg       pct_HRR  \\\n",
      "count     20000.000000  20000.000000    20000.000000  20000.000000   \n",
      "mean       1998.297076      0.499983        1.460142      0.699005   \n",
      "std         440.848408      0.001455        0.518946      0.144880   \n",
      "min        1105.570000      0.492434        0.516706      0.371344   \n",
      "25%        1661.022500      0.499054        1.076294      0.583656   \n",
      "50%        1943.130000      0.499981        1.382260      0.686284   \n",
      "75%        2271.950000      0.500910        1.750495      0.798196   \n",
      "max        3699.540000      0.507889        3.916881      1.073939   \n",
      "\n",
      "          pct_maxHR   cal_balance  lean_mass_kg  expected_burn  \\\n",
      "count  20000.000000  20000.000000  20000.000000   20000.000000   \n",
      "mean       0.802305    744.308699     53.786384     866.352318   \n",
      "std        0.096613    720.946619     12.498740     250.317069   \n",
      "min        0.599789  -1266.220000     30.946261     219.852800   \n",
      "25%        0.727676    261.432500     44.587037     714.098250   \n",
      "50%        0.794834    691.190000     51.204908     868.721400   \n",
      "75%        0.869211   1176.290000     61.939016    1012.532700   \n",
      "max        1.047032   3075.580000     90.117371    1477.108800   \n",
      "\n",
      "       Burns Calories (per 30 min)_bc  \n",
      "count                    2.000000e+04  \n",
      "mean                     8.631802e+19  \n",
      "std                      3.197579e+19  \n",
      "min                      2.491905e+16  \n",
      "25%                      6.441978e+19  \n",
      "50%                      8.371578e+19  \n",
      "75%                      1.100442e+20  \n",
      "max                      1.756614e+20  \n",
      "\n",
      "[8 rows x 39 columns]\n"
     ]
    }
   ],
   "source": [
    "# Load the main dataset\n",
    "df = pd.read_csv(r\"C:\\Users\\Nscoo\\.cache\\kagglehub\\datasets\\jockeroika\\life-style-data\\versions\\7\\Final_data.csv\")\n",
    "\n",
    "# Quick look at the data\n",
    "print(df.head())\n",
    "print(df.info())\n",
    "print(df.describe())\n"
   ]
  },
  {
   "cell_type": "code",
   "execution_count": 10,
   "id": "d993f17d",
   "metadata": {},
   "outputs": [],
   "source": [
    "df.rename(columns=lambda x: x.strip().replace(\" \", \"_\").replace(\"(\", \"\").replace(\")\", \"\"), inplace=True)\n",
    "df.fillna(0, inplace=True)  # replace missing values with 0 for simplicity"
   ]
  },
  {
   "cell_type": "markdown",
   "id": "d59732fc",
   "metadata": {},
   "source": [
    "## Operational Dashboard – Mid-Manager\n",
    "\n",
    "**Purpose:**  \n",
    "This dashboard monitors day-to-day user engagement, session performance, and workout completion, helping managers ensure programs are running effectively.\n",
    "\n",
    "**Audience:**  \n",
    "Mid-level managers responsible for tracking user activity, workout adherence, and overall engagement metrics.\n",
    "\n",
    "**Key KPIs:**  \n",
    "- **Average Calories Burned per Session:** Measures workout intensity and effectiveness.  \n",
    "- **Workout Type Distribution:** Shows which workouts are most popular to optimize class offerings.  \n",
    "- **Average Heart Rate Metrics:** Ensures safe exercise intensity and monitors user health.\n"
   ]
  },
  {
   "cell_type": "code",
   "execution_count": 11,
   "id": "fc8cdf5a",
   "metadata": {},
   "outputs": [
    {
     "data": {
      "application/vnd.plotly.v1+json": {
       "config": {
        "plotlyServerURL": "https://plot.ly"
       },
       "data": [
        {
         "hovertemplate": "Workout_Type=%{x}<br>y=%{y}<extra></extra>",
         "legendgroup": "",
         "marker": {
          "color": "#636efa",
          "pattern": {
           "shape": ""
          }
         },
         "name": "",
         "orientation": "v",
         "showlegend": false,
         "textposition": "auto",
         "type": "bar",
         "x": [
          "Strength",
          "Yoga",
          "HIIT",
          "Cardio"
         ],
         "xaxis": "x",
         "y": {
          "bdata": "zxOoE24TOxM=",
          "dtype": "i2"
         },
         "yaxis": "y"
        }
       ],
       "layout": {
        "barmode": "relative",
        "legend": {
         "tracegroupgap": 0
        },
        "template": {
         "data": {
          "bar": [
           {
            "error_x": {
             "color": "#2a3f5f"
            },
            "error_y": {
             "color": "#2a3f5f"
            },
            "marker": {
             "line": {
              "color": "#E5ECF6",
              "width": 0.5
             },
             "pattern": {
              "fillmode": "overlay",
              "size": 10,
              "solidity": 0.2
             }
            },
            "type": "bar"
           }
          ],
          "barpolar": [
           {
            "marker": {
             "line": {
              "color": "#E5ECF6",
              "width": 0.5
             },
             "pattern": {
              "fillmode": "overlay",
              "size": 10,
              "solidity": 0.2
             }
            },
            "type": "barpolar"
           }
          ],
          "carpet": [
           {
            "aaxis": {
             "endlinecolor": "#2a3f5f",
             "gridcolor": "white",
             "linecolor": "white",
             "minorgridcolor": "white",
             "startlinecolor": "#2a3f5f"
            },
            "baxis": {
             "endlinecolor": "#2a3f5f",
             "gridcolor": "white",
             "linecolor": "white",
             "minorgridcolor": "white",
             "startlinecolor": "#2a3f5f"
            },
            "type": "carpet"
           }
          ],
          "choropleth": [
           {
            "colorbar": {
             "outlinewidth": 0,
             "ticks": ""
            },
            "type": "choropleth"
           }
          ],
          "contour": [
           {
            "colorbar": {
             "outlinewidth": 0,
             "ticks": ""
            },
            "colorscale": [
             [
              0,
              "#0d0887"
             ],
             [
              0.1111111111111111,
              "#46039f"
             ],
             [
              0.2222222222222222,
              "#7201a8"
             ],
             [
              0.3333333333333333,
              "#9c179e"
             ],
             [
              0.4444444444444444,
              "#bd3786"
             ],
             [
              0.5555555555555556,
              "#d8576b"
             ],
             [
              0.6666666666666666,
              "#ed7953"
             ],
             [
              0.7777777777777778,
              "#fb9f3a"
             ],
             [
              0.8888888888888888,
              "#fdca26"
             ],
             [
              1,
              "#f0f921"
             ]
            ],
            "type": "contour"
           }
          ],
          "contourcarpet": [
           {
            "colorbar": {
             "outlinewidth": 0,
             "ticks": ""
            },
            "type": "contourcarpet"
           }
          ],
          "heatmap": [
           {
            "colorbar": {
             "outlinewidth": 0,
             "ticks": ""
            },
            "colorscale": [
             [
              0,
              "#0d0887"
             ],
             [
              0.1111111111111111,
              "#46039f"
             ],
             [
              0.2222222222222222,
              "#7201a8"
             ],
             [
              0.3333333333333333,
              "#9c179e"
             ],
             [
              0.4444444444444444,
              "#bd3786"
             ],
             [
              0.5555555555555556,
              "#d8576b"
             ],
             [
              0.6666666666666666,
              "#ed7953"
             ],
             [
              0.7777777777777778,
              "#fb9f3a"
             ],
             [
              0.8888888888888888,
              "#fdca26"
             ],
             [
              1,
              "#f0f921"
             ]
            ],
            "type": "heatmap"
           }
          ],
          "histogram": [
           {
            "marker": {
             "pattern": {
              "fillmode": "overlay",
              "size": 10,
              "solidity": 0.2
             }
            },
            "type": "histogram"
           }
          ],
          "histogram2d": [
           {
            "colorbar": {
             "outlinewidth": 0,
             "ticks": ""
            },
            "colorscale": [
             [
              0,
              "#0d0887"
             ],
             [
              0.1111111111111111,
              "#46039f"
             ],
             [
              0.2222222222222222,
              "#7201a8"
             ],
             [
              0.3333333333333333,
              "#9c179e"
             ],
             [
              0.4444444444444444,
              "#bd3786"
             ],
             [
              0.5555555555555556,
              "#d8576b"
             ],
             [
              0.6666666666666666,
              "#ed7953"
             ],
             [
              0.7777777777777778,
              "#fb9f3a"
             ],
             [
              0.8888888888888888,
              "#fdca26"
             ],
             [
              1,
              "#f0f921"
             ]
            ],
            "type": "histogram2d"
           }
          ],
          "histogram2dcontour": [
           {
            "colorbar": {
             "outlinewidth": 0,
             "ticks": ""
            },
            "colorscale": [
             [
              0,
              "#0d0887"
             ],
             [
              0.1111111111111111,
              "#46039f"
             ],
             [
              0.2222222222222222,
              "#7201a8"
             ],
             [
              0.3333333333333333,
              "#9c179e"
             ],
             [
              0.4444444444444444,
              "#bd3786"
             ],
             [
              0.5555555555555556,
              "#d8576b"
             ],
             [
              0.6666666666666666,
              "#ed7953"
             ],
             [
              0.7777777777777778,
              "#fb9f3a"
             ],
             [
              0.8888888888888888,
              "#fdca26"
             ],
             [
              1,
              "#f0f921"
             ]
            ],
            "type": "histogram2dcontour"
           }
          ],
          "mesh3d": [
           {
            "colorbar": {
             "outlinewidth": 0,
             "ticks": ""
            },
            "type": "mesh3d"
           }
          ],
          "parcoords": [
           {
            "line": {
             "colorbar": {
              "outlinewidth": 0,
              "ticks": ""
             }
            },
            "type": "parcoords"
           }
          ],
          "pie": [
           {
            "automargin": true,
            "type": "pie"
           }
          ],
          "scatter": [
           {
            "fillpattern": {
             "fillmode": "overlay",
             "size": 10,
             "solidity": 0.2
            },
            "type": "scatter"
           }
          ],
          "scatter3d": [
           {
            "line": {
             "colorbar": {
              "outlinewidth": 0,
              "ticks": ""
             }
            },
            "marker": {
             "colorbar": {
              "outlinewidth": 0,
              "ticks": ""
             }
            },
            "type": "scatter3d"
           }
          ],
          "scattercarpet": [
           {
            "marker": {
             "colorbar": {
              "outlinewidth": 0,
              "ticks": ""
             }
            },
            "type": "scattercarpet"
           }
          ],
          "scattergeo": [
           {
            "marker": {
             "colorbar": {
              "outlinewidth": 0,
              "ticks": ""
             }
            },
            "type": "scattergeo"
           }
          ],
          "scattergl": [
           {
            "marker": {
             "colorbar": {
              "outlinewidth": 0,
              "ticks": ""
             }
            },
            "type": "scattergl"
           }
          ],
          "scattermap": [
           {
            "marker": {
             "colorbar": {
              "outlinewidth": 0,
              "ticks": ""
             }
            },
            "type": "scattermap"
           }
          ],
          "scattermapbox": [
           {
            "marker": {
             "colorbar": {
              "outlinewidth": 0,
              "ticks": ""
             }
            },
            "type": "scattermapbox"
           }
          ],
          "scatterpolar": [
           {
            "marker": {
             "colorbar": {
              "outlinewidth": 0,
              "ticks": ""
             }
            },
            "type": "scatterpolar"
           }
          ],
          "scatterpolargl": [
           {
            "marker": {
             "colorbar": {
              "outlinewidth": 0,
              "ticks": ""
             }
            },
            "type": "scatterpolargl"
           }
          ],
          "scatterternary": [
           {
            "marker": {
             "colorbar": {
              "outlinewidth": 0,
              "ticks": ""
             }
            },
            "type": "scatterternary"
           }
          ],
          "surface": [
           {
            "colorbar": {
             "outlinewidth": 0,
             "ticks": ""
            },
            "colorscale": [
             [
              0,
              "#0d0887"
             ],
             [
              0.1111111111111111,
              "#46039f"
             ],
             [
              0.2222222222222222,
              "#7201a8"
             ],
             [
              0.3333333333333333,
              "#9c179e"
             ],
             [
              0.4444444444444444,
              "#bd3786"
             ],
             [
              0.5555555555555556,
              "#d8576b"
             ],
             [
              0.6666666666666666,
              "#ed7953"
             ],
             [
              0.7777777777777778,
              "#fb9f3a"
             ],
             [
              0.8888888888888888,
              "#fdca26"
             ],
             [
              1,
              "#f0f921"
             ]
            ],
            "type": "surface"
           }
          ],
          "table": [
           {
            "cells": {
             "fill": {
              "color": "#EBF0F8"
             },
             "line": {
              "color": "white"
             }
            },
            "header": {
             "fill": {
              "color": "#C8D4E3"
             },
             "line": {
              "color": "white"
             }
            },
            "type": "table"
           }
          ]
         },
         "layout": {
          "annotationdefaults": {
           "arrowcolor": "#2a3f5f",
           "arrowhead": 0,
           "arrowwidth": 1
          },
          "autotypenumbers": "strict",
          "coloraxis": {
           "colorbar": {
            "outlinewidth": 0,
            "ticks": ""
           }
          },
          "colorscale": {
           "diverging": [
            [
             0,
             "#8e0152"
            ],
            [
             0.1,
             "#c51b7d"
            ],
            [
             0.2,
             "#de77ae"
            ],
            [
             0.3,
             "#f1b6da"
            ],
            [
             0.4,
             "#fde0ef"
            ],
            [
             0.5,
             "#f7f7f7"
            ],
            [
             0.6,
             "#e6f5d0"
            ],
            [
             0.7,
             "#b8e186"
            ],
            [
             0.8,
             "#7fbc41"
            ],
            [
             0.9,
             "#4d9221"
            ],
            [
             1,
             "#276419"
            ]
           ],
           "sequential": [
            [
             0,
             "#0d0887"
            ],
            [
             0.1111111111111111,
             "#46039f"
            ],
            [
             0.2222222222222222,
             "#7201a8"
            ],
            [
             0.3333333333333333,
             "#9c179e"
            ],
            [
             0.4444444444444444,
             "#bd3786"
            ],
            [
             0.5555555555555556,
             "#d8576b"
            ],
            [
             0.6666666666666666,
             "#ed7953"
            ],
            [
             0.7777777777777778,
             "#fb9f3a"
            ],
            [
             0.8888888888888888,
             "#fdca26"
            ],
            [
             1,
             "#f0f921"
            ]
           ],
           "sequentialminus": [
            [
             0,
             "#0d0887"
            ],
            [
             0.1111111111111111,
             "#46039f"
            ],
            [
             0.2222222222222222,
             "#7201a8"
            ],
            [
             0.3333333333333333,
             "#9c179e"
            ],
            [
             0.4444444444444444,
             "#bd3786"
            ],
            [
             0.5555555555555556,
             "#d8576b"
            ],
            [
             0.6666666666666666,
             "#ed7953"
            ],
            [
             0.7777777777777778,
             "#fb9f3a"
            ],
            [
             0.8888888888888888,
             "#fdca26"
            ],
            [
             1,
             "#f0f921"
            ]
           ]
          },
          "colorway": [
           "#636efa",
           "#EF553B",
           "#00cc96",
           "#ab63fa",
           "#FFA15A",
           "#19d3f3",
           "#FF6692",
           "#B6E880",
           "#FF97FF",
           "#FECB52"
          ],
          "font": {
           "color": "#2a3f5f"
          },
          "geo": {
           "bgcolor": "white",
           "lakecolor": "white",
           "landcolor": "#E5ECF6",
           "showlakes": true,
           "showland": true,
           "subunitcolor": "white"
          },
          "hoverlabel": {
           "align": "left"
          },
          "hovermode": "closest",
          "mapbox": {
           "style": "light"
          },
          "paper_bgcolor": "white",
          "plot_bgcolor": "#E5ECF6",
          "polar": {
           "angularaxis": {
            "gridcolor": "white",
            "linecolor": "white",
            "ticks": ""
           },
           "bgcolor": "#E5ECF6",
           "radialaxis": {
            "gridcolor": "white",
            "linecolor": "white",
            "ticks": ""
           }
          },
          "scene": {
           "xaxis": {
            "backgroundcolor": "#E5ECF6",
            "gridcolor": "white",
            "gridwidth": 2,
            "linecolor": "white",
            "showbackground": true,
            "ticks": "",
            "zerolinecolor": "white"
           },
           "yaxis": {
            "backgroundcolor": "#E5ECF6",
            "gridcolor": "white",
            "gridwidth": 2,
            "linecolor": "white",
            "showbackground": true,
            "ticks": "",
            "zerolinecolor": "white"
           },
           "zaxis": {
            "backgroundcolor": "#E5ECF6",
            "gridcolor": "white",
            "gridwidth": 2,
            "linecolor": "white",
            "showbackground": true,
            "ticks": "",
            "zerolinecolor": "white"
           }
          },
          "shapedefaults": {
           "line": {
            "color": "#2a3f5f"
           }
          },
          "ternary": {
           "aaxis": {
            "gridcolor": "white",
            "linecolor": "white",
            "ticks": ""
           },
           "baxis": {
            "gridcolor": "white",
            "linecolor": "white",
            "ticks": ""
           },
           "bgcolor": "#E5ECF6",
           "caxis": {
            "gridcolor": "white",
            "linecolor": "white",
            "ticks": ""
           }
          },
          "title": {
           "x": 0.05
          },
          "xaxis": {
           "automargin": true,
           "gridcolor": "white",
           "linecolor": "white",
           "ticks": "",
           "title": {
            "standoff": 15
           },
           "zerolinecolor": "white",
           "zerolinewidth": 2
          },
          "yaxis": {
           "automargin": true,
           "gridcolor": "white",
           "linecolor": "white",
           "ticks": "",
           "title": {
            "standoff": 15
           },
           "zerolinecolor": "white",
           "zerolinewidth": 2
          }
         }
        },
        "title": {
         "text": "Workout Type Distribution"
        },
        "xaxis": {
         "anchor": "y",
         "domain": [
          0,
          1
         ],
         "title": {
          "text": "Workout_Type"
         }
        },
        "yaxis": {
         "anchor": "x",
         "domain": [
          0,
          1
         ],
         "title": {
          "text": "y"
         }
        }
       }
      }
     },
     "metadata": {},
     "output_type": "display_data"
    },
    {
     "data": {
      "application/vnd.plotly.v1+json": {
       "config": {
        "plotlyServerURL": "https://plot.ly"
       },
       "data": [
        {
         "mode": "number",
         "title": {
          "text": "Average Session Duration (hours)"
         },
         "type": "indicator",
         "value": 1.2594465
        }
       ],
       "layout": {
        "template": {
         "data": {
          "bar": [
           {
            "error_x": {
             "color": "#2a3f5f"
            },
            "error_y": {
             "color": "#2a3f5f"
            },
            "marker": {
             "line": {
              "color": "#E5ECF6",
              "width": 0.5
             },
             "pattern": {
              "fillmode": "overlay",
              "size": 10,
              "solidity": 0.2
             }
            },
            "type": "bar"
           }
          ],
          "barpolar": [
           {
            "marker": {
             "line": {
              "color": "#E5ECF6",
              "width": 0.5
             },
             "pattern": {
              "fillmode": "overlay",
              "size": 10,
              "solidity": 0.2
             }
            },
            "type": "barpolar"
           }
          ],
          "carpet": [
           {
            "aaxis": {
             "endlinecolor": "#2a3f5f",
             "gridcolor": "white",
             "linecolor": "white",
             "minorgridcolor": "white",
             "startlinecolor": "#2a3f5f"
            },
            "baxis": {
             "endlinecolor": "#2a3f5f",
             "gridcolor": "white",
             "linecolor": "white",
             "minorgridcolor": "white",
             "startlinecolor": "#2a3f5f"
            },
            "type": "carpet"
           }
          ],
          "choropleth": [
           {
            "colorbar": {
             "outlinewidth": 0,
             "ticks": ""
            },
            "type": "choropleth"
           }
          ],
          "contour": [
           {
            "colorbar": {
             "outlinewidth": 0,
             "ticks": ""
            },
            "colorscale": [
             [
              0,
              "#0d0887"
             ],
             [
              0.1111111111111111,
              "#46039f"
             ],
             [
              0.2222222222222222,
              "#7201a8"
             ],
             [
              0.3333333333333333,
              "#9c179e"
             ],
             [
              0.4444444444444444,
              "#bd3786"
             ],
             [
              0.5555555555555556,
              "#d8576b"
             ],
             [
              0.6666666666666666,
              "#ed7953"
             ],
             [
              0.7777777777777778,
              "#fb9f3a"
             ],
             [
              0.8888888888888888,
              "#fdca26"
             ],
             [
              1,
              "#f0f921"
             ]
            ],
            "type": "contour"
           }
          ],
          "contourcarpet": [
           {
            "colorbar": {
             "outlinewidth": 0,
             "ticks": ""
            },
            "type": "contourcarpet"
           }
          ],
          "heatmap": [
           {
            "colorbar": {
             "outlinewidth": 0,
             "ticks": ""
            },
            "colorscale": [
             [
              0,
              "#0d0887"
             ],
             [
              0.1111111111111111,
              "#46039f"
             ],
             [
              0.2222222222222222,
              "#7201a8"
             ],
             [
              0.3333333333333333,
              "#9c179e"
             ],
             [
              0.4444444444444444,
              "#bd3786"
             ],
             [
              0.5555555555555556,
              "#d8576b"
             ],
             [
              0.6666666666666666,
              "#ed7953"
             ],
             [
              0.7777777777777778,
              "#fb9f3a"
             ],
             [
              0.8888888888888888,
              "#fdca26"
             ],
             [
              1,
              "#f0f921"
             ]
            ],
            "type": "heatmap"
           }
          ],
          "histogram": [
           {
            "marker": {
             "pattern": {
              "fillmode": "overlay",
              "size": 10,
              "solidity": 0.2
             }
            },
            "type": "histogram"
           }
          ],
          "histogram2d": [
           {
            "colorbar": {
             "outlinewidth": 0,
             "ticks": ""
            },
            "colorscale": [
             [
              0,
              "#0d0887"
             ],
             [
              0.1111111111111111,
              "#46039f"
             ],
             [
              0.2222222222222222,
              "#7201a8"
             ],
             [
              0.3333333333333333,
              "#9c179e"
             ],
             [
              0.4444444444444444,
              "#bd3786"
             ],
             [
              0.5555555555555556,
              "#d8576b"
             ],
             [
              0.6666666666666666,
              "#ed7953"
             ],
             [
              0.7777777777777778,
              "#fb9f3a"
             ],
             [
              0.8888888888888888,
              "#fdca26"
             ],
             [
              1,
              "#f0f921"
             ]
            ],
            "type": "histogram2d"
           }
          ],
          "histogram2dcontour": [
           {
            "colorbar": {
             "outlinewidth": 0,
             "ticks": ""
            },
            "colorscale": [
             [
              0,
              "#0d0887"
             ],
             [
              0.1111111111111111,
              "#46039f"
             ],
             [
              0.2222222222222222,
              "#7201a8"
             ],
             [
              0.3333333333333333,
              "#9c179e"
             ],
             [
              0.4444444444444444,
              "#bd3786"
             ],
             [
              0.5555555555555556,
              "#d8576b"
             ],
             [
              0.6666666666666666,
              "#ed7953"
             ],
             [
              0.7777777777777778,
              "#fb9f3a"
             ],
             [
              0.8888888888888888,
              "#fdca26"
             ],
             [
              1,
              "#f0f921"
             ]
            ],
            "type": "histogram2dcontour"
           }
          ],
          "mesh3d": [
           {
            "colorbar": {
             "outlinewidth": 0,
             "ticks": ""
            },
            "type": "mesh3d"
           }
          ],
          "parcoords": [
           {
            "line": {
             "colorbar": {
              "outlinewidth": 0,
              "ticks": ""
             }
            },
            "type": "parcoords"
           }
          ],
          "pie": [
           {
            "automargin": true,
            "type": "pie"
           }
          ],
          "scatter": [
           {
            "fillpattern": {
             "fillmode": "overlay",
             "size": 10,
             "solidity": 0.2
            },
            "type": "scatter"
           }
          ],
          "scatter3d": [
           {
            "line": {
             "colorbar": {
              "outlinewidth": 0,
              "ticks": ""
             }
            },
            "marker": {
             "colorbar": {
              "outlinewidth": 0,
              "ticks": ""
             }
            },
            "type": "scatter3d"
           }
          ],
          "scattercarpet": [
           {
            "marker": {
             "colorbar": {
              "outlinewidth": 0,
              "ticks": ""
             }
            },
            "type": "scattercarpet"
           }
          ],
          "scattergeo": [
           {
            "marker": {
             "colorbar": {
              "outlinewidth": 0,
              "ticks": ""
             }
            },
            "type": "scattergeo"
           }
          ],
          "scattergl": [
           {
            "marker": {
             "colorbar": {
              "outlinewidth": 0,
              "ticks": ""
             }
            },
            "type": "scattergl"
           }
          ],
          "scattermap": [
           {
            "marker": {
             "colorbar": {
              "outlinewidth": 0,
              "ticks": ""
             }
            },
            "type": "scattermap"
           }
          ],
          "scattermapbox": [
           {
            "marker": {
             "colorbar": {
              "outlinewidth": 0,
              "ticks": ""
             }
            },
            "type": "scattermapbox"
           }
          ],
          "scatterpolar": [
           {
            "marker": {
             "colorbar": {
              "outlinewidth": 0,
              "ticks": ""
             }
            },
            "type": "scatterpolar"
           }
          ],
          "scatterpolargl": [
           {
            "marker": {
             "colorbar": {
              "outlinewidth": 0,
              "ticks": ""
             }
            },
            "type": "scatterpolargl"
           }
          ],
          "scatterternary": [
           {
            "marker": {
             "colorbar": {
              "outlinewidth": 0,
              "ticks": ""
             }
            },
            "type": "scatterternary"
           }
          ],
          "surface": [
           {
            "colorbar": {
             "outlinewidth": 0,
             "ticks": ""
            },
            "colorscale": [
             [
              0,
              "#0d0887"
             ],
             [
              0.1111111111111111,
              "#46039f"
             ],
             [
              0.2222222222222222,
              "#7201a8"
             ],
             [
              0.3333333333333333,
              "#9c179e"
             ],
             [
              0.4444444444444444,
              "#bd3786"
             ],
             [
              0.5555555555555556,
              "#d8576b"
             ],
             [
              0.6666666666666666,
              "#ed7953"
             ],
             [
              0.7777777777777778,
              "#fb9f3a"
             ],
             [
              0.8888888888888888,
              "#fdca26"
             ],
             [
              1,
              "#f0f921"
             ]
            ],
            "type": "surface"
           }
          ],
          "table": [
           {
            "cells": {
             "fill": {
              "color": "#EBF0F8"
             },
             "line": {
              "color": "white"
             }
            },
            "header": {
             "fill": {
              "color": "#C8D4E3"
             },
             "line": {
              "color": "white"
             }
            },
            "type": "table"
           }
          ]
         },
         "layout": {
          "annotationdefaults": {
           "arrowcolor": "#2a3f5f",
           "arrowhead": 0,
           "arrowwidth": 1
          },
          "autotypenumbers": "strict",
          "coloraxis": {
           "colorbar": {
            "outlinewidth": 0,
            "ticks": ""
           }
          },
          "colorscale": {
           "diverging": [
            [
             0,
             "#8e0152"
            ],
            [
             0.1,
             "#c51b7d"
            ],
            [
             0.2,
             "#de77ae"
            ],
            [
             0.3,
             "#f1b6da"
            ],
            [
             0.4,
             "#fde0ef"
            ],
            [
             0.5,
             "#f7f7f7"
            ],
            [
             0.6,
             "#e6f5d0"
            ],
            [
             0.7,
             "#b8e186"
            ],
            [
             0.8,
             "#7fbc41"
            ],
            [
             0.9,
             "#4d9221"
            ],
            [
             1,
             "#276419"
            ]
           ],
           "sequential": [
            [
             0,
             "#0d0887"
            ],
            [
             0.1111111111111111,
             "#46039f"
            ],
            [
             0.2222222222222222,
             "#7201a8"
            ],
            [
             0.3333333333333333,
             "#9c179e"
            ],
            [
             0.4444444444444444,
             "#bd3786"
            ],
            [
             0.5555555555555556,
             "#d8576b"
            ],
            [
             0.6666666666666666,
             "#ed7953"
            ],
            [
             0.7777777777777778,
             "#fb9f3a"
            ],
            [
             0.8888888888888888,
             "#fdca26"
            ],
            [
             1,
             "#f0f921"
            ]
           ],
           "sequentialminus": [
            [
             0,
             "#0d0887"
            ],
            [
             0.1111111111111111,
             "#46039f"
            ],
            [
             0.2222222222222222,
             "#7201a8"
            ],
            [
             0.3333333333333333,
             "#9c179e"
            ],
            [
             0.4444444444444444,
             "#bd3786"
            ],
            [
             0.5555555555555556,
             "#d8576b"
            ],
            [
             0.6666666666666666,
             "#ed7953"
            ],
            [
             0.7777777777777778,
             "#fb9f3a"
            ],
            [
             0.8888888888888888,
             "#fdca26"
            ],
            [
             1,
             "#f0f921"
            ]
           ]
          },
          "colorway": [
           "#636efa",
           "#EF553B",
           "#00cc96",
           "#ab63fa",
           "#FFA15A",
           "#19d3f3",
           "#FF6692",
           "#B6E880",
           "#FF97FF",
           "#FECB52"
          ],
          "font": {
           "color": "#2a3f5f"
          },
          "geo": {
           "bgcolor": "white",
           "lakecolor": "white",
           "landcolor": "#E5ECF6",
           "showlakes": true,
           "showland": true,
           "subunitcolor": "white"
          },
          "hoverlabel": {
           "align": "left"
          },
          "hovermode": "closest",
          "mapbox": {
           "style": "light"
          },
          "paper_bgcolor": "white",
          "plot_bgcolor": "#E5ECF6",
          "polar": {
           "angularaxis": {
            "gridcolor": "white",
            "linecolor": "white",
            "ticks": ""
           },
           "bgcolor": "#E5ECF6",
           "radialaxis": {
            "gridcolor": "white",
            "linecolor": "white",
            "ticks": ""
           }
          },
          "scene": {
           "xaxis": {
            "backgroundcolor": "#E5ECF6",
            "gridcolor": "white",
            "gridwidth": 2,
            "linecolor": "white",
            "showbackground": true,
            "ticks": "",
            "zerolinecolor": "white"
           },
           "yaxis": {
            "backgroundcolor": "#E5ECF6",
            "gridcolor": "white",
            "gridwidth": 2,
            "linecolor": "white",
            "showbackground": true,
            "ticks": "",
            "zerolinecolor": "white"
           },
           "zaxis": {
            "backgroundcolor": "#E5ECF6",
            "gridcolor": "white",
            "gridwidth": 2,
            "linecolor": "white",
            "showbackground": true,
            "ticks": "",
            "zerolinecolor": "white"
           }
          },
          "shapedefaults": {
           "line": {
            "color": "#2a3f5f"
           }
          },
          "ternary": {
           "aaxis": {
            "gridcolor": "white",
            "linecolor": "white",
            "ticks": ""
           },
           "baxis": {
            "gridcolor": "white",
            "linecolor": "white",
            "ticks": ""
           },
           "bgcolor": "#E5ECF6",
           "caxis": {
            "gridcolor": "white",
            "linecolor": "white",
            "ticks": ""
           }
          },
          "title": {
           "x": 0.05
          },
          "xaxis": {
           "automargin": true,
           "gridcolor": "white",
           "linecolor": "white",
           "ticks": "",
           "title": {
            "standoff": 15
           },
           "zerolinecolor": "white",
           "zerolinewidth": 2
          },
          "yaxis": {
           "automargin": true,
           "gridcolor": "white",
           "linecolor": "white",
           "ticks": "",
           "title": {
            "standoff": 15
           },
           "zerolinecolor": "white",
           "zerolinewidth": 2
          }
         }
        }
       }
      }
     },
     "metadata": {},
     "output_type": "display_data"
    },
    {
     "data": {
      "application/vnd.plotly.v1+json": {
       "config": {
        "plotlyServerURL": "https://plot.ly"
       },
       "data": [
        {
         "mode": "number",
         "title": {
          "text": "Average Calories Burned per Session"
         },
         "type": "indicator",
         "value": 1280.1096005
        }
       ],
       "layout": {
        "template": {
         "data": {
          "bar": [
           {
            "error_x": {
             "color": "#2a3f5f"
            },
            "error_y": {
             "color": "#2a3f5f"
            },
            "marker": {
             "line": {
              "color": "#E5ECF6",
              "width": 0.5
             },
             "pattern": {
              "fillmode": "overlay",
              "size": 10,
              "solidity": 0.2
             }
            },
            "type": "bar"
           }
          ],
          "barpolar": [
           {
            "marker": {
             "line": {
              "color": "#E5ECF6",
              "width": 0.5
             },
             "pattern": {
              "fillmode": "overlay",
              "size": 10,
              "solidity": 0.2
             }
            },
            "type": "barpolar"
           }
          ],
          "carpet": [
           {
            "aaxis": {
             "endlinecolor": "#2a3f5f",
             "gridcolor": "white",
             "linecolor": "white",
             "minorgridcolor": "white",
             "startlinecolor": "#2a3f5f"
            },
            "baxis": {
             "endlinecolor": "#2a3f5f",
             "gridcolor": "white",
             "linecolor": "white",
             "minorgridcolor": "white",
             "startlinecolor": "#2a3f5f"
            },
            "type": "carpet"
           }
          ],
          "choropleth": [
           {
            "colorbar": {
             "outlinewidth": 0,
             "ticks": ""
            },
            "type": "choropleth"
           }
          ],
          "contour": [
           {
            "colorbar": {
             "outlinewidth": 0,
             "ticks": ""
            },
            "colorscale": [
             [
              0,
              "#0d0887"
             ],
             [
              0.1111111111111111,
              "#46039f"
             ],
             [
              0.2222222222222222,
              "#7201a8"
             ],
             [
              0.3333333333333333,
              "#9c179e"
             ],
             [
              0.4444444444444444,
              "#bd3786"
             ],
             [
              0.5555555555555556,
              "#d8576b"
             ],
             [
              0.6666666666666666,
              "#ed7953"
             ],
             [
              0.7777777777777778,
              "#fb9f3a"
             ],
             [
              0.8888888888888888,
              "#fdca26"
             ],
             [
              1,
              "#f0f921"
             ]
            ],
            "type": "contour"
           }
          ],
          "contourcarpet": [
           {
            "colorbar": {
             "outlinewidth": 0,
             "ticks": ""
            },
            "type": "contourcarpet"
           }
          ],
          "heatmap": [
           {
            "colorbar": {
             "outlinewidth": 0,
             "ticks": ""
            },
            "colorscale": [
             [
              0,
              "#0d0887"
             ],
             [
              0.1111111111111111,
              "#46039f"
             ],
             [
              0.2222222222222222,
              "#7201a8"
             ],
             [
              0.3333333333333333,
              "#9c179e"
             ],
             [
              0.4444444444444444,
              "#bd3786"
             ],
             [
              0.5555555555555556,
              "#d8576b"
             ],
             [
              0.6666666666666666,
              "#ed7953"
             ],
             [
              0.7777777777777778,
              "#fb9f3a"
             ],
             [
              0.8888888888888888,
              "#fdca26"
             ],
             [
              1,
              "#f0f921"
             ]
            ],
            "type": "heatmap"
           }
          ],
          "histogram": [
           {
            "marker": {
             "pattern": {
              "fillmode": "overlay",
              "size": 10,
              "solidity": 0.2
             }
            },
            "type": "histogram"
           }
          ],
          "histogram2d": [
           {
            "colorbar": {
             "outlinewidth": 0,
             "ticks": ""
            },
            "colorscale": [
             [
              0,
              "#0d0887"
             ],
             [
              0.1111111111111111,
              "#46039f"
             ],
             [
              0.2222222222222222,
              "#7201a8"
             ],
             [
              0.3333333333333333,
              "#9c179e"
             ],
             [
              0.4444444444444444,
              "#bd3786"
             ],
             [
              0.5555555555555556,
              "#d8576b"
             ],
             [
              0.6666666666666666,
              "#ed7953"
             ],
             [
              0.7777777777777778,
              "#fb9f3a"
             ],
             [
              0.8888888888888888,
              "#fdca26"
             ],
             [
              1,
              "#f0f921"
             ]
            ],
            "type": "histogram2d"
           }
          ],
          "histogram2dcontour": [
           {
            "colorbar": {
             "outlinewidth": 0,
             "ticks": ""
            },
            "colorscale": [
             [
              0,
              "#0d0887"
             ],
             [
              0.1111111111111111,
              "#46039f"
             ],
             [
              0.2222222222222222,
              "#7201a8"
             ],
             [
              0.3333333333333333,
              "#9c179e"
             ],
             [
              0.4444444444444444,
              "#bd3786"
             ],
             [
              0.5555555555555556,
              "#d8576b"
             ],
             [
              0.6666666666666666,
              "#ed7953"
             ],
             [
              0.7777777777777778,
              "#fb9f3a"
             ],
             [
              0.8888888888888888,
              "#fdca26"
             ],
             [
              1,
              "#f0f921"
             ]
            ],
            "type": "histogram2dcontour"
           }
          ],
          "mesh3d": [
           {
            "colorbar": {
             "outlinewidth": 0,
             "ticks": ""
            },
            "type": "mesh3d"
           }
          ],
          "parcoords": [
           {
            "line": {
             "colorbar": {
              "outlinewidth": 0,
              "ticks": ""
             }
            },
            "type": "parcoords"
           }
          ],
          "pie": [
           {
            "automargin": true,
            "type": "pie"
           }
          ],
          "scatter": [
           {
            "fillpattern": {
             "fillmode": "overlay",
             "size": 10,
             "solidity": 0.2
            },
            "type": "scatter"
           }
          ],
          "scatter3d": [
           {
            "line": {
             "colorbar": {
              "outlinewidth": 0,
              "ticks": ""
             }
            },
            "marker": {
             "colorbar": {
              "outlinewidth": 0,
              "ticks": ""
             }
            },
            "type": "scatter3d"
           }
          ],
          "scattercarpet": [
           {
            "marker": {
             "colorbar": {
              "outlinewidth": 0,
              "ticks": ""
             }
            },
            "type": "scattercarpet"
           }
          ],
          "scattergeo": [
           {
            "marker": {
             "colorbar": {
              "outlinewidth": 0,
              "ticks": ""
             }
            },
            "type": "scattergeo"
           }
          ],
          "scattergl": [
           {
            "marker": {
             "colorbar": {
              "outlinewidth": 0,
              "ticks": ""
             }
            },
            "type": "scattergl"
           }
          ],
          "scattermap": [
           {
            "marker": {
             "colorbar": {
              "outlinewidth": 0,
              "ticks": ""
             }
            },
            "type": "scattermap"
           }
          ],
          "scattermapbox": [
           {
            "marker": {
             "colorbar": {
              "outlinewidth": 0,
              "ticks": ""
             }
            },
            "type": "scattermapbox"
           }
          ],
          "scatterpolar": [
           {
            "marker": {
             "colorbar": {
              "outlinewidth": 0,
              "ticks": ""
             }
            },
            "type": "scatterpolar"
           }
          ],
          "scatterpolargl": [
           {
            "marker": {
             "colorbar": {
              "outlinewidth": 0,
              "ticks": ""
             }
            },
            "type": "scatterpolargl"
           }
          ],
          "scatterternary": [
           {
            "marker": {
             "colorbar": {
              "outlinewidth": 0,
              "ticks": ""
             }
            },
            "type": "scatterternary"
           }
          ],
          "surface": [
           {
            "colorbar": {
             "outlinewidth": 0,
             "ticks": ""
            },
            "colorscale": [
             [
              0,
              "#0d0887"
             ],
             [
              0.1111111111111111,
              "#46039f"
             ],
             [
              0.2222222222222222,
              "#7201a8"
             ],
             [
              0.3333333333333333,
              "#9c179e"
             ],
             [
              0.4444444444444444,
              "#bd3786"
             ],
             [
              0.5555555555555556,
              "#d8576b"
             ],
             [
              0.6666666666666666,
              "#ed7953"
             ],
             [
              0.7777777777777778,
              "#fb9f3a"
             ],
             [
              0.8888888888888888,
              "#fdca26"
             ],
             [
              1,
              "#f0f921"
             ]
            ],
            "type": "surface"
           }
          ],
          "table": [
           {
            "cells": {
             "fill": {
              "color": "#EBF0F8"
             },
             "line": {
              "color": "white"
             }
            },
            "header": {
             "fill": {
              "color": "#C8D4E3"
             },
             "line": {
              "color": "white"
             }
            },
            "type": "table"
           }
          ]
         },
         "layout": {
          "annotationdefaults": {
           "arrowcolor": "#2a3f5f",
           "arrowhead": 0,
           "arrowwidth": 1
          },
          "autotypenumbers": "strict",
          "coloraxis": {
           "colorbar": {
            "outlinewidth": 0,
            "ticks": ""
           }
          },
          "colorscale": {
           "diverging": [
            [
             0,
             "#8e0152"
            ],
            [
             0.1,
             "#c51b7d"
            ],
            [
             0.2,
             "#de77ae"
            ],
            [
             0.3,
             "#f1b6da"
            ],
            [
             0.4,
             "#fde0ef"
            ],
            [
             0.5,
             "#f7f7f7"
            ],
            [
             0.6,
             "#e6f5d0"
            ],
            [
             0.7,
             "#b8e186"
            ],
            [
             0.8,
             "#7fbc41"
            ],
            [
             0.9,
             "#4d9221"
            ],
            [
             1,
             "#276419"
            ]
           ],
           "sequential": [
            [
             0,
             "#0d0887"
            ],
            [
             0.1111111111111111,
             "#46039f"
            ],
            [
             0.2222222222222222,
             "#7201a8"
            ],
            [
             0.3333333333333333,
             "#9c179e"
            ],
            [
             0.4444444444444444,
             "#bd3786"
            ],
            [
             0.5555555555555556,
             "#d8576b"
            ],
            [
             0.6666666666666666,
             "#ed7953"
            ],
            [
             0.7777777777777778,
             "#fb9f3a"
            ],
            [
             0.8888888888888888,
             "#fdca26"
            ],
            [
             1,
             "#f0f921"
            ]
           ],
           "sequentialminus": [
            [
             0,
             "#0d0887"
            ],
            [
             0.1111111111111111,
             "#46039f"
            ],
            [
             0.2222222222222222,
             "#7201a8"
            ],
            [
             0.3333333333333333,
             "#9c179e"
            ],
            [
             0.4444444444444444,
             "#bd3786"
            ],
            [
             0.5555555555555556,
             "#d8576b"
            ],
            [
             0.6666666666666666,
             "#ed7953"
            ],
            [
             0.7777777777777778,
             "#fb9f3a"
            ],
            [
             0.8888888888888888,
             "#fdca26"
            ],
            [
             1,
             "#f0f921"
            ]
           ]
          },
          "colorway": [
           "#636efa",
           "#EF553B",
           "#00cc96",
           "#ab63fa",
           "#FFA15A",
           "#19d3f3",
           "#FF6692",
           "#B6E880",
           "#FF97FF",
           "#FECB52"
          ],
          "font": {
           "color": "#2a3f5f"
          },
          "geo": {
           "bgcolor": "white",
           "lakecolor": "white",
           "landcolor": "#E5ECF6",
           "showlakes": true,
           "showland": true,
           "subunitcolor": "white"
          },
          "hoverlabel": {
           "align": "left"
          },
          "hovermode": "closest",
          "mapbox": {
           "style": "light"
          },
          "paper_bgcolor": "white",
          "plot_bgcolor": "#E5ECF6",
          "polar": {
           "angularaxis": {
            "gridcolor": "white",
            "linecolor": "white",
            "ticks": ""
           },
           "bgcolor": "#E5ECF6",
           "radialaxis": {
            "gridcolor": "white",
            "linecolor": "white",
            "ticks": ""
           }
          },
          "scene": {
           "xaxis": {
            "backgroundcolor": "#E5ECF6",
            "gridcolor": "white",
            "gridwidth": 2,
            "linecolor": "white",
            "showbackground": true,
            "ticks": "",
            "zerolinecolor": "white"
           },
           "yaxis": {
            "backgroundcolor": "#E5ECF6",
            "gridcolor": "white",
            "gridwidth": 2,
            "linecolor": "white",
            "showbackground": true,
            "ticks": "",
            "zerolinecolor": "white"
           },
           "zaxis": {
            "backgroundcolor": "#E5ECF6",
            "gridcolor": "white",
            "gridwidth": 2,
            "linecolor": "white",
            "showbackground": true,
            "ticks": "",
            "zerolinecolor": "white"
           }
          },
          "shapedefaults": {
           "line": {
            "color": "#2a3f5f"
           }
          },
          "ternary": {
           "aaxis": {
            "gridcolor": "white",
            "linecolor": "white",
            "ticks": ""
           },
           "baxis": {
            "gridcolor": "white",
            "linecolor": "white",
            "ticks": ""
           },
           "bgcolor": "#E5ECF6",
           "caxis": {
            "gridcolor": "white",
            "linecolor": "white",
            "ticks": ""
           }
          },
          "title": {
           "x": 0.05
          },
          "xaxis": {
           "automargin": true,
           "gridcolor": "white",
           "linecolor": "white",
           "ticks": "",
           "title": {
            "standoff": 15
           },
           "zerolinecolor": "white",
           "zerolinewidth": 2
          },
          "yaxis": {
           "automargin": true,
           "gridcolor": "white",
           "linecolor": "white",
           "ticks": "",
           "title": {
            "standoff": 15
           },
           "zerolinecolor": "white",
           "zerolinewidth": 2
          }
         }
        }
       }
      }
     },
     "metadata": {},
     "output_type": "display_data"
    }
   ],
   "source": [
    "# KPI 1: Average Calories Burned\n",
    "avg_calories = df['Calories_Burned'].mean()\n",
    "\n",
    "# KPI 2: Workout Type Counts\n",
    "workout_counts = df['Workout_Type'].value_counts()\n",
    "\n",
    "# KPI 3: Avg Heart Rate Metrics\n",
    "avg_bpm = df['Avg_BPM'].mean()\n",
    "avg_pct_maxHR = df['pct_maxHR'].mean()\n",
    "\n",
    "# Plots\n",
    "# Bar chart: Workout counts\n",
    "fig1 = px.bar(workout_counts, x=workout_counts.index, y=workout_counts.values,\n",
    "              title='Workout Type Distribution')\n",
    "fig1.show()\n",
    "\n",
    "# KPI cards using Plotly\n",
    "avg_session = df['Session_Duration_hours'].mean()\n",
    "fig_kpi1 = go.Figure(go.Indicator(\n",
    "    mode=\"number\",\n",
    "    value=avg_session,\n",
    "    title={\"text\": \"Average Session Duration (hours)\"}))\n",
    "fig_kpi1.show()\n",
    "\n",
    "fig_kpi2 = go.Figure(go.Indicator(\n",
    "    mode=\"number\",\n",
    "    value=avg_calories,\n",
    "    title={\"text\": \"Average Calories Burned per Session\"}))\n",
    "fig_kpi2.show()"
   ]
  },
  {
   "cell_type": "markdown",
   "id": "838e138b",
   "metadata": {},
   "source": [
    "## Executive Dashboard\n",
    "\n",
    "**Purpose:**  \n",
    "Provides high-level insights into user demographics, engagement trends, and overall health improvements to guide strategic business decisions.\n",
    "\n",
    "**Audience:**  \n",
    "Executives and senior leadership who need to understand the overall performance, growth, and revenue potential of the platform.\n",
    "\n",
    "**Key KPIs:**  \n",
    "- **Total Users:** Measures overall growth and platform reach.  \n",
    "- **Gender Distribution:** Identifies engagement differences across demographics for marketing strategies.  \n",
    "- **Average Lean Mass by Gender:** Indicates effectiveness of programs on health outcomes.  \n",
    "- **Average Calorie Balance:** Shows overall user adherence to diet and fitness programs, highlighting potential for upsell or premium features.\n"
   ]
  },
  {
   "cell_type": "code",
   "execution_count": 12,
   "id": "a168214c",
   "metadata": {},
   "outputs": [
    {
     "data": {
      "application/vnd.plotly.v1+json": {
       "config": {
        "plotlyServerURL": "https://plot.ly"
       },
       "data": [
        {
         "domain": {
          "x": [
           0,
           1
          ],
          "y": [
           0,
           1
          ]
         },
         "hovertemplate": "Gender=%{label}<br>value=%{value}<extra></extra>",
         "labels": [
          "Female",
          "Male"
         ],
         "legendgroup": "",
         "name": "",
         "showlegend": true,
         "type": "pie",
         "values": {
          "bdata": "LCf0Jg==",
          "dtype": "i2"
         }
        }
       ],
       "layout": {
        "legend": {
         "tracegroupgap": 0
        },
        "template": {
         "data": {
          "bar": [
           {
            "error_x": {
             "color": "#2a3f5f"
            },
            "error_y": {
             "color": "#2a3f5f"
            },
            "marker": {
             "line": {
              "color": "#E5ECF6",
              "width": 0.5
             },
             "pattern": {
              "fillmode": "overlay",
              "size": 10,
              "solidity": 0.2
             }
            },
            "type": "bar"
           }
          ],
          "barpolar": [
           {
            "marker": {
             "line": {
              "color": "#E5ECF6",
              "width": 0.5
             },
             "pattern": {
              "fillmode": "overlay",
              "size": 10,
              "solidity": 0.2
             }
            },
            "type": "barpolar"
           }
          ],
          "carpet": [
           {
            "aaxis": {
             "endlinecolor": "#2a3f5f",
             "gridcolor": "white",
             "linecolor": "white",
             "minorgridcolor": "white",
             "startlinecolor": "#2a3f5f"
            },
            "baxis": {
             "endlinecolor": "#2a3f5f",
             "gridcolor": "white",
             "linecolor": "white",
             "minorgridcolor": "white",
             "startlinecolor": "#2a3f5f"
            },
            "type": "carpet"
           }
          ],
          "choropleth": [
           {
            "colorbar": {
             "outlinewidth": 0,
             "ticks": ""
            },
            "type": "choropleth"
           }
          ],
          "contour": [
           {
            "colorbar": {
             "outlinewidth": 0,
             "ticks": ""
            },
            "colorscale": [
             [
              0,
              "#0d0887"
             ],
             [
              0.1111111111111111,
              "#46039f"
             ],
             [
              0.2222222222222222,
              "#7201a8"
             ],
             [
              0.3333333333333333,
              "#9c179e"
             ],
             [
              0.4444444444444444,
              "#bd3786"
             ],
             [
              0.5555555555555556,
              "#d8576b"
             ],
             [
              0.6666666666666666,
              "#ed7953"
             ],
             [
              0.7777777777777778,
              "#fb9f3a"
             ],
             [
              0.8888888888888888,
              "#fdca26"
             ],
             [
              1,
              "#f0f921"
             ]
            ],
            "type": "contour"
           }
          ],
          "contourcarpet": [
           {
            "colorbar": {
             "outlinewidth": 0,
             "ticks": ""
            },
            "type": "contourcarpet"
           }
          ],
          "heatmap": [
           {
            "colorbar": {
             "outlinewidth": 0,
             "ticks": ""
            },
            "colorscale": [
             [
              0,
              "#0d0887"
             ],
             [
              0.1111111111111111,
              "#46039f"
             ],
             [
              0.2222222222222222,
              "#7201a8"
             ],
             [
              0.3333333333333333,
              "#9c179e"
             ],
             [
              0.4444444444444444,
              "#bd3786"
             ],
             [
              0.5555555555555556,
              "#d8576b"
             ],
             [
              0.6666666666666666,
              "#ed7953"
             ],
             [
              0.7777777777777778,
              "#fb9f3a"
             ],
             [
              0.8888888888888888,
              "#fdca26"
             ],
             [
              1,
              "#f0f921"
             ]
            ],
            "type": "heatmap"
           }
          ],
          "histogram": [
           {
            "marker": {
             "pattern": {
              "fillmode": "overlay",
              "size": 10,
              "solidity": 0.2
             }
            },
            "type": "histogram"
           }
          ],
          "histogram2d": [
           {
            "colorbar": {
             "outlinewidth": 0,
             "ticks": ""
            },
            "colorscale": [
             [
              0,
              "#0d0887"
             ],
             [
              0.1111111111111111,
              "#46039f"
             ],
             [
              0.2222222222222222,
              "#7201a8"
             ],
             [
              0.3333333333333333,
              "#9c179e"
             ],
             [
              0.4444444444444444,
              "#bd3786"
             ],
             [
              0.5555555555555556,
              "#d8576b"
             ],
             [
              0.6666666666666666,
              "#ed7953"
             ],
             [
              0.7777777777777778,
              "#fb9f3a"
             ],
             [
              0.8888888888888888,
              "#fdca26"
             ],
             [
              1,
              "#f0f921"
             ]
            ],
            "type": "histogram2d"
           }
          ],
          "histogram2dcontour": [
           {
            "colorbar": {
             "outlinewidth": 0,
             "ticks": ""
            },
            "colorscale": [
             [
              0,
              "#0d0887"
             ],
             [
              0.1111111111111111,
              "#46039f"
             ],
             [
              0.2222222222222222,
              "#7201a8"
             ],
             [
              0.3333333333333333,
              "#9c179e"
             ],
             [
              0.4444444444444444,
              "#bd3786"
             ],
             [
              0.5555555555555556,
              "#d8576b"
             ],
             [
              0.6666666666666666,
              "#ed7953"
             ],
             [
              0.7777777777777778,
              "#fb9f3a"
             ],
             [
              0.8888888888888888,
              "#fdca26"
             ],
             [
              1,
              "#f0f921"
             ]
            ],
            "type": "histogram2dcontour"
           }
          ],
          "mesh3d": [
           {
            "colorbar": {
             "outlinewidth": 0,
             "ticks": ""
            },
            "type": "mesh3d"
           }
          ],
          "parcoords": [
           {
            "line": {
             "colorbar": {
              "outlinewidth": 0,
              "ticks": ""
             }
            },
            "type": "parcoords"
           }
          ],
          "pie": [
           {
            "automargin": true,
            "type": "pie"
           }
          ],
          "scatter": [
           {
            "fillpattern": {
             "fillmode": "overlay",
             "size": 10,
             "solidity": 0.2
            },
            "type": "scatter"
           }
          ],
          "scatter3d": [
           {
            "line": {
             "colorbar": {
              "outlinewidth": 0,
              "ticks": ""
             }
            },
            "marker": {
             "colorbar": {
              "outlinewidth": 0,
              "ticks": ""
             }
            },
            "type": "scatter3d"
           }
          ],
          "scattercarpet": [
           {
            "marker": {
             "colorbar": {
              "outlinewidth": 0,
              "ticks": ""
             }
            },
            "type": "scattercarpet"
           }
          ],
          "scattergeo": [
           {
            "marker": {
             "colorbar": {
              "outlinewidth": 0,
              "ticks": ""
             }
            },
            "type": "scattergeo"
           }
          ],
          "scattergl": [
           {
            "marker": {
             "colorbar": {
              "outlinewidth": 0,
              "ticks": ""
             }
            },
            "type": "scattergl"
           }
          ],
          "scattermap": [
           {
            "marker": {
             "colorbar": {
              "outlinewidth": 0,
              "ticks": ""
             }
            },
            "type": "scattermap"
           }
          ],
          "scattermapbox": [
           {
            "marker": {
             "colorbar": {
              "outlinewidth": 0,
              "ticks": ""
             }
            },
            "type": "scattermapbox"
           }
          ],
          "scatterpolar": [
           {
            "marker": {
             "colorbar": {
              "outlinewidth": 0,
              "ticks": ""
             }
            },
            "type": "scatterpolar"
           }
          ],
          "scatterpolargl": [
           {
            "marker": {
             "colorbar": {
              "outlinewidth": 0,
              "ticks": ""
             }
            },
            "type": "scatterpolargl"
           }
          ],
          "scatterternary": [
           {
            "marker": {
             "colorbar": {
              "outlinewidth": 0,
              "ticks": ""
             }
            },
            "type": "scatterternary"
           }
          ],
          "surface": [
           {
            "colorbar": {
             "outlinewidth": 0,
             "ticks": ""
            },
            "colorscale": [
             [
              0,
              "#0d0887"
             ],
             [
              0.1111111111111111,
              "#46039f"
             ],
             [
              0.2222222222222222,
              "#7201a8"
             ],
             [
              0.3333333333333333,
              "#9c179e"
             ],
             [
              0.4444444444444444,
              "#bd3786"
             ],
             [
              0.5555555555555556,
              "#d8576b"
             ],
             [
              0.6666666666666666,
              "#ed7953"
             ],
             [
              0.7777777777777778,
              "#fb9f3a"
             ],
             [
              0.8888888888888888,
              "#fdca26"
             ],
             [
              1,
              "#f0f921"
             ]
            ],
            "type": "surface"
           }
          ],
          "table": [
           {
            "cells": {
             "fill": {
              "color": "#EBF0F8"
             },
             "line": {
              "color": "white"
             }
            },
            "header": {
             "fill": {
              "color": "#C8D4E3"
             },
             "line": {
              "color": "white"
             }
            },
            "type": "table"
           }
          ]
         },
         "layout": {
          "annotationdefaults": {
           "arrowcolor": "#2a3f5f",
           "arrowhead": 0,
           "arrowwidth": 1
          },
          "autotypenumbers": "strict",
          "coloraxis": {
           "colorbar": {
            "outlinewidth": 0,
            "ticks": ""
           }
          },
          "colorscale": {
           "diverging": [
            [
             0,
             "#8e0152"
            ],
            [
             0.1,
             "#c51b7d"
            ],
            [
             0.2,
             "#de77ae"
            ],
            [
             0.3,
             "#f1b6da"
            ],
            [
             0.4,
             "#fde0ef"
            ],
            [
             0.5,
             "#f7f7f7"
            ],
            [
             0.6,
             "#e6f5d0"
            ],
            [
             0.7,
             "#b8e186"
            ],
            [
             0.8,
             "#7fbc41"
            ],
            [
             0.9,
             "#4d9221"
            ],
            [
             1,
             "#276419"
            ]
           ],
           "sequential": [
            [
             0,
             "#0d0887"
            ],
            [
             0.1111111111111111,
             "#46039f"
            ],
            [
             0.2222222222222222,
             "#7201a8"
            ],
            [
             0.3333333333333333,
             "#9c179e"
            ],
            [
             0.4444444444444444,
             "#bd3786"
            ],
            [
             0.5555555555555556,
             "#d8576b"
            ],
            [
             0.6666666666666666,
             "#ed7953"
            ],
            [
             0.7777777777777778,
             "#fb9f3a"
            ],
            [
             0.8888888888888888,
             "#fdca26"
            ],
            [
             1,
             "#f0f921"
            ]
           ],
           "sequentialminus": [
            [
             0,
             "#0d0887"
            ],
            [
             0.1111111111111111,
             "#46039f"
            ],
            [
             0.2222222222222222,
             "#7201a8"
            ],
            [
             0.3333333333333333,
             "#9c179e"
            ],
            [
             0.4444444444444444,
             "#bd3786"
            ],
            [
             0.5555555555555556,
             "#d8576b"
            ],
            [
             0.6666666666666666,
             "#ed7953"
            ],
            [
             0.7777777777777778,
             "#fb9f3a"
            ],
            [
             0.8888888888888888,
             "#fdca26"
            ],
            [
             1,
             "#f0f921"
            ]
           ]
          },
          "colorway": [
           "#636efa",
           "#EF553B",
           "#00cc96",
           "#ab63fa",
           "#FFA15A",
           "#19d3f3",
           "#FF6692",
           "#B6E880",
           "#FF97FF",
           "#FECB52"
          ],
          "font": {
           "color": "#2a3f5f"
          },
          "geo": {
           "bgcolor": "white",
           "lakecolor": "white",
           "landcolor": "#E5ECF6",
           "showlakes": true,
           "showland": true,
           "subunitcolor": "white"
          },
          "hoverlabel": {
           "align": "left"
          },
          "hovermode": "closest",
          "mapbox": {
           "style": "light"
          },
          "paper_bgcolor": "white",
          "plot_bgcolor": "#E5ECF6",
          "polar": {
           "angularaxis": {
            "gridcolor": "white",
            "linecolor": "white",
            "ticks": ""
           },
           "bgcolor": "#E5ECF6",
           "radialaxis": {
            "gridcolor": "white",
            "linecolor": "white",
            "ticks": ""
           }
          },
          "scene": {
           "xaxis": {
            "backgroundcolor": "#E5ECF6",
            "gridcolor": "white",
            "gridwidth": 2,
            "linecolor": "white",
            "showbackground": true,
            "ticks": "",
            "zerolinecolor": "white"
           },
           "yaxis": {
            "backgroundcolor": "#E5ECF6",
            "gridcolor": "white",
            "gridwidth": 2,
            "linecolor": "white",
            "showbackground": true,
            "ticks": "",
            "zerolinecolor": "white"
           },
           "zaxis": {
            "backgroundcolor": "#E5ECF6",
            "gridcolor": "white",
            "gridwidth": 2,
            "linecolor": "white",
            "showbackground": true,
            "ticks": "",
            "zerolinecolor": "white"
           }
          },
          "shapedefaults": {
           "line": {
            "color": "#2a3f5f"
           }
          },
          "ternary": {
           "aaxis": {
            "gridcolor": "white",
            "linecolor": "white",
            "ticks": ""
           },
           "baxis": {
            "gridcolor": "white",
            "linecolor": "white",
            "ticks": ""
           },
           "bgcolor": "#E5ECF6",
           "caxis": {
            "gridcolor": "white",
            "linecolor": "white",
            "ticks": ""
           }
          },
          "title": {
           "x": 0.05
          },
          "xaxis": {
           "automargin": true,
           "gridcolor": "white",
           "linecolor": "white",
           "ticks": "",
           "title": {
            "standoff": 15
           },
           "zerolinecolor": "white",
           "zerolinewidth": 2
          },
          "yaxis": {
           "automargin": true,
           "gridcolor": "white",
           "linecolor": "white",
           "ticks": "",
           "title": {
            "standoff": 15
           },
           "zerolinecolor": "white",
           "zerolinewidth": 2
          }
         }
        },
        "title": {
         "text": "User Gender Distribution"
        }
       }
      }
     },
     "metadata": {},
     "output_type": "display_data"
    },
    {
     "data": {
      "application/vnd.plotly.v1+json": {
       "config": {
        "plotlyServerURL": "https://plot.ly"
       },
       "data": [
        {
         "hovertemplate": "Gender=%{x}<br>lean_mass_kg=%{text}<extra></extra>",
         "legendgroup": "",
         "marker": {
          "color": "#636efa",
          "pattern": {
           "shape": ""
          }
         },
         "name": "",
         "orientation": "v",
         "showlegend": false,
         "text": {
          "bdata": "jMV/18TdSkCYp1uDletKQA==",
          "dtype": "f8"
         },
         "textposition": "outside",
         "texttemplate": "%{text:.2f} kg",
         "type": "bar",
         "x": [
          "Female",
          "Male"
         ],
         "xaxis": "x",
         "y": {
          "bdata": "jMV/18TdSkCYp1uDletKQA==",
          "dtype": "f8"
         },
         "yaxis": "y"
        }
       ],
       "layout": {
        "barmode": "relative",
        "legend": {
         "tracegroupgap": 0
        },
        "template": {
         "data": {
          "bar": [
           {
            "error_x": {
             "color": "#2a3f5f"
            },
            "error_y": {
             "color": "#2a3f5f"
            },
            "marker": {
             "line": {
              "color": "#E5ECF6",
              "width": 0.5
             },
             "pattern": {
              "fillmode": "overlay",
              "size": 10,
              "solidity": 0.2
             }
            },
            "type": "bar"
           }
          ],
          "barpolar": [
           {
            "marker": {
             "line": {
              "color": "#E5ECF6",
              "width": 0.5
             },
             "pattern": {
              "fillmode": "overlay",
              "size": 10,
              "solidity": 0.2
             }
            },
            "type": "barpolar"
           }
          ],
          "carpet": [
           {
            "aaxis": {
             "endlinecolor": "#2a3f5f",
             "gridcolor": "white",
             "linecolor": "white",
             "minorgridcolor": "white",
             "startlinecolor": "#2a3f5f"
            },
            "baxis": {
             "endlinecolor": "#2a3f5f",
             "gridcolor": "white",
             "linecolor": "white",
             "minorgridcolor": "white",
             "startlinecolor": "#2a3f5f"
            },
            "type": "carpet"
           }
          ],
          "choropleth": [
           {
            "colorbar": {
             "outlinewidth": 0,
             "ticks": ""
            },
            "type": "choropleth"
           }
          ],
          "contour": [
           {
            "colorbar": {
             "outlinewidth": 0,
             "ticks": ""
            },
            "colorscale": [
             [
              0,
              "#0d0887"
             ],
             [
              0.1111111111111111,
              "#46039f"
             ],
             [
              0.2222222222222222,
              "#7201a8"
             ],
             [
              0.3333333333333333,
              "#9c179e"
             ],
             [
              0.4444444444444444,
              "#bd3786"
             ],
             [
              0.5555555555555556,
              "#d8576b"
             ],
             [
              0.6666666666666666,
              "#ed7953"
             ],
             [
              0.7777777777777778,
              "#fb9f3a"
             ],
             [
              0.8888888888888888,
              "#fdca26"
             ],
             [
              1,
              "#f0f921"
             ]
            ],
            "type": "contour"
           }
          ],
          "contourcarpet": [
           {
            "colorbar": {
             "outlinewidth": 0,
             "ticks": ""
            },
            "type": "contourcarpet"
           }
          ],
          "heatmap": [
           {
            "colorbar": {
             "outlinewidth": 0,
             "ticks": ""
            },
            "colorscale": [
             [
              0,
              "#0d0887"
             ],
             [
              0.1111111111111111,
              "#46039f"
             ],
             [
              0.2222222222222222,
              "#7201a8"
             ],
             [
              0.3333333333333333,
              "#9c179e"
             ],
             [
              0.4444444444444444,
              "#bd3786"
             ],
             [
              0.5555555555555556,
              "#d8576b"
             ],
             [
              0.6666666666666666,
              "#ed7953"
             ],
             [
              0.7777777777777778,
              "#fb9f3a"
             ],
             [
              0.8888888888888888,
              "#fdca26"
             ],
             [
              1,
              "#f0f921"
             ]
            ],
            "type": "heatmap"
           }
          ],
          "histogram": [
           {
            "marker": {
             "pattern": {
              "fillmode": "overlay",
              "size": 10,
              "solidity": 0.2
             }
            },
            "type": "histogram"
           }
          ],
          "histogram2d": [
           {
            "colorbar": {
             "outlinewidth": 0,
             "ticks": ""
            },
            "colorscale": [
             [
              0,
              "#0d0887"
             ],
             [
              0.1111111111111111,
              "#46039f"
             ],
             [
              0.2222222222222222,
              "#7201a8"
             ],
             [
              0.3333333333333333,
              "#9c179e"
             ],
             [
              0.4444444444444444,
              "#bd3786"
             ],
             [
              0.5555555555555556,
              "#d8576b"
             ],
             [
              0.6666666666666666,
              "#ed7953"
             ],
             [
              0.7777777777777778,
              "#fb9f3a"
             ],
             [
              0.8888888888888888,
              "#fdca26"
             ],
             [
              1,
              "#f0f921"
             ]
            ],
            "type": "histogram2d"
           }
          ],
          "histogram2dcontour": [
           {
            "colorbar": {
             "outlinewidth": 0,
             "ticks": ""
            },
            "colorscale": [
             [
              0,
              "#0d0887"
             ],
             [
              0.1111111111111111,
              "#46039f"
             ],
             [
              0.2222222222222222,
              "#7201a8"
             ],
             [
              0.3333333333333333,
              "#9c179e"
             ],
             [
              0.4444444444444444,
              "#bd3786"
             ],
             [
              0.5555555555555556,
              "#d8576b"
             ],
             [
              0.6666666666666666,
              "#ed7953"
             ],
             [
              0.7777777777777778,
              "#fb9f3a"
             ],
             [
              0.8888888888888888,
              "#fdca26"
             ],
             [
              1,
              "#f0f921"
             ]
            ],
            "type": "histogram2dcontour"
           }
          ],
          "mesh3d": [
           {
            "colorbar": {
             "outlinewidth": 0,
             "ticks": ""
            },
            "type": "mesh3d"
           }
          ],
          "parcoords": [
           {
            "line": {
             "colorbar": {
              "outlinewidth": 0,
              "ticks": ""
             }
            },
            "type": "parcoords"
           }
          ],
          "pie": [
           {
            "automargin": true,
            "type": "pie"
           }
          ],
          "scatter": [
           {
            "fillpattern": {
             "fillmode": "overlay",
             "size": 10,
             "solidity": 0.2
            },
            "type": "scatter"
           }
          ],
          "scatter3d": [
           {
            "line": {
             "colorbar": {
              "outlinewidth": 0,
              "ticks": ""
             }
            },
            "marker": {
             "colorbar": {
              "outlinewidth": 0,
              "ticks": ""
             }
            },
            "type": "scatter3d"
           }
          ],
          "scattercarpet": [
           {
            "marker": {
             "colorbar": {
              "outlinewidth": 0,
              "ticks": ""
             }
            },
            "type": "scattercarpet"
           }
          ],
          "scattergeo": [
           {
            "marker": {
             "colorbar": {
              "outlinewidth": 0,
              "ticks": ""
             }
            },
            "type": "scattergeo"
           }
          ],
          "scattergl": [
           {
            "marker": {
             "colorbar": {
              "outlinewidth": 0,
              "ticks": ""
             }
            },
            "type": "scattergl"
           }
          ],
          "scattermap": [
           {
            "marker": {
             "colorbar": {
              "outlinewidth": 0,
              "ticks": ""
             }
            },
            "type": "scattermap"
           }
          ],
          "scattermapbox": [
           {
            "marker": {
             "colorbar": {
              "outlinewidth": 0,
              "ticks": ""
             }
            },
            "type": "scattermapbox"
           }
          ],
          "scatterpolar": [
           {
            "marker": {
             "colorbar": {
              "outlinewidth": 0,
              "ticks": ""
             }
            },
            "type": "scatterpolar"
           }
          ],
          "scatterpolargl": [
           {
            "marker": {
             "colorbar": {
              "outlinewidth": 0,
              "ticks": ""
             }
            },
            "type": "scatterpolargl"
           }
          ],
          "scatterternary": [
           {
            "marker": {
             "colorbar": {
              "outlinewidth": 0,
              "ticks": ""
             }
            },
            "type": "scatterternary"
           }
          ],
          "surface": [
           {
            "colorbar": {
             "outlinewidth": 0,
             "ticks": ""
            },
            "colorscale": [
             [
              0,
              "#0d0887"
             ],
             [
              0.1111111111111111,
              "#46039f"
             ],
             [
              0.2222222222222222,
              "#7201a8"
             ],
             [
              0.3333333333333333,
              "#9c179e"
             ],
             [
              0.4444444444444444,
              "#bd3786"
             ],
             [
              0.5555555555555556,
              "#d8576b"
             ],
             [
              0.6666666666666666,
              "#ed7953"
             ],
             [
              0.7777777777777778,
              "#fb9f3a"
             ],
             [
              0.8888888888888888,
              "#fdca26"
             ],
             [
              1,
              "#f0f921"
             ]
            ],
            "type": "surface"
           }
          ],
          "table": [
           {
            "cells": {
             "fill": {
              "color": "#EBF0F8"
             },
             "line": {
              "color": "white"
             }
            },
            "header": {
             "fill": {
              "color": "#C8D4E3"
             },
             "line": {
              "color": "white"
             }
            },
            "type": "table"
           }
          ]
         },
         "layout": {
          "annotationdefaults": {
           "arrowcolor": "#2a3f5f",
           "arrowhead": 0,
           "arrowwidth": 1
          },
          "autotypenumbers": "strict",
          "coloraxis": {
           "colorbar": {
            "outlinewidth": 0,
            "ticks": ""
           }
          },
          "colorscale": {
           "diverging": [
            [
             0,
             "#8e0152"
            ],
            [
             0.1,
             "#c51b7d"
            ],
            [
             0.2,
             "#de77ae"
            ],
            [
             0.3,
             "#f1b6da"
            ],
            [
             0.4,
             "#fde0ef"
            ],
            [
             0.5,
             "#f7f7f7"
            ],
            [
             0.6,
             "#e6f5d0"
            ],
            [
             0.7,
             "#b8e186"
            ],
            [
             0.8,
             "#7fbc41"
            ],
            [
             0.9,
             "#4d9221"
            ],
            [
             1,
             "#276419"
            ]
           ],
           "sequential": [
            [
             0,
             "#0d0887"
            ],
            [
             0.1111111111111111,
             "#46039f"
            ],
            [
             0.2222222222222222,
             "#7201a8"
            ],
            [
             0.3333333333333333,
             "#9c179e"
            ],
            [
             0.4444444444444444,
             "#bd3786"
            ],
            [
             0.5555555555555556,
             "#d8576b"
            ],
            [
             0.6666666666666666,
             "#ed7953"
            ],
            [
             0.7777777777777778,
             "#fb9f3a"
            ],
            [
             0.8888888888888888,
             "#fdca26"
            ],
            [
             1,
             "#f0f921"
            ]
           ],
           "sequentialminus": [
            [
             0,
             "#0d0887"
            ],
            [
             0.1111111111111111,
             "#46039f"
            ],
            [
             0.2222222222222222,
             "#7201a8"
            ],
            [
             0.3333333333333333,
             "#9c179e"
            ],
            [
             0.4444444444444444,
             "#bd3786"
            ],
            [
             0.5555555555555556,
             "#d8576b"
            ],
            [
             0.6666666666666666,
             "#ed7953"
            ],
            [
             0.7777777777777778,
             "#fb9f3a"
            ],
            [
             0.8888888888888888,
             "#fdca26"
            ],
            [
             1,
             "#f0f921"
            ]
           ]
          },
          "colorway": [
           "#636efa",
           "#EF553B",
           "#00cc96",
           "#ab63fa",
           "#FFA15A",
           "#19d3f3",
           "#FF6692",
           "#B6E880",
           "#FF97FF",
           "#FECB52"
          ],
          "font": {
           "color": "#2a3f5f"
          },
          "geo": {
           "bgcolor": "white",
           "lakecolor": "white",
           "landcolor": "#E5ECF6",
           "showlakes": true,
           "showland": true,
           "subunitcolor": "white"
          },
          "hoverlabel": {
           "align": "left"
          },
          "hovermode": "closest",
          "mapbox": {
           "style": "light"
          },
          "paper_bgcolor": "white",
          "plot_bgcolor": "#E5ECF6",
          "polar": {
           "angularaxis": {
            "gridcolor": "white",
            "linecolor": "white",
            "ticks": ""
           },
           "bgcolor": "#E5ECF6",
           "radialaxis": {
            "gridcolor": "white",
            "linecolor": "white",
            "ticks": ""
           }
          },
          "scene": {
           "xaxis": {
            "backgroundcolor": "#E5ECF6",
            "gridcolor": "white",
            "gridwidth": 2,
            "linecolor": "white",
            "showbackground": true,
            "ticks": "",
            "zerolinecolor": "white"
           },
           "yaxis": {
            "backgroundcolor": "#E5ECF6",
            "gridcolor": "white",
            "gridwidth": 2,
            "linecolor": "white",
            "showbackground": true,
            "ticks": "",
            "zerolinecolor": "white"
           },
           "zaxis": {
            "backgroundcolor": "#E5ECF6",
            "gridcolor": "white",
            "gridwidth": 2,
            "linecolor": "white",
            "showbackground": true,
            "ticks": "",
            "zerolinecolor": "white"
           }
          },
          "shapedefaults": {
           "line": {
            "color": "#2a3f5f"
           }
          },
          "ternary": {
           "aaxis": {
            "gridcolor": "white",
            "linecolor": "white",
            "ticks": ""
           },
           "baxis": {
            "gridcolor": "white",
            "linecolor": "white",
            "ticks": ""
           },
           "bgcolor": "#E5ECF6",
           "caxis": {
            "gridcolor": "white",
            "linecolor": "white",
            "ticks": ""
           }
          },
          "title": {
           "x": 0.05
          },
          "xaxis": {
           "automargin": true,
           "gridcolor": "white",
           "linecolor": "white",
           "ticks": "",
           "title": {
            "standoff": 15
           },
           "zerolinecolor": "white",
           "zerolinewidth": 2
          },
          "yaxis": {
           "automargin": true,
           "gridcolor": "white",
           "linecolor": "white",
           "ticks": "",
           "title": {
            "standoff": 15
           },
           "zerolinecolor": "white",
           "zerolinewidth": 2
          }
         }
        },
        "title": {
         "text": "Average Lean Mass by Gender"
        },
        "xaxis": {
         "anchor": "y",
         "domain": [
          0,
          1
         ],
         "title": {
          "text": "Gender"
         }
        },
        "yaxis": {
         "anchor": "x",
         "domain": [
          0,
          1
         ],
         "title": {
          "text": "Lean Mass (kg)"
         }
        }
       }
      }
     },
     "metadata": {},
     "output_type": "display_data"
    },
    {
     "data": {
      "application/vnd.plotly.v1+json": {
       "config": {
        "plotlyServerURL": "https://plot.ly"
       },
       "data": [
        {
         "mode": "number",
         "title": {
          "text": "Total Users"
         },
         "type": "indicator",
         "value": 20000
        }
       ],
       "layout": {
        "template": {
         "data": {
          "bar": [
           {
            "error_x": {
             "color": "#2a3f5f"
            },
            "error_y": {
             "color": "#2a3f5f"
            },
            "marker": {
             "line": {
              "color": "#E5ECF6",
              "width": 0.5
             },
             "pattern": {
              "fillmode": "overlay",
              "size": 10,
              "solidity": 0.2
             }
            },
            "type": "bar"
           }
          ],
          "barpolar": [
           {
            "marker": {
             "line": {
              "color": "#E5ECF6",
              "width": 0.5
             },
             "pattern": {
              "fillmode": "overlay",
              "size": 10,
              "solidity": 0.2
             }
            },
            "type": "barpolar"
           }
          ],
          "carpet": [
           {
            "aaxis": {
             "endlinecolor": "#2a3f5f",
             "gridcolor": "white",
             "linecolor": "white",
             "minorgridcolor": "white",
             "startlinecolor": "#2a3f5f"
            },
            "baxis": {
             "endlinecolor": "#2a3f5f",
             "gridcolor": "white",
             "linecolor": "white",
             "minorgridcolor": "white",
             "startlinecolor": "#2a3f5f"
            },
            "type": "carpet"
           }
          ],
          "choropleth": [
           {
            "colorbar": {
             "outlinewidth": 0,
             "ticks": ""
            },
            "type": "choropleth"
           }
          ],
          "contour": [
           {
            "colorbar": {
             "outlinewidth": 0,
             "ticks": ""
            },
            "colorscale": [
             [
              0,
              "#0d0887"
             ],
             [
              0.1111111111111111,
              "#46039f"
             ],
             [
              0.2222222222222222,
              "#7201a8"
             ],
             [
              0.3333333333333333,
              "#9c179e"
             ],
             [
              0.4444444444444444,
              "#bd3786"
             ],
             [
              0.5555555555555556,
              "#d8576b"
             ],
             [
              0.6666666666666666,
              "#ed7953"
             ],
             [
              0.7777777777777778,
              "#fb9f3a"
             ],
             [
              0.8888888888888888,
              "#fdca26"
             ],
             [
              1,
              "#f0f921"
             ]
            ],
            "type": "contour"
           }
          ],
          "contourcarpet": [
           {
            "colorbar": {
             "outlinewidth": 0,
             "ticks": ""
            },
            "type": "contourcarpet"
           }
          ],
          "heatmap": [
           {
            "colorbar": {
             "outlinewidth": 0,
             "ticks": ""
            },
            "colorscale": [
             [
              0,
              "#0d0887"
             ],
             [
              0.1111111111111111,
              "#46039f"
             ],
             [
              0.2222222222222222,
              "#7201a8"
             ],
             [
              0.3333333333333333,
              "#9c179e"
             ],
             [
              0.4444444444444444,
              "#bd3786"
             ],
             [
              0.5555555555555556,
              "#d8576b"
             ],
             [
              0.6666666666666666,
              "#ed7953"
             ],
             [
              0.7777777777777778,
              "#fb9f3a"
             ],
             [
              0.8888888888888888,
              "#fdca26"
             ],
             [
              1,
              "#f0f921"
             ]
            ],
            "type": "heatmap"
           }
          ],
          "histogram": [
           {
            "marker": {
             "pattern": {
              "fillmode": "overlay",
              "size": 10,
              "solidity": 0.2
             }
            },
            "type": "histogram"
           }
          ],
          "histogram2d": [
           {
            "colorbar": {
             "outlinewidth": 0,
             "ticks": ""
            },
            "colorscale": [
             [
              0,
              "#0d0887"
             ],
             [
              0.1111111111111111,
              "#46039f"
             ],
             [
              0.2222222222222222,
              "#7201a8"
             ],
             [
              0.3333333333333333,
              "#9c179e"
             ],
             [
              0.4444444444444444,
              "#bd3786"
             ],
             [
              0.5555555555555556,
              "#d8576b"
             ],
             [
              0.6666666666666666,
              "#ed7953"
             ],
             [
              0.7777777777777778,
              "#fb9f3a"
             ],
             [
              0.8888888888888888,
              "#fdca26"
             ],
             [
              1,
              "#f0f921"
             ]
            ],
            "type": "histogram2d"
           }
          ],
          "histogram2dcontour": [
           {
            "colorbar": {
             "outlinewidth": 0,
             "ticks": ""
            },
            "colorscale": [
             [
              0,
              "#0d0887"
             ],
             [
              0.1111111111111111,
              "#46039f"
             ],
             [
              0.2222222222222222,
              "#7201a8"
             ],
             [
              0.3333333333333333,
              "#9c179e"
             ],
             [
              0.4444444444444444,
              "#bd3786"
             ],
             [
              0.5555555555555556,
              "#d8576b"
             ],
             [
              0.6666666666666666,
              "#ed7953"
             ],
             [
              0.7777777777777778,
              "#fb9f3a"
             ],
             [
              0.8888888888888888,
              "#fdca26"
             ],
             [
              1,
              "#f0f921"
             ]
            ],
            "type": "histogram2dcontour"
           }
          ],
          "mesh3d": [
           {
            "colorbar": {
             "outlinewidth": 0,
             "ticks": ""
            },
            "type": "mesh3d"
           }
          ],
          "parcoords": [
           {
            "line": {
             "colorbar": {
              "outlinewidth": 0,
              "ticks": ""
             }
            },
            "type": "parcoords"
           }
          ],
          "pie": [
           {
            "automargin": true,
            "type": "pie"
           }
          ],
          "scatter": [
           {
            "fillpattern": {
             "fillmode": "overlay",
             "size": 10,
             "solidity": 0.2
            },
            "type": "scatter"
           }
          ],
          "scatter3d": [
           {
            "line": {
             "colorbar": {
              "outlinewidth": 0,
              "ticks": ""
             }
            },
            "marker": {
             "colorbar": {
              "outlinewidth": 0,
              "ticks": ""
             }
            },
            "type": "scatter3d"
           }
          ],
          "scattercarpet": [
           {
            "marker": {
             "colorbar": {
              "outlinewidth": 0,
              "ticks": ""
             }
            },
            "type": "scattercarpet"
           }
          ],
          "scattergeo": [
           {
            "marker": {
             "colorbar": {
              "outlinewidth": 0,
              "ticks": ""
             }
            },
            "type": "scattergeo"
           }
          ],
          "scattergl": [
           {
            "marker": {
             "colorbar": {
              "outlinewidth": 0,
              "ticks": ""
             }
            },
            "type": "scattergl"
           }
          ],
          "scattermap": [
           {
            "marker": {
             "colorbar": {
              "outlinewidth": 0,
              "ticks": ""
             }
            },
            "type": "scattermap"
           }
          ],
          "scattermapbox": [
           {
            "marker": {
             "colorbar": {
              "outlinewidth": 0,
              "ticks": ""
             }
            },
            "type": "scattermapbox"
           }
          ],
          "scatterpolar": [
           {
            "marker": {
             "colorbar": {
              "outlinewidth": 0,
              "ticks": ""
             }
            },
            "type": "scatterpolar"
           }
          ],
          "scatterpolargl": [
           {
            "marker": {
             "colorbar": {
              "outlinewidth": 0,
              "ticks": ""
             }
            },
            "type": "scatterpolargl"
           }
          ],
          "scatterternary": [
           {
            "marker": {
             "colorbar": {
              "outlinewidth": 0,
              "ticks": ""
             }
            },
            "type": "scatterternary"
           }
          ],
          "surface": [
           {
            "colorbar": {
             "outlinewidth": 0,
             "ticks": ""
            },
            "colorscale": [
             [
              0,
              "#0d0887"
             ],
             [
              0.1111111111111111,
              "#46039f"
             ],
             [
              0.2222222222222222,
              "#7201a8"
             ],
             [
              0.3333333333333333,
              "#9c179e"
             ],
             [
              0.4444444444444444,
              "#bd3786"
             ],
             [
              0.5555555555555556,
              "#d8576b"
             ],
             [
              0.6666666666666666,
              "#ed7953"
             ],
             [
              0.7777777777777778,
              "#fb9f3a"
             ],
             [
              0.8888888888888888,
              "#fdca26"
             ],
             [
              1,
              "#f0f921"
             ]
            ],
            "type": "surface"
           }
          ],
          "table": [
           {
            "cells": {
             "fill": {
              "color": "#EBF0F8"
             },
             "line": {
              "color": "white"
             }
            },
            "header": {
             "fill": {
              "color": "#C8D4E3"
             },
             "line": {
              "color": "white"
             }
            },
            "type": "table"
           }
          ]
         },
         "layout": {
          "annotationdefaults": {
           "arrowcolor": "#2a3f5f",
           "arrowhead": 0,
           "arrowwidth": 1
          },
          "autotypenumbers": "strict",
          "coloraxis": {
           "colorbar": {
            "outlinewidth": 0,
            "ticks": ""
           }
          },
          "colorscale": {
           "diverging": [
            [
             0,
             "#8e0152"
            ],
            [
             0.1,
             "#c51b7d"
            ],
            [
             0.2,
             "#de77ae"
            ],
            [
             0.3,
             "#f1b6da"
            ],
            [
             0.4,
             "#fde0ef"
            ],
            [
             0.5,
             "#f7f7f7"
            ],
            [
             0.6,
             "#e6f5d0"
            ],
            [
             0.7,
             "#b8e186"
            ],
            [
             0.8,
             "#7fbc41"
            ],
            [
             0.9,
             "#4d9221"
            ],
            [
             1,
             "#276419"
            ]
           ],
           "sequential": [
            [
             0,
             "#0d0887"
            ],
            [
             0.1111111111111111,
             "#46039f"
            ],
            [
             0.2222222222222222,
             "#7201a8"
            ],
            [
             0.3333333333333333,
             "#9c179e"
            ],
            [
             0.4444444444444444,
             "#bd3786"
            ],
            [
             0.5555555555555556,
             "#d8576b"
            ],
            [
             0.6666666666666666,
             "#ed7953"
            ],
            [
             0.7777777777777778,
             "#fb9f3a"
            ],
            [
             0.8888888888888888,
             "#fdca26"
            ],
            [
             1,
             "#f0f921"
            ]
           ],
           "sequentialminus": [
            [
             0,
             "#0d0887"
            ],
            [
             0.1111111111111111,
             "#46039f"
            ],
            [
             0.2222222222222222,
             "#7201a8"
            ],
            [
             0.3333333333333333,
             "#9c179e"
            ],
            [
             0.4444444444444444,
             "#bd3786"
            ],
            [
             0.5555555555555556,
             "#d8576b"
            ],
            [
             0.6666666666666666,
             "#ed7953"
            ],
            [
             0.7777777777777778,
             "#fb9f3a"
            ],
            [
             0.8888888888888888,
             "#fdca26"
            ],
            [
             1,
             "#f0f921"
            ]
           ]
          },
          "colorway": [
           "#636efa",
           "#EF553B",
           "#00cc96",
           "#ab63fa",
           "#FFA15A",
           "#19d3f3",
           "#FF6692",
           "#B6E880",
           "#FF97FF",
           "#FECB52"
          ],
          "font": {
           "color": "#2a3f5f"
          },
          "geo": {
           "bgcolor": "white",
           "lakecolor": "white",
           "landcolor": "#E5ECF6",
           "showlakes": true,
           "showland": true,
           "subunitcolor": "white"
          },
          "hoverlabel": {
           "align": "left"
          },
          "hovermode": "closest",
          "mapbox": {
           "style": "light"
          },
          "paper_bgcolor": "white",
          "plot_bgcolor": "#E5ECF6",
          "polar": {
           "angularaxis": {
            "gridcolor": "white",
            "linecolor": "white",
            "ticks": ""
           },
           "bgcolor": "#E5ECF6",
           "radialaxis": {
            "gridcolor": "white",
            "linecolor": "white",
            "ticks": ""
           }
          },
          "scene": {
           "xaxis": {
            "backgroundcolor": "#E5ECF6",
            "gridcolor": "white",
            "gridwidth": 2,
            "linecolor": "white",
            "showbackground": true,
            "ticks": "",
            "zerolinecolor": "white"
           },
           "yaxis": {
            "backgroundcolor": "#E5ECF6",
            "gridcolor": "white",
            "gridwidth": 2,
            "linecolor": "white",
            "showbackground": true,
            "ticks": "",
            "zerolinecolor": "white"
           },
           "zaxis": {
            "backgroundcolor": "#E5ECF6",
            "gridcolor": "white",
            "gridwidth": 2,
            "linecolor": "white",
            "showbackground": true,
            "ticks": "",
            "zerolinecolor": "white"
           }
          },
          "shapedefaults": {
           "line": {
            "color": "#2a3f5f"
           }
          },
          "ternary": {
           "aaxis": {
            "gridcolor": "white",
            "linecolor": "white",
            "ticks": ""
           },
           "baxis": {
            "gridcolor": "white",
            "linecolor": "white",
            "ticks": ""
           },
           "bgcolor": "#E5ECF6",
           "caxis": {
            "gridcolor": "white",
            "linecolor": "white",
            "ticks": ""
           }
          },
          "title": {
           "x": 0.05
          },
          "xaxis": {
           "automargin": true,
           "gridcolor": "white",
           "linecolor": "white",
           "ticks": "",
           "title": {
            "standoff": 15
           },
           "zerolinecolor": "white",
           "zerolinewidth": 2
          },
          "yaxis": {
           "automargin": true,
           "gridcolor": "white",
           "linecolor": "white",
           "ticks": "",
           "title": {
            "standoff": 15
           },
           "zerolinecolor": "white",
           "zerolinewidth": 2
          }
         }
        }
       }
      }
     },
     "metadata": {},
     "output_type": "display_data"
    },
    {
     "data": {
      "application/vnd.plotly.v1+json": {
       "config": {
        "plotlyServerURL": "https://plot.ly"
       },
       "data": [
        {
         "mode": "number",
         "title": {
          "text": "Average Calorie Balance"
         },
         "type": "indicator",
         "value": 744.3086995
        }
       ],
       "layout": {
        "template": {
         "data": {
          "bar": [
           {
            "error_x": {
             "color": "#2a3f5f"
            },
            "error_y": {
             "color": "#2a3f5f"
            },
            "marker": {
             "line": {
              "color": "#E5ECF6",
              "width": 0.5
             },
             "pattern": {
              "fillmode": "overlay",
              "size": 10,
              "solidity": 0.2
             }
            },
            "type": "bar"
           }
          ],
          "barpolar": [
           {
            "marker": {
             "line": {
              "color": "#E5ECF6",
              "width": 0.5
             },
             "pattern": {
              "fillmode": "overlay",
              "size": 10,
              "solidity": 0.2
             }
            },
            "type": "barpolar"
           }
          ],
          "carpet": [
           {
            "aaxis": {
             "endlinecolor": "#2a3f5f",
             "gridcolor": "white",
             "linecolor": "white",
             "minorgridcolor": "white",
             "startlinecolor": "#2a3f5f"
            },
            "baxis": {
             "endlinecolor": "#2a3f5f",
             "gridcolor": "white",
             "linecolor": "white",
             "minorgridcolor": "white",
             "startlinecolor": "#2a3f5f"
            },
            "type": "carpet"
           }
          ],
          "choropleth": [
           {
            "colorbar": {
             "outlinewidth": 0,
             "ticks": ""
            },
            "type": "choropleth"
           }
          ],
          "contour": [
           {
            "colorbar": {
             "outlinewidth": 0,
             "ticks": ""
            },
            "colorscale": [
             [
              0,
              "#0d0887"
             ],
             [
              0.1111111111111111,
              "#46039f"
             ],
             [
              0.2222222222222222,
              "#7201a8"
             ],
             [
              0.3333333333333333,
              "#9c179e"
             ],
             [
              0.4444444444444444,
              "#bd3786"
             ],
             [
              0.5555555555555556,
              "#d8576b"
             ],
             [
              0.6666666666666666,
              "#ed7953"
             ],
             [
              0.7777777777777778,
              "#fb9f3a"
             ],
             [
              0.8888888888888888,
              "#fdca26"
             ],
             [
              1,
              "#f0f921"
             ]
            ],
            "type": "contour"
           }
          ],
          "contourcarpet": [
           {
            "colorbar": {
             "outlinewidth": 0,
             "ticks": ""
            },
            "type": "contourcarpet"
           }
          ],
          "heatmap": [
           {
            "colorbar": {
             "outlinewidth": 0,
             "ticks": ""
            },
            "colorscale": [
             [
              0,
              "#0d0887"
             ],
             [
              0.1111111111111111,
              "#46039f"
             ],
             [
              0.2222222222222222,
              "#7201a8"
             ],
             [
              0.3333333333333333,
              "#9c179e"
             ],
             [
              0.4444444444444444,
              "#bd3786"
             ],
             [
              0.5555555555555556,
              "#d8576b"
             ],
             [
              0.6666666666666666,
              "#ed7953"
             ],
             [
              0.7777777777777778,
              "#fb9f3a"
             ],
             [
              0.8888888888888888,
              "#fdca26"
             ],
             [
              1,
              "#f0f921"
             ]
            ],
            "type": "heatmap"
           }
          ],
          "histogram": [
           {
            "marker": {
             "pattern": {
              "fillmode": "overlay",
              "size": 10,
              "solidity": 0.2
             }
            },
            "type": "histogram"
           }
          ],
          "histogram2d": [
           {
            "colorbar": {
             "outlinewidth": 0,
             "ticks": ""
            },
            "colorscale": [
             [
              0,
              "#0d0887"
             ],
             [
              0.1111111111111111,
              "#46039f"
             ],
             [
              0.2222222222222222,
              "#7201a8"
             ],
             [
              0.3333333333333333,
              "#9c179e"
             ],
             [
              0.4444444444444444,
              "#bd3786"
             ],
             [
              0.5555555555555556,
              "#d8576b"
             ],
             [
              0.6666666666666666,
              "#ed7953"
             ],
             [
              0.7777777777777778,
              "#fb9f3a"
             ],
             [
              0.8888888888888888,
              "#fdca26"
             ],
             [
              1,
              "#f0f921"
             ]
            ],
            "type": "histogram2d"
           }
          ],
          "histogram2dcontour": [
           {
            "colorbar": {
             "outlinewidth": 0,
             "ticks": ""
            },
            "colorscale": [
             [
              0,
              "#0d0887"
             ],
             [
              0.1111111111111111,
              "#46039f"
             ],
             [
              0.2222222222222222,
              "#7201a8"
             ],
             [
              0.3333333333333333,
              "#9c179e"
             ],
             [
              0.4444444444444444,
              "#bd3786"
             ],
             [
              0.5555555555555556,
              "#d8576b"
             ],
             [
              0.6666666666666666,
              "#ed7953"
             ],
             [
              0.7777777777777778,
              "#fb9f3a"
             ],
             [
              0.8888888888888888,
              "#fdca26"
             ],
             [
              1,
              "#f0f921"
             ]
            ],
            "type": "histogram2dcontour"
           }
          ],
          "mesh3d": [
           {
            "colorbar": {
             "outlinewidth": 0,
             "ticks": ""
            },
            "type": "mesh3d"
           }
          ],
          "parcoords": [
           {
            "line": {
             "colorbar": {
              "outlinewidth": 0,
              "ticks": ""
             }
            },
            "type": "parcoords"
           }
          ],
          "pie": [
           {
            "automargin": true,
            "type": "pie"
           }
          ],
          "scatter": [
           {
            "fillpattern": {
             "fillmode": "overlay",
             "size": 10,
             "solidity": 0.2
            },
            "type": "scatter"
           }
          ],
          "scatter3d": [
           {
            "line": {
             "colorbar": {
              "outlinewidth": 0,
              "ticks": ""
             }
            },
            "marker": {
             "colorbar": {
              "outlinewidth": 0,
              "ticks": ""
             }
            },
            "type": "scatter3d"
           }
          ],
          "scattercarpet": [
           {
            "marker": {
             "colorbar": {
              "outlinewidth": 0,
              "ticks": ""
             }
            },
            "type": "scattercarpet"
           }
          ],
          "scattergeo": [
           {
            "marker": {
             "colorbar": {
              "outlinewidth": 0,
              "ticks": ""
             }
            },
            "type": "scattergeo"
           }
          ],
          "scattergl": [
           {
            "marker": {
             "colorbar": {
              "outlinewidth": 0,
              "ticks": ""
             }
            },
            "type": "scattergl"
           }
          ],
          "scattermap": [
           {
            "marker": {
             "colorbar": {
              "outlinewidth": 0,
              "ticks": ""
             }
            },
            "type": "scattermap"
           }
          ],
          "scattermapbox": [
           {
            "marker": {
             "colorbar": {
              "outlinewidth": 0,
              "ticks": ""
             }
            },
            "type": "scattermapbox"
           }
          ],
          "scatterpolar": [
           {
            "marker": {
             "colorbar": {
              "outlinewidth": 0,
              "ticks": ""
             }
            },
            "type": "scatterpolar"
           }
          ],
          "scatterpolargl": [
           {
            "marker": {
             "colorbar": {
              "outlinewidth": 0,
              "ticks": ""
             }
            },
            "type": "scatterpolargl"
           }
          ],
          "scatterternary": [
           {
            "marker": {
             "colorbar": {
              "outlinewidth": 0,
              "ticks": ""
             }
            },
            "type": "scatterternary"
           }
          ],
          "surface": [
           {
            "colorbar": {
             "outlinewidth": 0,
             "ticks": ""
            },
            "colorscale": [
             [
              0,
              "#0d0887"
             ],
             [
              0.1111111111111111,
              "#46039f"
             ],
             [
              0.2222222222222222,
              "#7201a8"
             ],
             [
              0.3333333333333333,
              "#9c179e"
             ],
             [
              0.4444444444444444,
              "#bd3786"
             ],
             [
              0.5555555555555556,
              "#d8576b"
             ],
             [
              0.6666666666666666,
              "#ed7953"
             ],
             [
              0.7777777777777778,
              "#fb9f3a"
             ],
             [
              0.8888888888888888,
              "#fdca26"
             ],
             [
              1,
              "#f0f921"
             ]
            ],
            "type": "surface"
           }
          ],
          "table": [
           {
            "cells": {
             "fill": {
              "color": "#EBF0F8"
             },
             "line": {
              "color": "white"
             }
            },
            "header": {
             "fill": {
              "color": "#C8D4E3"
             },
             "line": {
              "color": "white"
             }
            },
            "type": "table"
           }
          ]
         },
         "layout": {
          "annotationdefaults": {
           "arrowcolor": "#2a3f5f",
           "arrowhead": 0,
           "arrowwidth": 1
          },
          "autotypenumbers": "strict",
          "coloraxis": {
           "colorbar": {
            "outlinewidth": 0,
            "ticks": ""
           }
          },
          "colorscale": {
           "diverging": [
            [
             0,
             "#8e0152"
            ],
            [
             0.1,
             "#c51b7d"
            ],
            [
             0.2,
             "#de77ae"
            ],
            [
             0.3,
             "#f1b6da"
            ],
            [
             0.4,
             "#fde0ef"
            ],
            [
             0.5,
             "#f7f7f7"
            ],
            [
             0.6,
             "#e6f5d0"
            ],
            [
             0.7,
             "#b8e186"
            ],
            [
             0.8,
             "#7fbc41"
            ],
            [
             0.9,
             "#4d9221"
            ],
            [
             1,
             "#276419"
            ]
           ],
           "sequential": [
            [
             0,
             "#0d0887"
            ],
            [
             0.1111111111111111,
             "#46039f"
            ],
            [
             0.2222222222222222,
             "#7201a8"
            ],
            [
             0.3333333333333333,
             "#9c179e"
            ],
            [
             0.4444444444444444,
             "#bd3786"
            ],
            [
             0.5555555555555556,
             "#d8576b"
            ],
            [
             0.6666666666666666,
             "#ed7953"
            ],
            [
             0.7777777777777778,
             "#fb9f3a"
            ],
            [
             0.8888888888888888,
             "#fdca26"
            ],
            [
             1,
             "#f0f921"
            ]
           ],
           "sequentialminus": [
            [
             0,
             "#0d0887"
            ],
            [
             0.1111111111111111,
             "#46039f"
            ],
            [
             0.2222222222222222,
             "#7201a8"
            ],
            [
             0.3333333333333333,
             "#9c179e"
            ],
            [
             0.4444444444444444,
             "#bd3786"
            ],
            [
             0.5555555555555556,
             "#d8576b"
            ],
            [
             0.6666666666666666,
             "#ed7953"
            ],
            [
             0.7777777777777778,
             "#fb9f3a"
            ],
            [
             0.8888888888888888,
             "#fdca26"
            ],
            [
             1,
             "#f0f921"
            ]
           ]
          },
          "colorway": [
           "#636efa",
           "#EF553B",
           "#00cc96",
           "#ab63fa",
           "#FFA15A",
           "#19d3f3",
           "#FF6692",
           "#B6E880",
           "#FF97FF",
           "#FECB52"
          ],
          "font": {
           "color": "#2a3f5f"
          },
          "geo": {
           "bgcolor": "white",
           "lakecolor": "white",
           "landcolor": "#E5ECF6",
           "showlakes": true,
           "showland": true,
           "subunitcolor": "white"
          },
          "hoverlabel": {
           "align": "left"
          },
          "hovermode": "closest",
          "mapbox": {
           "style": "light"
          },
          "paper_bgcolor": "white",
          "plot_bgcolor": "#E5ECF6",
          "polar": {
           "angularaxis": {
            "gridcolor": "white",
            "linecolor": "white",
            "ticks": ""
           },
           "bgcolor": "#E5ECF6",
           "radialaxis": {
            "gridcolor": "white",
            "linecolor": "white",
            "ticks": ""
           }
          },
          "scene": {
           "xaxis": {
            "backgroundcolor": "#E5ECF6",
            "gridcolor": "white",
            "gridwidth": 2,
            "linecolor": "white",
            "showbackground": true,
            "ticks": "",
            "zerolinecolor": "white"
           },
           "yaxis": {
            "backgroundcolor": "#E5ECF6",
            "gridcolor": "white",
            "gridwidth": 2,
            "linecolor": "white",
            "showbackground": true,
            "ticks": "",
            "zerolinecolor": "white"
           },
           "zaxis": {
            "backgroundcolor": "#E5ECF6",
            "gridcolor": "white",
            "gridwidth": 2,
            "linecolor": "white",
            "showbackground": true,
            "ticks": "",
            "zerolinecolor": "white"
           }
          },
          "shapedefaults": {
           "line": {
            "color": "#2a3f5f"
           }
          },
          "ternary": {
           "aaxis": {
            "gridcolor": "white",
            "linecolor": "white",
            "ticks": ""
           },
           "baxis": {
            "gridcolor": "white",
            "linecolor": "white",
            "ticks": ""
           },
           "bgcolor": "#E5ECF6",
           "caxis": {
            "gridcolor": "white",
            "linecolor": "white",
            "ticks": ""
           }
          },
          "title": {
           "x": 0.05
          },
          "xaxis": {
           "automargin": true,
           "gridcolor": "white",
           "linecolor": "white",
           "ticks": "",
           "title": {
            "standoff": 15
           },
           "zerolinecolor": "white",
           "zerolinewidth": 2
          },
          "yaxis": {
           "automargin": true,
           "gridcolor": "white",
           "linecolor": "white",
           "ticks": "",
           "title": {
            "standoff": 15
           },
           "zerolinecolor": "white",
           "zerolinewidth": 2
          }
         }
        }
       }
      }
     },
     "metadata": {},
     "output_type": "display_data"
    }
   ],
   "source": [
    "# Purpose: High-level trends and business insights\n",
    "\n",
    "# KPI 1: Total Users\n",
    "total_users = df.shape[0]\n",
    "\n",
    "# KPI 2: Gender Distribution\n",
    "gender_dist = df['Gender'].value_counts()\n",
    "\n",
    "# KPI 3: Avg Lean Mass\n",
    "avg_lean_mass = df['lean_mass_kg'].mean()\n",
    "\n",
    "# KPI 4: Avg Weight Change / Calorie Balance\n",
    "avg_cal_balance = df['cal_balance'].mean()\n",
    "\n",
    "# Plots\n",
    "# Pie chart: Gender Distribution\n",
    "fig3 = px.pie(gender_dist, names=gender_dist.index, values=gender_dist.values,\n",
    "              title='User Gender Distribution')\n",
    "fig3.show()\n",
    "\n",
    "# Bar chart: Average Lean Mass by Gender\n",
    "avg_lean_by_gender = df.groupby('Gender')['lean_mass_kg'].mean().reset_index()\n",
    "fig4 = px.bar(avg_lean_by_gender,\n",
    "              x='Gender', y='lean_mass_kg', \n",
    "              title='Average Lean Mass by Gender',\n",
    "              text='lean_mass_kg')\n",
    "fig4.update_traces(texttemplate='%{text:.2f} kg', textposition='outside')\n",
    "fig4.update_layout(yaxis_title='Lean Mass (kg)')\n",
    "fig4.show()\n",
    "\n",
    "# KPI cards\n",
    "fig_kpi3 = go.Figure(go.Indicator(\n",
    "    mode=\"number\",\n",
    "    value=total_users,\n",
    "    title={\"text\": \"Total Users\"}))\n",
    "fig_kpi3.show()\n",
    "\n",
    "fig_kpi4 = go.Figure(go.Indicator(\n",
    "    mode=\"number\",\n",
    "    value=avg_cal_balance,\n",
    "    title={\"text\": \"Average Calorie Balance\"}))\n",
    "fig_kpi4.show()\n"
   ]
  },
  {
   "cell_type": "markdown",
   "id": "92ebaf01",
   "metadata": {},
   "source": [
    "## Custom Dashboard\n",
    "\n",
    "**Purpose:**  \n",
    "Explores correlations and trends between user activity, workouts, and calories burned to identify patterns and guide product innovation.\n",
    "\n",
    "**Audience:**  \n",
    "Product managers, researchers, or analysts looking for insights to design new features or optimize existing programs.\n",
    "\n",
    "**Key KPIs:**  \n",
    "- **Correlation between Session Duration and Calories Burned:** Helps understand how workout length impacts energy expenditure.  \n",
    "- **Top 5 Workouts by Average Calories Burned:** Identifies the most effective exercises for users.  \n",
    "- **Avg Session Duration vs Avg BPM by Workout Type:** Tracks exercise intensity and efficiency.  \n",
    "- **Scatter Plot of Calories Burned vs Session Duration:** Helps discover trends and inform personalized recommendations.\n"
   ]
  },
  {
   "cell_type": "code",
   "execution_count": 13,
   "id": "2dae778f",
   "metadata": {},
   "outputs": [
    {
     "name": "stdout",
     "output_type": "stream",
     "text": [
      "Top 5 Workouts by Average Calories Burned:\n",
      "  Workout_Type  Avg_Calories_Burned\n",
      "0         HIIT          1652.533209\n",
      "1     Strength          1361.430459\n",
      "2       Cardio          1211.544680\n",
      "3         Yoga           897.107216\n"
     ]
    },
    {
     "data": {
      "application/vnd.plotly.v1+json": {
       "config": {
        "plotlyServerURL": "https://plot.ly"
       },
       "data": [
        {
         "hovertemplate": "Gender=Male<br>Session Duration (hrs)=%{x}<br>Calories Burned=%{y}<extra></extra>",
         "legendgroup": "Male",
         "marker": {
          "color": "#636efa",
          "opacity": 0.7,
          "size": 6,
          "symbol": "circle"
         },
         "mode": "markers",
         "name": "Male",
         "showlegend": true,
         "type": "scattergl",
         "x": {
          "bdata": "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",
          "dtype": "f8"
         },
         "xaxis": "x",
         "y": {
          "bdata": "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",
          "dtype": "f8"
         },
         "yaxis": "y"
        },
        {
         "hovertemplate": "Gender=Female<br>Session Duration (hrs)=%{x}<br>Calories Burned=%{y}<extra></extra>",
         "legendgroup": "Female",
         "marker": {
          "color": "#EF553B",
          "opacity": 0.7,
          "size": 6,
          "symbol": "circle"
         },
         "mode": "markers",
         "name": "Female",
         "showlegend": true,
         "type": "scattergl",
         "x": {
          "bdata": "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",
          "dtype": "f8"
         },
         "xaxis": "x",
         "y": {
          "bdata": "cT0K16NHnECuR+F6FBKJQFyPwvUoq5ZA4XoUrkdVfEAUrkfher6GQArXo3C9HKBAAAAAAAAVkkDNzMzMzFqlQGZmZmZmUqJAzczMzMw+h0CPwvUoXDeUQM3MzMzMjJFAAAAAAAC4lEAUrkfheviSQArXo3A9n5xA7FG4HoWtkEA9CtejcPeTQAAAAAAA4JxAFK5H4XraiUCPwvUoXB+ZQDMzMzMz+4tAcT0K16N/lEBcj8L1KOacQDMzMzMzaZxAexSuR+GQiEAfhetROHSjQClcj8L1H6RAcT0K16OYj0DsUbgehXGUQEjhehSu7ZtAXI/C9Shsl0D2KFyPwj+PQAAAAAAAzIRAFK5H4XoSkUCkcD0K1+iiQGZmZmZmppBAZmZmZmYGjkA9CtejcO2RQFyPwvUoe5ZA9ihcj8LGkEBmZmZmZiaCQDMzMzMzc5JAzczMzMwcfkAUrkfheu6SQMP1KFyPGaBA16NwPQpjoEAK16NwPXKJQHsUrkfhjpdAuB6F61EQm0CamZmZGcGiQJqZmZmZmZVAMzMzMzPIk0DNzMzMzCyVQLgehetRSJRAH4XrUbg4nEAzMzMzM1GYQHsUrkfhB5pA7FG4HoUikkAzMzMzM1OKQM3MzMzMHJ5AZmZmZmZCkECPwvUoXLCeQK5H4XqUPKRAcT0K16OWlUAAAAAAAECOQKRwPQrXUp5AZmZmZmZmlECamZmZmQ6dQOxRuB6FAZ5AAAAAAAA4jEApXI/C9SKVQFK4HoXrEKVAj8L1KFwWnkAUrkfheliJQArXo3A9BoxAUrgehevFlkCF61G4Hu6WQMP1KFyPXIlApHA9CtdfkkC4HoXrURaWQDMzMzMzzpBAMzMzMzNbgkBmZmZmZkamQGZmZmZmlpRAhetRuB7Hj0DXo3A9CtGTQBSuR+H626RA16NwPQp5i0CuR+F6FOWWQFyPwvUobJNA9ihcj8IHn0DNzMzMzAacQK5H4XoUp5BAAAAAAADQmkC4HoXrUUiUQLgehetRrphAMzMzMzNzlkBI4XoUrjGUQFyPwvUo1o9AAAAAAABqm0CamZmZmcWRQOF6FK7HwKBAAAAAAAAAi0DD9ShcjxKVQHE9CtejiIdAZmZmZmaspUDsUbgehQqQQBSuR+F6tH9APQrXo3A5hUAfhetRuPqIQI/C9Shcl5NAcT0K16PFkEAUrkfheuCLQFyPwvUo2qVAhetRuB7BkkAzMzMzM12eQM3MzMzMY51AZmZmZmZWlEAAAAAAAACOQJqZmZmZ+ZhAw/UoXI+am0DhehSuR+mBQAAAAAAAqJVAzczMzMwsh0C4HoXrUdqSQI/C9ShcE4xAAAAAAAC4kUCamZmZmfGBQKRwPQrXApJApHA9CtfXhEBmZmZmZqCfQHE9CtejmJJAMzMzMzNrlEBcj8L1qI6gQOxRuB6FBpZAzczMzMxQhkCkcD0K11OVQM3MzMzMT5VAzczMzMy8nUAUrkfhei6WQKRwPQrXP5NAMzMzMzNzhUDNzMzMzIyeQD0K16NwkJhAAAAAAADonUAzMzMzM7N9QI/C9ShcHZVAmpmZmZmZjkA9CtejcAuXQClcj8L1Yp9ASOF6FK6ti0AfhetRuLSGQD0K16NwH5lAMzMzMzMtl0AAAAAAABCeQArXo3A995lAFK5H4XpQfUAUrkfhetiGQAAAAAAAQH5ArkfhehSpm0CamZmZmdOPQAAAAAAA4IlAZmZmZma6hEBSuB6F676cQJqZmZmZTYpA4XoUrkd/jkBmZmZmZmmQQFK4HoXrJ4hAFK5H4Xq+i0AUrkfhehmZQAAAAAAAXHhAFK5H4Xo9kkBSuB6F6/WNQAAAAAAAi51AhetRuB7Mm0AzMzMzM6WUQM3MzMzMtIBArkfhehQOiEDD9Shcj+aUQIXrUbgexpdAzczMzEwFoEBmZmZmZkaGQJqZmZmZOXtAZmZmZmY2kUBmZmZmZoWVQClcj8L1OI5A7FG4HoWNjkBI4XoUrpWYQEjhehSuO5RAmpmZmZmZjkBmZmZmZmaKQFyPwvUomp9ACtejcD0MlEBmZmZmZo6kQAAAAAAADI9A16NwPQpLeEAAAAAAAOiCQClcj8L115dAAAAAAAA8hkBmZmZmZk6HQBSuR+F67pJAAAAAAACQkkCPwvUoXK6TQI/C9ShcUZNAZmZmZmaigUCF61G4HkuUQPYoXI/CsJRAAAAAAAAciEBmZmZmZsSYQHsUrkfhzJZA16NwPQqUpUC4HoXr0SuhQHE9Ctejpo5AmpmZmZl/lkDsUbgehTONQGZmZmZma59ApHA9CtdUlkBmZmZmZk6HQAAAAAAAXZNAmpmZmZmNlEAAAAAAAPqPQJqZmZmZ6ZNA7FG4HoWLkkCF61G4Hk+fQAAAAAAA0IpAKVyPwvXumkCkcD0K16KQQJqZmZmZ45BAZmZmZmYImEAUrkfhemaEQM3MzMzMEIdApHA9CtdqkkCamZmZmX2TQM3MzMzMjJFAmpmZmZlDlEBI4XoUrpWYQArXo3A9WJVAmpmZmZlZhEDhehSuR9GNQClcj8L1oIlAzczMzEzCo0CF61G4HluPQArXo3A9EJBASOF6FK6dkUAAAAAAAG6WQEjhehSuX45A4XoUrkfFmEA9CtejcPuNQD0K16NwkJhA16NwPQpTjkDNzMzMzGaOQArXo3A9iZRAj8L1KFzQlEBcj8L1KKuWQJqZmZmZOYtAKVyPwvUeh0DD9Shcj8qPQIXrUbge55xAZmZmZmY7pkAK16NwPUaLQD0K16NwyZVAuB6F61FElEDNzMzMzCqOQOF6FK5H1ZpA7FG4HoXhhECF61G4Hu6WQHE9CtejJJZA9ihcj8LVk0A9CtejcI1+QOxRuB6FDZNACtejcD0QkEBmZmZmZtyQQArXo3C9A6FACtejcD34ikBmZmZmZgKOQD0K16Nw95NAuB6F61EYiECamZmZmUmdQNejcD2KBqZAj8L1KFznlUBmZmZmZoCGQDMzMzMzV4hA7FG4HoXtkEDD9Shcj4CWQFyPwvUotppAmpmZmZk7hUDsUbgehQmeQDMzMzMzM5ZACtejcD20kUAUrkfhej2SQFyPwvUo1o9AKVyPwvWdmEDD9Shcj1qHQIXrUbgeIqNAPQrXo3DqkkBxPQrXo8yOQMP1KFyPvIBAuB6F69HfoUCkcD0K18+YQD0K16NwgYpAPQrXo3A4lUAAAAAAAOiCQEjhehSuJZNA7FG4HoVTjEBcj8L1KPyRQM3MzMzMhJxAAAAAAACAlkCamZmZmZWWQNejcD0KR45AMzMzM7P5oEDhehSuRzeTQClcj8L1hZhA9ihcj8IZlUDhehSuR42JQJqZmZmZR5hAZmZmZmZQnEAzMzMzM5OZQGZmZmZmjqRAZmZmZmYWgEAK16NwPbmcQD0K16NwH5lAXI/C9SjAlUB7FK5H4WyRQJqZmZmZR5hArkfhehSunkDD9Shcj22YQIXrUbgeBZVAH4XrUbgZk0Bcj8L1KBuhQAAAAAAADo1AH4XrUbhfk0DXo3A9CsiUQAAAAAAA55FAPQrXo3AvlUCamZmZmRmHQMP1KFyPkJFApHA9CtdplUDNzMzMzDqUQAAAAAAAXqFAPQrXo3CbiUAAAAAAAMCIQFK4HoXryJ9AMzMzMzOXlEAUrkfheg6VQDMzMzMza5RAzczMzMyilUB7FK5H4bOVQOxRuB6FEZZASOF6FK6noUA9CtejcFWMQHsUrkfhpoxAMzMzMzOzgkCPwvUoXPmVQGZmZmZmO5NAhetRuB6ZiUCamZmZmVmUQLgehetRXoRAZmZmZmbOmEAzMzMzM4OHQHsUrkfhYI9AmpmZmZnZh0AK16NwPXSbQHsUrkfhEJNAw/UoXI/gmUC4HoXr0TWlQDMzMzMz85NAUrgehes3lkD2KFyPwtmLQArXo3A9dJtAMzMzMzOzjUA9CtejcIKYQJqZmZmZY5JAcT0K16Mwj0AzMzMzM36XQHsUrkfhVZVACtejcD0hk0AzMzMzM7ONQLgehetR25RAhetRuB5pjEDNzMzMzGOdQHsUrkfhDodAw/UoXI8MjUB7FK5H4ZqGQM3MzMzMzI9AzczMzMxjmUAzMzMzM/OQQEjhehSuT4lAUrgeheuDgUC4HoXrUWSJQArXo3A9s5JAAAAAAAAUn0DNzMzMzBSNQOxRuB6F14pAMzMzMzOzlEDNzMzMzBSUQFK4HoXrJY9AhetRuJ4qoEBmZmZm5gegQFK4HoXr/phAmpmZmZkJhUAAAAAAAASRQAAAAAAAAJVAw/UoXI/KmEApXI/C9VWWQHE9Ctejl5VAKVyPwvVvlEDNzMzMzG+XQJqZmZmZqYRAzczMzMzsl0CamZmZmQGgQD0K16NwKKFArkfhehTblkCF61G4HkuBQM3MzMzMEpxAFK5H4Xqbl0CamZmZmdmRQOxRuB6F35dApHA9CtePmkAUrkfh+jqjQDMzMzMzTqVAFK5H4Xqcl0AK16NwvTyhQAAAAAAAwIhAPQrXo3D/kkCkcD0K1wqWQGZmZmZm7ZtA4XoUrkepkkBcj8L1KCqZQFyPwvUowJVApHA9CtffjkDsUbgehUyQQAAAAAAAG51AexSuR+H6hUBI4XoUrrmWQGZmZmZm5pJAhetRuB7jhkCF61G4Ho2QQGZmZmZmDpJAZmZmZmZWlEBSuB6F65eSQHE9CtejR5xA9ihcj0L+oUAzMzMzM6ObQB+F61G4BZRAhetRuB5riEBmZmZmZs6YQClcj8L1Y5ZAAAAAAADSkkAK16NwPaCMQIXrUbgeNpVASOF6FK44k0Bcj8L1KG+eQDMzMzMzO5RAuB6F61HgkECuR+F6FLSOQClcj8L1gJdAMzMzMzNPpkA9CtejcIKYQPYoXI/Ca4xAuB6F61HgjkCamZmZmc+VQPYoXI/CL5BAzczMzMw1okBcj8L1KBqAQOxRuB6Fw4xAZmZmZmZOl0AzMzMzM1WQQFyPwvUoroNA16NwPQptjUBxPQrXo3aQQJqZmZmZp4pAAAAAAAA6pUAK16NwPSSZQGZmZmZmJpVAw/UoXI8Km0D2KFyPwlmOQJqZmZmZcZZAKVyPwvUVkUBmZmZmZjaUQClcj8L17I5ApHA9CtexmUBcj8L1KEuWQClcj8L15o5ASOF6FK7lkEAzMzMzM3N7QNejcD0KeYtA16NwPQohhkBcj8L1KISTQAAAAAAA55FA7FG4HgUooEApXI/C9VySQAAAAAAAlJhAhetRuB7bjkCamZmZmcigQJqZmZmZ+Y1AmpmZmZnplkAAAAAAABSKQM3MzMzM2JBAUrgehWvspEAAAAAAAKCUQDMzMzOzy6RAKVyPwvW4lUCamZmZmUmXQAAAAAAA+oxAAAAAAACwdkBcj8L1KCyKQB+F61G40JRA9ihcj8KAnkC4HoXrUcKOQDMzMzMz55BAH4XrUbjeh0C4HoXrUXiAQKRwPQpXCqFAcT0K16MqgkAzMzMzM4OXQKRwPQrXE4pAuB6F61FckkAzMzMzM2ODQM3MzMzM9JhAcT0K16MZlkDhehSuR02TQBSuR+F6D5tAAAAAAAD6jECF61G4HsOWQArXo3A9BoRA7FG4HoUDiUBmZmZmZnSTQEjhehSuK49APQrXo3DRg0C4HoXrUZuTQM3MzMzMhJZAexSuR+GsjUApXI/C9fyGQJqZmZmZuY9AXI/C9SjhmkB7FK5H4WOTQGZmZmZmdoxAAAAAAACek0AzMzMzM/ONQNejcD0KPJZAPQrXo3BmlEAfhetRuH2TQM3MzMzMWJ5AcT0K16OId0CF61G4HtuOQMP1KFyPY5JAZmZmZmYGjUAzMzMzM7N9QGZmZmZmi6BAZmZmZmYtnECamZmZmSmaQClcj8L17pNAw/UoXI8om0A9CtejcMCUQB+F61G4uohA16NwPQqlk0AK16NwPVidQLgehetRRo5AZmZmZmb2l0DhehSuR2mYQIXrUbgeeptAw/UoXI/SfEA9CtejcKWbQGZmZmZmpolAuB6F61GFkUAzMzMzM8OQQOF6FK5HRZJAhetRuB5LgUAK16NwPbiMQDMzMzMzfZhAcT0K16M2hUAzMzMzM4OXQBSuR+F6voZAAAAAAAAAjkAAAAAAAC2UQArXo3A9sZVACtejcD1udUD2KFyPwj+KQM3MzMzM7JRAmpmZmZl0nUBmZmZmZqaJQLgehetRRJRAexSuR+EQk0DD9Shcjw6EQHsUrkfhkIhAPQrXo3AcmEBxPQrXo6qWQOF6FK5HmYxAZmZmZmbplkBI4XoUrv2TQHE9CtejlpVAcT0K16PCnUCamZmZmSuRQMP1KFyPB5FA9ihcj8Ixh0AzMzMzM7ORQJqZmZmZWZlAMzMzMzMblkDNzMzMzKyLQArXo3A9EpJAZmZmZuYHoEApXI/C9Q+eQGZmZmZmjoZAZmZmZua2oED2KFyPwu1/QDMzMzMz+JxAFK5H4Xr0kUCF61G4HuGPQKRwPQrXopBASOF6FK7XdUCkcD0K12mVQM3MzMzMF6FAAAAAAADMhEAzMzMzM5uKQDMzMzMz85ZArkfhehRjlEAAAAAAAJCSQArXo3A9EpJAzczMzMyuk0AzMzMzM2uUQJqZmZmZ8YFAPQrXo3DPh0DNzMzMzFieQPYoXI/CJphAmpmZmZkpmUBmZmZmZt2RQDMzMzMziJdAhetRuB6HikCuR+F6FM+bQMP1KFyPfpJAuB6F61GOlkBmZmZmZl6JQK5H4XoUz5tA16NwPQpMl0CamZmZmUl9QArXo3A9U5VAmpmZmZlvl0BxPQrXozGlQLgehetRUo9AKVyPwvV4kEAK16NwPTqdQAAAAAAAkJJAAAAAAAC4kkAzMzMzM4OHQJqZmZmZmZVAw/UoXI9wkkApXI/C9fyDQPYoXI/CapRAMzMzMzMjm0C4HoXrUZSCQNejcD0KsZBA4XoUrkczi0A9CtejcO18QDMzMzMz945AZmZmZmb2lEA9CtejcKWbQClcj8L1GI1AmpmZmZlZlkDNzMzMzJKUQFK4HoXrs5RAFK5H4Xrei0ApXI/C9ZOSQOxRuB6FS3ZAuB6F61GPlkBxPQrXo5aIQFK4HoXrp45AH4XrUbjVmkBSuB6F68+YQM3MzMzMNJVA7FG4HoXalEAAAAAAAFCZQI/C9Shcl5NA16NwPQrRk0CamZmZmTmSQDMzMzMzF4pAMzMzMzMzkEBI4XoUrjiTQEjhehSuJZNArkfhehSpm0D2KFyPwtmOQMP1KFyPLJdAMzMzMzPVkEC4HoXrUTuTQDMzMzMzk4xApHA9CtfZnEBcj8L1KHmZQPYoXI/C75VAZmZmZmZEkkBmZmZmZh6BQI/C9ShcFp5AhetRuB5kkkCPwvUoXKOVQGZmZmZm3JBAmpmZmZkZlEAK16NwPVidQFyPwvUo2pZAmpmZmZmNnkBSuB6F6zCZQMP1KFyPbIpA7FG4HoUZjkCkcD0K1298QDMzMzMzQYZApHA9Ctc4mEApXI/C9e6TQOF6FK5HmYxAPQrXo3DPh0CuR+F6FAqeQD0K16Nwp5VApHA9CtdxnEBmZmZmZqKRQM3MzMzM/JlAUrgeheu3lkDsUbgehYOQQOF6FK5HnpFAAAAAAADQekDNzMzMzBSNQD0K16NwWpVAmpmZmZlUkkAzMzMzM5OMQFK4HoXrf41AUrgeheuAlUC4HoXrUUaOQM3MzMzMiItApHA9CtctiUBxPQrXoxKAQIXrUbgeaYxASOF6FK53k0AzMzMzMxuWQLgehetRkIZAcT0K16OmjkDhehSuR415QK5H4XqUMqFArkfhehQSokBmZmZmZkigQClcj8L1/ohAcT0K16MEdUBmZmZmZraZQIXrUbgeL5NAj8L1KFw3g0BI4XoUru2bQHE9CtejNoVAuB6F61EinEAzMzMzM7OYQBSuR+F6wIBAj8L1KFyQlkBmZmZmZuadQFyPwvUoJpNAMzMzMzOLiEDXo3A9CoePQLgehetREJtA16NwPQotn0D2KFyPwn2HQJqZmZmZsZVAKVyPwvVIg0B7FK5H4ciUQLgehetRxJtAAAAAAACGjkAzMzMzMxmiQFK4HoXrJ4hAj8L1KFzikkApXI/C9amQQFK4HoXrz4RAw/UoXI+QkUAK16NwPbqIQPYoXI/ClX9AzczMzMxMlUBmZmZmZgaZQD0K16NwgphA16NwPQrJkkBSuB6F62WNQFK4HoXrQJNA16NwPQqll0CPwvUoXOeVQNejcD0K3pRAKVyPwvWXlkAAAAAAACyRQFK4HoXrE5NAzczMzMykhEAAAAAAAOiNQOF6FK5Hx4dA9ihcj8I/j0AUrkfhemaOQHE9CtejQZZAAAAAAACQkkAK16NwvVOhQOF6FK5HH4pAzczMzMz2kEA9CtejcFeHQBSuR+F6jJNAUrgehevLlEAUrkfheuCLQAAAAAAAYI5AuB6F61FwkECF61G4HtidQDMzMzMzGZJAmpmZmZnplkAfhetRuK6IQArXo3A9ipdAexSuR+GwmkBmZmZmZlqUQBSuR+F6fJBAw/UoXI+/kUDsUbgehaadQHE9CtejWJFAMzMzMzNPpkBmZmZmZh2SQK5H4XoUcIlA7FG4HoVDjkAfhetRuKqGQB+F61G4KZZAuB6F61FJlUCamZmZmb6QQDMzMzMz15RAzczMzMyyj0B7FK5H4RiVQHE9CtejlH5AMzMzMzOrlkAUrkfhei+aQM3MzMzMtJBAKVyPwvUHkUAUrkfhepKKQJqZmZmZMZpAzczMzMzwgkDXo3A9CnGhQJqZmZmZeZRAKVyPwvXUiUA9CtejcMWaQGZmZmZmPJFAZmZmZma+fkCkcD0K16KQQM3MzMzMSINAFK5H4XpllUAfhetRuNGWQDMzMzMzw49APQrXo3AmmkDNzMzMzHqRQAAAAAAAoJdASOF6FK6BlECF61G4HuGTQKRwPQrXopBAuB6F61EWlkBxPQrXo7SeQPYoXI/C2plAFK5H4Xrdl0AzMzMzM0+BQM3MzMzMCJdAAAAAAADvmEDhehSuR+uEQGZmZmZmwI9AhetRuB7rk0CkcD0K19uBQKRwPQrXz4hAAAAAAADYi0CamZmZmc+VQFK4HoXr+pRAhetRuB42lUBI4XoUroeTQM3MzMzMtoBAmpmZmZkJlUAzMzMzM9OOQM3MzMzMbJZAexSuR+EnlUBxPQrXo7SeQI/C9ShcI5pAw/UoXI+am0DhehSuR0yVQGZmZmZm+o5AUrgehevXh0DsUbgehROVQAAAAAAAQJFAw/UoXA8QoEDhehSuR/SYQK5H4XoU05RAw/UoXI/ulkAzMzMzM7OYQGZmZmZmLoNAmpmZmZn5mEDD9Shcj06XQD0K16NwvJ5AzczMzMx5l0CamZmZmSGYQAAAAAAAQI1AZmZmZmbsgkBmZmZmZmiWQDMzMzMzu5JAH4XrUbiqhkCamZmZGb+hQM3MzMzMrpNAAAAAAABAjUDhehSuR5mMQMP1KFyPyn9ApHA9CtfqkUDNzMzMzHmXQBSuR+F6yJJA16NwPQq9l0DNzMzMzOKjQDMzMzMz5Z5ArkfhehRYnkDhehSuR+mBQHE9Ctej4Z1AZmZmZmZ2hkCamZmZmfmNQAAAAAAAqIVAzczMzMxckEDNzMzMzBSNQClcj8L1wH1AUrgehevNhkBSuB6F67CQQKRwPQrXT51AzczMzMwCmEAAAAAAAKCXQM3MzMzMWJVAzczMzMw/lEDD9Shcj8qPQAAAAAAAQINAZmZmZmaGfkDXo3A9iq+iQJqZmZmZuY9AXI/C9Sh4fkBxPQrXo4iHQD0K16NwvJ5AXI/C9Sh5l0AK16NwPdudQBSuR+F6aIJAKVyPwvWskkBmZmZmZmaaQAAAAAAAgppAH4XrUbi0hkCPwvUoXEOFQEjhehSunZFA9ihcj8JdlUA9CtejcLyeQDMzMzMzRYtArkfhehT4lkBmZmZmZkaWQI/C9Shco5VAAAAAAADJpUDNzMzMzI+lQGZmZmZmCoRAUrgehevxl0DsUbgeBS2iQAAAAAAABIFAzczMzMzUlEBcj8L1KI6HQI/C9Shcn4xApHA9CtdTh0AK16NwPQZ8QD0K16NwFKFAZmZmZmYCg0CkcD0K1xeJQHE9CtejrpNA9ihcj8LBnkDD9ShcjwqbQHE9CtejmIJAAAAAAADwnkCPwvUoXJyUQHsUrkfhXZFAMzMzMzOzkUAUrkfhegWjQB+F61G4ZpxAj8L1KFw9kEAUrkfheiyGQPYoXI/CXp5A7FG4HoUQlEBmZmZmZiaSQEjhehSuOJNAZmZmZmZOh0CamZmZmR2NQIXrUbgeW5pAuB6F61Ejl0CuR+F6FMSEQFK4HoXr8ZdA9ihcj8LamUBxPQrXo8KdQKRwPQrXIJpA16NwPQqVikAzMzMzM7qTQAAAAAAAgI9A4XoUrkcqkkCPwvUoXAmJQLgehetRhpRAMzMzMzObmkAzMzMzM0ePQEjhehSukZJAZmZmZmY0kUDNzMzMzIyRQBSuR+F6EpFAmpmZmZnBlEBcj8L1KGeVQGZmZmZmpJRAmpmZmRm/oUAK16NwPWCKQMP1KFwP/aBAmpmZmZkxikBSuB6F62+EQClcj8L17I5AAAAAAAAHnkApXI/C9b6TQJqZmZmZGXdA7FG4HoWHhkAzMzMzM9OOQFK4HoXrXZhAzczMzMyEhkDXo3A9CveUQHsUrkfhf55Aw/UoXI/KmECkcD0K1/90QHE9Ctejl5VAAAAAAACAj0AfhetRuNebQM3MzMzMMJVAAAAAAACil0AAAAAAAC6bQKRwPQrXQJxAw/UoXI8HkUDD9ShcjxmgQD0K16Nw0YNAmpmZmZkZl0C4HoXrUUSUQMP1KFyPSo5AKVyPwvUsi0CamZmZmbOcQD0K16NwOYVAXI/C9SirlkApXI/C9fyGQDMzMzMzi4hArkfhehTPm0CF61G4ni2hQGZmZmZmA5xAzczMzMz2kEDNzMzMzHSXQM3MzMzMb5dAmpmZmZlJl0CamZmZmemWQDMzMzMzq5xAMzMzMzOKoUAK16NwPfSIQJqZmZmZ2YdApHA9CteYnkAK16NwPbSRQAAAAAAAX6VAzczMzMwkmUAfhetRuOaMQM3MzMzMPZNAZmZmZmYInUBcj8L1KMiDQGZmZmZmRpZAj8L1KNyipEDXo3A9Cn2MQArXo3A9johAuB6F61Ekh0AUrkfheliJQJqZmZmZCZ9AZmZmZmaFlUBcj8L1KMCVQLgehetRcJxAcT0K16NBlkAzMzMzMzOWQArXo3A9dJtAexSuR+EQk0DsUbgehfuUQM3MzMzMnItAKVyPwvVfkkCkcD0K11OFQM3MzMzMAphArkfhehQZlEDXo3A9igamQBSuR+F6aIhA16NwPQp9jEBmZmZmZqaTQI/C9Shcl5NAuB6F61F8l0A9CtejcCWDQM3MzMzMapdAKVyPwvXSjEDD9Shcj1qHQHsUrkfh+plAZmZmZmZmkUDsUbgehZeNQD0K16NwoJNAmpmZmZkBj0DNzMzMzEiDQFyPwvUoIpJAj8L1KFxFkkA9CtejcOuSQGZmZmZmtolACtejcD0QkED2KFyPwhmVQM3MzMzMFI1AmpmZmZkZh0BSuB6F69+WQIXrUbge5aJAzczMzMwMnEBmZmZmZoiUQFK4HoXrgJVAAAAAAACVlUCPwvUoXFiXQHE9CtejvptAKVyPwvVvlEB7FK5H4SuYQIXrUbgejYxAhetRuB7OmEBcj8L1KL2UQK5H4XoU8pVAhetRuB5qkUD2KFyPwiaYQOF6FK5HtYpAw/UoXI/8mEB7FK5H4V2RQD0K16NwZYhACtejcD13oEAzMzMzMxOEQFyPwvUoaqFAXI/C9Shsk0Bcj8L1KKuWQGZmZmZmt5tAzczMzMwMjEAAAAAAAP6fQGZmZmZmHaVAMzMzMzOVkUBmZmZmZqaTQGZmZmZmDpJAmpmZmZkJlUAAAAAAALB2QM3MzMzM7JxAZmZmZmb0k0BmZmZmZj6FQBSuR+F6DIZAw/UoXI/Ik0DsUbgehRGWQD0K16NwZpRAZmZmZmamkEDsUbgehTONQDMzMzMza4RAZmZmZmZulUBmZmZmZmiSQM3MzMzMcphAMzMzMzN7lkA9CtejcGWHQPYoXI/CYJFAXI/C9aiOoECF61G4HkuBQDMzMzMzM5ZAzczMzMy0kECuR+F6FK+kQHE9CtejEpBAUrgeheuRoEB7FK5H4cyWQJqZmZmZS4ZAKVyPwvWyl0D2KFyPwi+QQGZmZmZmZpFA7FG4HoW5jUCF61G4HkueQArXo3A9s5JA7FG4HoWVkUBmZmZmZvqOQBSuR+F6tIhAMzMzMzMFhECamZmZmXmNQD0K16NwSZdAH4XrUbjSlUAzMzMzM9OOQAAAAAAA4J5APQrXo3ComECuR+F6FOCkQJqZmZmZK5xAmpmZmZlZjEAzMzMzM02kQDMzMzMz34JAH4XrUbiuj0CuR+F6FNKbQHE9Ctejq5pAzczMzMzsjUAK16NwPXegQLgehetRgoZAAAAAAABMmEBmZmZmZqKRQDMzMzMzRZtAcT0K16Mgj0CPwvUoXNWXQFK4HoXrKpVAAAAAAADaiUCamZmZmeKXQClcj8L1qZBA7FG4HoU7g0DhehSuR8OGQGZmZmZmbptACtejcD2Nl0AfhetRuH2TQOxRuB6FEZZAZmZmZmaklECF61G4Hp+JQJqZmZmZTYpA7FG4HoVZjkAzMzMzMyeIQKRwPQrXl5lAAAAAAABSmEAAAAAAAOCQQDMzMzMzQYZAcT0K16OmjkAzMzMzM2uUQLgehetRRJRAKVyPwvUIiEB7FK5H4QGXQHsUrkfh/ZxAXI/C9SgakEAAAAAAAIiBQHE9CtejdZZAPQrXo3BmlEAAAAAAAJCSQArXo3A9HZFAXI/C9SgboUCF61G4Hp+JQNejcD0KpYNAzczMzMzkhkApXI/C9ZOSQBSuR+F62olAw/UoXI8hpUDsUbgehQuLQKRwPQrXMZJAmpmZmZmJhkCamZmZmRmXQMP1KFyPGaBAuB6F61GsjUD2KFyPwn2HQArXo3A9nKBAAAAAAADgnEBcj8L1KOacQMP1KFyPjI5AAAAAAADwfkCamZmZmcmbQFyPwvUoQZBAj8L1KFw5mEAK16NwPQCNQDMzMzMzg5dAexSuR+EIikAAAAAAAKiVQMP1KFyPTI5AcT0K16NskkBmZmZmZlyVQD0K16NwYYdAUrgeheuxmkCkcD0K12GTQJqZmZmZcZZAMzMzMzOLmEDsUbgehRCUQFyPwvUoBJ5AzczMzMxMjkB7FK5H4dWlQArXo3A91opAZmZmZma8iUCamZmZmbmGQAAAAAAAwIhAmpmZmZmZjEAfhetRuLKLQEjhehSu959AMzMzMzOAn0BmZmZmZkKIQPYoXI/Ci5VApHA9CtfMl0AK16NwPWCKQIXrUbgekZFAPQrXo3CQmEBSuB6F65WHQHE9CtejQZZAZmZmZmYImEB7FK5H4d6jQKRwPQrXnp1ArkfhehRSikDXo3A9CvmTQLgehetRGpdAZmZmZmYik0BmZmZmZrqEQDMzMzMzk4lACtejcD1IlUBcj8L1KL2UQHE9CtejTItAzczMzMw0lUAAAAAAAMiWQGZmZmZm7JJAH4XrUbjVmkAAAAAAAICTQK5H4XoUvJRA9ihcj8Ixh0AUrkfhegqVQHsUrkfhzJZAZmZmZmY7pkBmZmZmZuaVQI/C9ShcrpNAH4XrUbg1kkBSuB6F6xl8QBSuR+F6ZoRAzczMzMxzkEBcj8L1KFCEQD0K16NwqJhAUrgeheunjkAzMzMzM2OTQLgehetRZZFAFK5H4Xp8h0BmZmZmZpaUQAAAAAAAXIxAZmZmZmYGjUDNzMzMzD2TQArXo3A9tJFArkfhehQamUBmZmZmZpqbQGZmZmZmipxAFK5H4XpQfUCPwvUoXBeOQGZmZmZmLoNA4XoUrkd/iECF61G4HsybQM3MzMzMDJxAAAAAAADAiECF61G4HnqZQKRwPQrXq4lA9ihcj8IVl0DhehSuR6eLQHsUrkfhyJRAexSuR+FqjUBmZmZmZrSPQM3MzMzMWIpACtejcD1GjUDD9ShcjwCJQM3MzMzMzI5ASOF6FK7plkCamZmZmfqYQHsUrkfht5xAzczMzMxgpkBcj8L1KI6VQHE9CtejJJZA9ihcj8IsnECamZmZmWGLQM3MzMzMTIhAzczMzMw+h0AzMzMzM/ONQFK4HoXrM5VAZmZmZmY7pkBSuB6F6zmZQDMzMzMz84ZA9ihcj8KNmUBSuB6F64uZQM3MzMzMbHtA16NwPQpqlUAAAAAAAFimQDMzMzMz845AhetRuB5LgUAzMzMzM32FQGZmZmZmhotAZmZmZmbhnEAzMzMzMxuWQI/C9Shc5ZNAAAAAAADSgkDNzMzMzCyHQDMzMzMzoppAZmZmZmbAgkApXI/C9eiKQBSuR+F63ZdAMzMzMzM2mEBI4XoUrjiTQIXrUbgemYlAMzMzMzPzhkCF61G4Hml8QDMzMzMzgYhAXI/C9SgboUCamZmZmXGfQFK4HoXr14dAMzMzMzOTmUBSuB6F60+WQAAAAAAAII5Aj8L1KFwTjEAAAAAAAGCOQGZmZmZmtplAmpmZmZlZjECuR+F6FOCkQIXrUbgeO5RAcT0K16NEl0AAAAAAAByUQAAAAAAAvJJAw/UoXI8uh0DXo3A9Ci+RQMP1KFyPm5NAUrgehesflkC4HoXrUcSbQK5H4XoUCJZAuB6F61Ekd0ApXI/C9S6ZQBSuR+F6QZpAZmZmZmZ+nUA9CtejcJOeQB+F61G4dpFAFK5H4Xrsk0AzMzMzMyWZQFyPwvUoLpJApHA9CtcWo0AfhetRuNCUQHE9Ctej/pRAmpmZmZlRfkCamZmZmeGOQDMzMzMzo5tAMzMzMzMZokBI4XoUrt2iQClcj8L1caFAexSuR+EMlkB7FK5H4R2UQFyPwvUoXpZAFK5H4XoulkAUrkfhemaOQIXrUbgeeJ1AZmZmZmbhokAzMzMzM6ObQGZmZmZmCpRAmpmZmZlxl0DNzMzMzB6WQKRwPQrXg5NAexSuR+F/nkBmZmZmZkaGQAAAAAAAopdA9ihcj8JenkAzMzMzM+GRQAAAAAAAAItASOF6FK7hh0DNzMzMzByOQOF6FK5HiJlAZmZmZmZeiUAzMzMzM1iVQJqZmZmZWYxAzczMzMyMhkAzMzMzM0WgQPYoXI/CxXhACtejcD0KhkDNzMzMzNSWQB+F61G4AJRArkfhehS2jEAzMzMzMx+KQK5H4XoU/JBArkfhehTnl0BmZmZmZnaWQOF6FK5Hk5hAuB6F61FlkUBcj8L1KLCYQHsUrkfhrI1AMzMzMzNJlkA9CtejcI2PQGZmZmZmB5JAmpmZmZmdnUDNzMzMzFCGQBSuR+F6nJdAAAAAAAAIgUBxPQrXI4mjQK5H4XoUhpBAMzMzMzPzhkCuR+F6FKWcQOxRuB6FcZRAZmZmZmbmf0D2KFyPwgOIQJqZmZmZt5JA7FG4HoX3o0AzMzMzM8OPQLgehetRZIlApHA9CteclEAfhetRuDWSQM3MzMzMpJdAKVyPwvUEikBI4XoUrpGSQJqZmZmZSX1AuB6F61HHl0CamZmZmRmUQBSuR+F6wIxAAAAAAADQmkBcj8L1KM6RQJqZmZmZfYNAZmZmZmZwh0CamZmZmUGcQAAAAAAAgItAAAAAAADIlkAfhetRuA+fQMP1KFyPt5JASOF6FK6DjEAUrkfhegCNQAAAAAAALIxAhetRuB7YlUDNzMzMzLSAQArXo3A9B5BAw/UoXI/IhkBmZmZmZq6EQOF6FK5HmYxAMzMzMzNYlUAfhetRuK2YQM3MzMzMTJJAUrgehet7iEC4HoXrUVKPQI/C9Shc6JBAuB6F61H0lUCuR+F6FKeQQDMzMzMzXZVArkfhehTblkCF61G4HvGFQClcj8L1ioNAAAAAAAAwmUD2KFyPwjyaQJqZmZmZMYpA4XoUrkeZjEDNzMzMzEKNQAAAAAAAoJtAexSuR+EPkUDNzMzMzGOdQDMzMzMzpZNAzczMzMzMk0BmZmZm5iGhQD0K16Nwc5RApHA9CtdSnkD2KFyPwvSdQFK4HoXrP4tAZmZmZmbinEAAAAAAAACSQGZmZmZmxpBAMzMzMzMPlkAzMzMzM2OTQClcj8L1vpNAhetRuB6ZiUDNzMzMzAyWQDMzMzMz045A9ihcj8LJikB7FK5H4SKHQFyPwvUo5o1ACtejcD0MiUDNzMzMzJKeQI/C9ShcH5lAmpmZmZnZkUAAAAAAgL2gQBSuR+F6wpZA7FG4HoX7lECkcD0K12uPQDMzMzMzvZZACtejcD0jnkCkcD0KVwOkQK5H4XoUzIpAzczMzMxIk0AfhetRuKp2QD0K16NwaJNAzczMzMz0mEDhehSuR/GUQAAAAAAA0IpA7FG4HoXRi0AK16NwPcmSQGZmZmZmSKBAMzMzMzPnd0A9CtejcBGVQAAAAAAAgIZAuB6F61HekkDsUbgehaGSQHE9CtejuJRAmpmZmZm5j0DD9Shcj9KMQB+F61G4DpxAMzMzMzMThEAK16NwPQyUQLgehetRsZxApHA9Ctcnh0AK16NwPSOeQGZmZmZmhntAKVyPwvXao0A9CtejcLWIQBSuR+H6yqBAPQrXo3D5ikAK16NwPc6AQFyPwvUox5RAXI/C9agspEAAAAAAAPB+QDMzMzMzP49A7FG4HoWtkEBmZmZmZgWTQOxRuB6F+pRAmpmZmZlNikApXI/C9cB9QEjhehSuPJZACtejcD1Gi0CkcD0K11SWQNejcD0Kj5NAH4XrUbiyi0C4HoXrUa6YQAAAAAAAwIhAFK5H4XraiUAzMzMzM9+SQB+F61G4wIpAzczMzMyMlEAzMzMzM56VQBSuR+F6C51AUrgeheumpEB7FK5H4SGVQI/C9ShcU5dAMzMzMzPThkBmZmZmZr6TQD0K16Pwh6JAexSuR+GgmkAfhetRuIaPQHsUrkfhzpZAmpmZmZlBnED2KFyPwiaYQGZmZmZmhp5AAAAAAADgjEDXo3A9CpSlQIXrUbgezJtAMzMzMzMzj0AK16NwPUaNQFyPwvUo9IxA16NwPQovkUCF61G4Hi+TQMP1KFyPuIxAw/UoXI8ZoEAAAAAAAICPQClcj8L1vpNAzczMzMy0mkCPwvUoXAKaQM3MzMzM1JRAAAAAAADIlkBmZmZmZsaKQClcj8J1+6NA16NwPQqTjkCamZmZmfyhQD0K16Nw/5hAzczMzMx3n0DD9Shcj6aKQM3MzMzM2IpA9ihcj8Ljh0DsUbgehWeLQHsUrkfh45tAXI/C9Sjui0CuR+F6FPKTQAAAAAAAVqJAzczMzMzchUB7FK5H4cyHQLgehetRZZFAXI/C9SgUd0BI4XoUrsiXQHE9CtejFaJAmpmZmZnpgEBmZmZmZvKHQJqZmZmZOZ5ApHA9CtfymUDhehSux22kQMP1KFyPko5A9ihcj8KEmECkcD0K11SWQGZmZmZmVZlA7FG4HoUllUCamZmZmZmBQLgehetRlIJAZmZmZmZmlECkcD0K156dQPYoXI/CP4pA9ihcj8I5jUAUrkfhegOfQArXo3A9SJVACtejcD1qnEDsUbgehaaRQArXo3A9IJ9ApHA9CteDgEAzMzMzM36XQGZmZmZmZnpAZmZmZmYmgkCuR+F6FA6IQI/C9ShcoYpAAAAAAAAajEBmZmZmZu6QQI/C9ShcU5dASOF6FK5rmkDNzMzMzAyWQHE9CtejQZZAmpmZmZl5jUD2KFyPwmOCQK5H4XoUtoxAAAAAAAB1kUAUrkfheoWQQNejcD0KN5NAAAAAAAA8fUAK16NwPbmcQFK4HoXrt5ZAZmZmZmbdkUCamZmZmRGWQFK4HoXr+YFAuB6F61GtlUCPwvUoXPaTQM3MzMxMg6FAw/UoXI+jlEBxPQrXo26VQHE9CtejKpJAmpmZmZk5i0ApXI/C9R6HQJqZmZmZ75BA16NwPQoYpEA9CtejcNGDQJqZmZmZCZ9AH4XrUbhDlUCuR+F6FMyKQGZmZmZmsJFAKVyPwvVWgkBI4XoUrkeTQGZmZmZmpolArkfhehS8lECkcD0K16KQQJqZmZmZMZpAZmZmZmYel0D2KFyPwvWBQJqZmZmZHY1Aj8L1KFzDlkB7FK5HYTmiQGZmZmZmVKFAZmZmZmaomkApXI/C9eyVQAAAAAAAiIFAH4XrUbhyikCamZmZmSeRQGZmZmZmSKBAMzMzMzM3o0DXo3A9CpOOQAAAAAAAzJRAKVyPwvXAfUCF61G4HkueQDMzMzMzQ5VAMzMzMzNjg0BI4XoUriGPQK5H4XoUuo1A9ihcj8JgmkDsUbgehXSTQMP1KFyPO5xA9ihcj8JZjECamZmZmQGEQEjhehSuOJNAuB6F61FlkUApXI/C9W+UQI/C9Shc05ZAH4XrUbjKmkBmZmZmZjaRQHE9CtejKoJAPQrXo3AfmUDNzMzMzOqVQHsUrkfhuJhAzczMzMz0lkBmZmZmZiaCQM3MzMzMzINAzczMzMzElUAUrkfhes+hQArXo3A92ZRArkfhehSsj0ApXI/C9ZOSQKRwPQrXFZ9AZmZmZmYCg0D2KFyPwn2HQHsUrkfhrI1AhetRuB4RmkA9CtejcF+CQM3MzMxMg6FAw/UoXI+chkDsUbgehS+ZQDMzMzMzc4VAhetRuB4QlECPwvUoXD2QQDMzMzMzm5pAmpmZmZlRnkAK16NwPRKSQPYoXI/CxYhAZmZmZmaam0CF61G4HjuUQFyPwvUodJlArkfhehSylUAzMzMzM8OSQPYoXI/CMYVAXI/C9Si9lECamZmZmbGVQBSuR+F6DpVA9ihcj8Izi0DXo3A9CiWhQK5H4XoUFqZAmpmZmZl5jUDhehSuR1OOQDMzMzOzYaRA9ihcj8IvkEBxPQrXo9KOQHsUrkfhXZFAXI/C9SjAlUDXo3A9CkeOQNejcD0KOY9AMzMzMzM+nkDD9Shcj5CRQGZmZmZmAo5Aj8L1KFx5nkBcj8L1KGqhQLgehetR6JRACtejcD1Sf0BSuB6F6zePQAAAAAAA8JVAFK5H4Xp8kED2KFyPwn2HQM3MzMzM7IdAcT0K16N2kEAUrkfhetqJQEjhehSuYYRAZmZmZma2mUCamZmZmQGPQGZmZmZm5p1AmpmZmRnKo0D2KFyPwuCZQClcj8L1VoJAUrgeheunjkBxPQrXo1KQQDMzMzMzM5ZAXI/C9SiwfkBmZmZmZoaIQM3MzMzMjItAAAAAAABAnUDNzMzMzD+UQArXo3A91opAMzMzMzOXlEAK16NwPViVQD0K16Nwk4NAzczMzMxGiUC4HoXrUSCiQOF6FK5HKpJACtejcD0OkEAzMzMzM/OWQJqZmZmZWYRAmpmZmZmpdEAzMzMzMwOSQDMzMzMzu55Aj8L1KNyho0AAAAAAAECRQD0K16NwaYBArkfhehSIkkAAAAAAAIiBQArXo3A945NAMzMzMzNDlUAAAAAAAICTQHsUrkfh+JNAAAAAAAD9lkBxPQrXoxOQQClcj8L1tp1AH4XrUbgykUDsUbgehYOQQGZmZmZmdnxA7FG4HoX2okC4HoXrUfiDQAAAAAAA1I5A16NwPQpLf0AUrkfhegSVQHsUrkfhIZVA16NwPQpilEC4HoXrUSOXQM3MzMzM2JpAmpmZmZlRjkCPwvUoXKGKQAAAAAAAwIhAXI/C9Sh4fkCPwvUoXFydQEjhehSuYpFAj8L1KFypoEBmZmZmZlCNQPYoXI/CPYpAj8L1KFyljUDNzMzMzGCTQFK4HoXrlZdAmpmZmZk5kEDNzMzMzPSYQAAAAAAAPIZAmpmZmZkBj0ApXI/C9WB/QClcj8L1OI5AzczMzMyMkUCPwvUoXDeUQFK4HoXrkaBAMzMzMzPfjUAAAAAAALCGQPYoXI/CM4tAAAAAAACAkEBcj8L1KBaXQArXo3A9HZFA7FG4HoXgnUBmZmZmZlSWQK5H4XoUeZNAFK5H4XpQfUBSuB6F66eOQFK4HoXrP4tA7FG4HoWRm0BI4XoUrj6VQEjhehSuOJNAexSuR+ECikAUrkfhegmTQHsUrkfhEJNASOF6FK5Dj0BxPQrXo8yOQAAAAAAAZpNAj8L1KFy3fkC4HoXrUReUQGZmZmZmZodAmpmZmZlBnECamZmZmZmVQDMzMzMzM49AzczMzMz0mEAAAAAAALiSQI/C9ShcQppACtejcD1GjUCF61G4HuOGQClcj8L1CHpAFK5H4XoWlkCuR+F6FBqZQLgehetRiJNA7FG4HoXklkDsUbgehTuTQGZmZmZmbptAAAAAAAA8dkBxPQrXo+qJQHE9CtejqoFAzczMzMzcmEDNzMzMzByTQD0K16NwpX1ApHA9CtdTlUDhehSuR2mYQOxRuB6Fw4pACtejcD2gm0C4HoXrUQ2XQArXo3A9HZFAMzMzMzMniEBmZmZm5gegQDMzMzMzc5JACtejcD2NmUApXI/C9S6ZQDMzMzMzC5FAmpmZmZkJhUA9CtejcJCYQHsUrkfhDndAhetRuB5WkEA9CtejcNGDQDMzMzMzw5JAXI/C9SgboUAzMzMzMwiWQBSuR+F6Zo5AmpmZmZmphEDNzMzMzOKjQPYoXI/CL5BAj8L1KFxDnUDXo3A9CuOXQMP1KFyPvIBACtejcD1yiUDXo3A9CjuMQNejcD0K2Z5AmpmZmZm3lEDhehSuR7WGQEjhehSu6pNAzczMzMxQdkDD9Shcj4edQFyPwvUoS5ZAmpmZmZmniUAAAAAAAJSYQKRwPQrXA5JAuB6F61Ejl0B7FK5H4SCRQOF6FK5HtYZAj8L1KFwHhkCamZmZmZmcQLgehetRzIxAXI/C9aiOoEDhehSuR+uEQClcj8L1bI5AcT0K16NBlkBmZmZmZvaXQOF6FK5HTJVAMzMzMzMdkEBcj8L1KOyXQClcj8L1npxAj8L1KFzVl0B7FK5H4SeVQMP1KFyPQKJA7FG4HoX7l0CkcD0K14+aQDMzMzMzm5pAZmZmZmZCiEDhehSuR/mTQHE9Ctej+JVAmpmZmZmZjkDhehSuR0yVQOF6FK5H0pFA4XoUrkfxl0Bcj8L1KO6LQPYoXI/CxpBACtejcD1uhUAAAAAAACCRQBSuR+F6ZoRA4XoUrkcEl0CF61G4HluaQB+F61G4NZJAFK5H4XrUh0CPwvUoXHmeQM3MzMzMGI1AKVyPwvXXl0AAAAAAAE6aQAAAAAAA05lAUrgehevtoUDNzMzMzAx8QEjhehSuuZZAFK5H4XpEk0AfhetRuBmTQArXo3A9boVAzczMzMzMfkAAAAAAAMiZQPYoXI/CYJpAPQrXo3DpjkBmZmZmZmKUQAAAAAAAkJJArkfhehS6jUAAAAAAAECUQFK4HoXrKYNAmpmZmZlxh0BI4XoULjSiQPYoXI/C9J1A9ihcj8IcokApXI/C9fiXQDMzMzMz35JAcT0K16O0nkBxPQrXo/qIQDMzMzMzUaRAZmZmZmamkEDNzMzMzByeQGZmZmZmQpBAmpmZmZlBnEApXI/C9cB9QAAAAAAA8JVAKVyPwvWKg0DNzMzMzKiUQK5H4XoUCJZAmpmZmZn5kkBmZmZmZnaGQOxRuB6FFZJAhetRuB54nUCamZmZmYWXQEjhehSuXZRAAAAAAABAfkCF61G4HlaQQJqZmZmZY5hAMzMzMzNrlEAUrkfheuyBQOxRuB6FeZJAw/UoXI/jkkDNzMzMzNqSQFK4HoXryJ9AFK5H4Xp8nEAUrkfhesCMQFK4HoXrjJ5A4XoUrkfgkkApXI/C9amQQOF6FK5He5RA9ihcj8JdhUAzMzMzM32YQFyPwvWo/KRA4XoUrkcslUAUrkfh+jCgQMP1KFyPgZFA7FG4HoUYm0AfhetRuA5+QPYoXI/CWZRAMzMzMzOzjUBxPQrXo1afQGZmZmZmdoxAzczMzMyci0AfhetRuO6KQAAAAAAAyJlAFK5H4XoZl0DsUbgehROVQGZmZmZmJoJAmpmZmZmZjkBI4XoUrvSVQJqZmZmZqaNAUrgehev+mkDsUbgehfuUQK5H4XoUCp5ACtejcD36ikDsUbgehU2MQMP1KFyPaJtAzczMzMysi0DD9ShcjwySQGZmZmZmhp5AmpmZmZlBnEDNzMzMzAyMQBSuR+F64ItAw/UoXA8QoEAUrkfh+sqgQM3MzMzMu5FACtejcD3AgkApXI/C9e6TQIXrUbgeapFAhetRuB76mEDNzMzMzMx+QJqZmZmZ+ZJAexSuR+H8jUDNzMzMzNSEQArXo3A9Ro1A4XoUrkfQl0CkcD0K16KQQM3MzMzMDo5ApHA9Ctcnh0CF61G4HnWWQM3MzMzMjJ5AexSuR+Hjm0CkcD0K1zueQM3MzMzM5IZAAAAAAADQmkC4HoXrUQ2XQLgehetR65VA4XoUrkfQl0DNzMzMzASLQJqZmZmZV6NAXI/C9SjkkUC4HoXrUSKcQNejcD0Kd4dAAAAAAABCoEAK16NwvYahQHsUrkfhVZVApHA9ClfjoUBxPQrXo9qdQB+F61G4Oo1AmpmZmZm3kkDNzMzMzGSVQClcj8L1IoVAFK5H4XoulkCuR+F6FBmUQDMzMzMz849A16NwPQofd0CamZmZmWubQGZmZmZm1pJArkfhehQEh0CamZmZmVF+QM3MzMzM2IpAuB6F61FElEB7FK5H4Q6AQIXrUbgeZJJAH4XrUbh2iEDNzMzMzBehQClcj8L11IlA7FG4HoWRm0AUrkfhehSGQBSuR+H6OqNAUrgehevXmEAAAAAAAICPQM3MzMzMfJpAH4XrUbhQkkAzMzMzM8uXQKRwPQrXaJFAmpmZmZlRnkCF61G4HuecQHE9Ctcjq6FAmpmZmZk5i0CPwvUoXFOXQDMzMzMzm5RAmpmZmZnpkEApXI/C9fyDQJqZmZmZOZBACtejcD1sg0Bcj8L1KGyXQDMzMzMz5KRAAAAAAAAgikA9CtejcGmAQMP1KFyPP55A7FG4HoULi0DNzMzMzBSUQOxRuB6FEJRAMzMzMzOzjUBSuB6F6xadQAAAAAAA2ItA9ihcj8IYnEDNzMzMzGyJQI/C9ShcN5RAj8L1KFxDnUBmZmZmZuZ/QDMzMzMzj4tAZmZmZma+fkC4HoXrUeycQLgehetRRJRAhetRuB7ulkDNzMzMzCyIQJqZmZmZmZVAZmZmZmYWkEDhehSuRzKcQPYoXI/CFX5AzczMzMwMk0BI4XoULj6lQIXrUbgeT5BAMzMzMzNBhkDhehSuR4KTQD0K16NwL5VAzczMzMzMk0DNzMzMzBCHQKRwPQrXU4dAmpmZmZk5i0AAAAAAALaJQM3MzMzMzI9ACtejcD0OkEA9CtejcPqQQPYoXI/Cd5VAUrgehevLlEBmZmZmZiCMQDMzMzMzupNAZmZmZmbGgEAAAAAAAF+TQLgehetRJIdAzczMzMwGnEBcj8L1KPqRQBSuR+F6BJVAmpmZmZkZlEDsUbgeBS2iQM3MzMzMxJJAzczMzMwdkkBcj8L1KPmQQHsUrkfhmoZAmpmZmZk0mEAzMzMzMxOPQFyPwvUoFpdAAAAAAADMlEAzMzMzMyecQAAAAAAAaZFAmpmZmZn6mEBmZmZmZsSYQGZmZmZmDpJAj8L1KFzTlkBSuB6F63OUQEjhehSuAYxAKVyPwvUVkUCuR+F6lFqhQOF6FK5HbXdArkfhehT4lkDsUbgehQaWQIXrUbgeNpVAZmZmZmaAlUBI4XoUrl+MQEjhehSuBpJAPQrXo3ATj0CF61G4HuKUQEjhehSuPJtA9ihcj8I/j0AAAAAAAP+RQAAAAAAAQJFAH4XrUbhHlUCF61G4HoKTQHE9CtejzI5AMzMzMzPzkEBcj8L1KEiMQEjhehSuO5RACtejcD1Gi0CkcD0K15aXQHsUrkfhSJJAZmZmZmb+fkAzMzMzM3GWQAAAAAAAgppAj8L1KFwJiUAUrkfhesGRQIXrUbgeVpBA16NwPQqYkUDNzMzMzGyJQJqZmZmZCZVAuB6F61E1lUAfhetRuPWUQGZmZmZmP5tAUrgehestkkAzMzMzM+GRQM3MzMzMTJVAZmZmZmaai0DNzMzMzJaUQHE9CtejmJlAAAAAAABCoEDNzMzMzC2gQEjhehSuc41A16NwPQpsmkDXo3A9CmKUQK5H4XoUz5tAPQrXo3AkmkDNzMzMzCyHQKRwPQrXI35AmpmZmZmZkkCamZmZmdmUQJqZmZmZmY5AmpmZmZlBjEAK16NwPSCLQPYoXI/Ci5VAAAAAAACVlUA9Ctej8IeiQI/C9ShcXpZAj8L1KFzrk0AzMzMzM7ONQAAAAAAAgItAzczMzMzEokCamZmZmaeKQJqZmZmZWX9AhetRuB4rmECuR+F6FBOjQAAAAAAA8I5AKVyPwvVvlEB7FK5H4X+eQGZmZmZmQohAMzMzMzPfkkBxPQrXozCVQB+F61G48IlASOF6FK4llkBmZmZmZkZ2QAAAAAAAAJJAexSuR+GugkDD9Shcj1KJQClcj8L1tp1ACtejcD13oEAAAAAAAKB0QKRwPQrXDpFAhetRuB4vk0CF61G4HsGSQFyPwvUo/JFAH4XrUbhQkkDNzMzMzAx8QGZmZmZmFohAZmZmZmYmlUAAAAAAAJCSQGZmZmZmWJpApHA9CteriUAK16NwvWeiQDMzMzMzC5FAAAAAAABenUAK16NwPbp4QIXrUbge+phAuB6F61GFkUDNzMzMzFiFQFyPwvUoGpBAj8L1KFzikkAAAAAAALyJQKRwPQrXaZVAhetRuB4RikBSuB6F6/mBQKRwPQrXbZFAZmZmZmZmmkBmZmZm5gygQFyPwvUofppAAAAAAACAkEAAAAAAAK+bQOF6FK5HTJVAAAAAAAASkECF61G4HhGKQK5H4XoUe5JAKVyPwvXTkEA9CtejcD+LQOxRuB6FhYhAZmZmZmYilUD2KFyPwtWTQGZmZmZm6Z5ArkfhehQIlkC4HoXrUUKKQAAAAAAAaJNAcT0K16OmjkAzMzMzM0mWQGZmZmZmZppAuB6F61EVlEAAAAAAALCfQClcj8L1NJlA4XoUrke1ikDXo3A9CoeQQJqZmZmZLYhAKVyPwvVgf0BmZmZmZtCQQEjhehSuhpNACtejcD1XnkAAAAAAAP+RQOF6FK5HN5tAXI/C9SgWh0DsUbgehVmOQGZmZmZmvJlAAAAAAABMlUBmZmZmZv5+QGZmZmZmpppAzczMzMw+oEBxPQrXo3+UQAAAAAAAQJRAPQrXo3AcmEBSuB6F6/GXQM3MzMzMzINAXI/C9SjHlEB7FK5H4QJ6QAAAAAAA8JVArkfhehRkkEB7FK5H4QJ6QKRwPQrXf4FAZmZmZmbCiUD2KFyPwsGeQHE9CtejRJdAMzMzMzPTjkAzMzMzM2uEQHE9CtejAJVACtejcD1udUBxPQrXo5iPQI/C9Shc+ZVAZmZmZmamkEA9CtejcDmHQClcj8L1nIJAzczMzMxMiUAzMzMzM5OTQOxRuB6FUZNAMzMzMzP7m0AzMzMzM4N3QNejcD0K3pRApHA9ClfjoUC4HoXrURiIQD0K16Nw5ZNAAAAAAADIlkDhehSuRzeTQOxRuB6Fh4ZAZmZmZmZ2nEAzMzMzsw2hQMP1KFyP8IlAzczMzMy8kUCamZmZmWOZQHE9CtejOJFASOF6FK4ElECamZmZmamDQHE9Ctej+ohAKVyPwvUPnkCamZmZmY2VQBSuR+F6voZAAAAAAACil0DhehSuR2mQQOxRuB6F+5dAFK5H4XooiUCamZmZmdmHQAAAAAAAa5dAAAAAAABSlkAUrkfheqSJQB+F61G45qNAMzMzMzN/nECF61G4Hl6UQGZmZmZmRoZAuB6F61FwkEA9CtejcN+GQJqZmZmZYZFAPQrXo3C8nkDNzMzMzAyPQAAAAAAADI9A16NwPQpilEC4HoXrUSOXQMP1KFyPiIhAj8L1KFyljUBcj8L1KJehQD0K16NwCYdA9ihcj8LgmUB7FK5H4ZiVQDMzMzMze4ZAzczMzMxkkkDD9Shcj6aKQB+F61G4BIVAUrgehetdmEAfhetRuHJ6QAAAAAAAmINAmpmZmZlLlkAfhetRuLqYQGZmZmZmHpdAAAAAAACwlkAK16NwPQaMQJqZmZmZwZRAH4XrUbjrlEAzMzMzM0WZQD0K16NwYYdAmpmZmZkZd0AzMzMzM9eUQK5H4XoUpqBAmpmZmZlJnUBcj8L1KGyTQJqZmZmZXKBAMzMzMzMxlUCamZmZmd6gQMP1KFyPnZJAZmZmZmbAj0AAAAAAAKukQBSuR+F67JFAzczMzMyklEDXo3A9iq+iQLgehetR4I5A16NwPQpFgkApXI/C9Q2YQMP1KFyPpIxA9ihcj8JdlUB7FK5H4ayNQAAAAAAA/qJAhetRuB6fiUBI4XoUroeAQDMzMzMzL6FA7FG4HoXMlUAzMzMzM6OYQGZmZmZmDpJAuB6F61Hsi0BI4XoUrl+OQOxRuB6FzYJAZmZmZmbmi0DD9Shcj0qOQJqZmZmZmZJA7FG4HoUel0CuR+F6FKyPQArXo3A9d6BA16NwPQrRk0DNzMzMzASbQI/C9ShcB4ZAexSuR+ErmEAzMzMzM4uIQHsUrkfhrJ1AAAAAAAA0h0DhehSuR8qaQDMzMzMzF5pAzczMzMwMlkCF61G4HtiVQBSuR+F67IFAAAAAAAA8hkA9CtejcGmAQAAAAAAA8I5AzczMzMwMnECkcD0K10+dQLgehetRXpRAMzMzMzOimkDXo3A9CoePQM3MzMzMCJdAuB6F61HuhkCkcD0KV0ajQEjhehSu5YBAUrgehevxl0DsUbgehdd/QHsUrkfhDJZAzczMzMwSnECPwvUoXLiQQOF6FK5H9JhAZmZmZmYik0A9CtejcF+CQHsUrkfhjoNAhetRuB5Jk0CamZmZmQmVQJqZmZmZ75BAcT0K16MwpEApXI/C9badQKRwPQrXj5JApHA9CtdmlEC4HoXrUZmWQM3MzMzMmpRArkfhehQTo0AzMzMzM7+SQGZmZmZmnZFA7FG4HoXRi0CkcD0K1yeFQBSuR+F6UH1AFK5H4XpWkUAUrkfheuGVQAAAAAAAaJNA9ihcj8LJekAK16NwPROgQNejcD0K0ZNA4XoUrkfVmkBI4XoUrj6VQM3MzMzMzI9AmpmZmZlBnEAK16NwPbOSQAAAAAAA0IpA16NwPQr/mkCamZmZmfGBQB+F61G49olA7FG4HoUvmUBmZmZmZnaWQJqZmZmZWYxAZmZmZmZwm0BxPQrXo5CQQGZmZmZmypZAPQrXo3A5hUBcj8L1KICSQDMzMzMzWJVA7FG4HoVZjkCamZmZmUeYQMP1KFyP0oxAzczMzMwshUD2KFyPwlOPQIXrUbgegpNAzczMzMx6kUDhehSuR0abQGZmZmZmdpZASOF6FK7TmEDsUbgehfqUQM3MzMzMyptAFK5H4Xr0ikBxPQrXoy+jQPYoXI/Cd5VA4XoUrsdtpEBmZmZmZtGTQDMzMzMz84pAw/UoXI8sj0AK16NwPWyTQDMzMzMzM49Aj8L1KFwJiUApXI/C9VyUQGZmZmZmppNAexSuR+FZlUAUrkfhekSTQMP1KFyPbIpAUrgehevppUCamZmZmZmOQIXrUbgeVpBACtejcL0coEAAAAAAAG+iQKRwPQrXrpJAMzMzMzObmkAzMzMzMzGVQBSuR+F6LpZAw/UoXI88kkBmZmZmZk6HQDMzMzMzaZ5AMzMzMzOUkEDNzMzMzBx+QBSuR+F6GZdApHA9CtfMl0BI4XoUrgqTQArXo3A9bJNAAAAAAAAOjUDNzMzMzBSNQIXrUbgeHp5AZmZmZmYmgkAAAAAAAECdQDMzMzMzs41A4XoUrkeFjUCPwvUoXLuVQGZmZmbmxqFAMzMzMzNFmUDsUbgehRGWQK5H4XoU4KRAPQrXo3AfmUCkcD0K10CcQDMzMzMzXZ5AZmZmZmZQnEAUrkfhejSMQJqZmZmZLYhAZmZmZmYOkkCPwvUo3CumQM3MzMzMDIxAZmZmZmYaj0BmZmZmZh2lQAAAAAAAUpZA4XoUrkeni0CPwvUoXIqkQDMzMzMzt5JAZmZmZmbmjkBcj8L1KHiOQFyPwvUoS5ZAexSuR+EHmkBmZmZmZnZ8QM3MzMzMmptAmpmZmZkxikCkcD0K14WGQMP1KFyPEpVAPQrXo3DqkkBxPQrXo9qdQHsUrkdhOaJAZmZmZmaWhEAzMzMzM5uKQOxRuB6FoZJAexSuR+F/nkAzMzMzM3OSQHsUrkfhpZFA16NwPQpqlUBSuB6F67OUQNejcD0KGKRAw/UoXI8TlkC4HoXrUReYQArXo3A9sZVAmpmZmZkJdUApXI/C9dqjQFyPwvUo7JdAFK5H4Xq0iEBxPQrXoyGUQLgehetR7oZAPQrXo3CjnUCamZmZmQmVQNejcD0KjJJAZmZmZmaqiUC4HoXrUYaUQAAAAAAAQJRAmpmZmZmLokDNzMzMzE6cQGZmZmZmcJtAhetRuJ40pECkcD0K192GQGZmZmZmIpNAw/UoXI8SlUBI4XoUrueXQIXrUbgeW5pAj8L1KFzlk0CF61G4HvqYQJqZmZmZiZBAZmZmZmaLoEDNzMzMzMSVQPYoXI/CYYBApHA9CtdKnEAzMzMzM4GIQDMzMzMz84ZA7FG4HoV3jUAK16NwPRSHQGZmZmZmtI9AAAAAAAC4kUCuR+F6FHGSQLgehetRIo1ApHA9CtfLjEDD9Shcj4iYQJqZmZmZxYxAcT0K1yOIoEAfhetRuOeSQAAAAAAAgJNAMzMzMzMDkkCuR+F6FEGSQAAAAAAABIFAhetRuB4xl0BmZmZmZvibQNejcD0Ks4pAXI/C9Shsl0CamZmZmTmLQD0K16Nwr5FAZmZmZma0j0AzMzMzM/OWQArXo3A91npAUrgehes3lkCPwvUoXGuiQB+F61G4XZNAw/UoXI+HlkDXo3A9Cm2NQAAAAAAAYI5AZmZmZma6hEDNzMzMzAqXQJqZmZmZ05BAXI/C9SigjkAAAAAAABiVQJqZmZmZS4ZAZmZmZmaGiEBxPQrXo/qIQEjhehSuhJ1A4XoUrkeNiUCamZmZmQGEQDMzMzOz+qFAcT0K16OhlkCamZmZmUuGQHE9CtejcI1AzczMzMwEi0DNzMzMzMyOQI/C9ShcoYpAj8L1KFxTl0AAAAAAADqlQKRwPQrXhJZAzczMzMwEm0BmZmZmZmaRQM3MzMzMrJlACtejcD0Lk0BxPQrXo5aVQBSuR+F6RINAw/UoXI/dmEAzMzMzMxeaQPYoXI/CuJRAMzMzMzPLl0AAAAAAACCOQFK4HoXrKpVAAAAAAAAUn0BSuB6F63OIQDMzMzMzu5JACtejcD03mEAAAAAAAOiCQAAAAAAAnJpAFK5H4XrYhkCamZmZmfmIQArXo3A9YIpAKVyPwvXTkED2KFyPwvCSQKRwPQrXLpJAuB6F61EWlkAAAAAAABudQM3MzMzMY5lAPQrXo3DFmkBxPQrXo1KQQClcj8L1wIFASOF6FK6ZjkD2KFyPwi+QQGZmZmZmZopAFK5H4Xp0kEAK16NwPQCNQGZmZmZm5oRAcT0K16O6l0DNzMzMzHGkQAAAAAAAkIJA7FG4HoVenkBmZmZmZgaNQBSuR+F6/opApHA9CtccmEC4HoXrUfSVQArXo3A9EJBArkfhepQ8pEDhehSuR3ONQK5H4XoUO5VA16NwPQqvjkCPwvUoXIeSQClcj8L17JVApHA9CteriUBmZmZmZh6XQAAAAAAALotAzczMzMz8mUBcj8L1KOqGQClcj8L1SJNAZmZmZmbmi0CamZmZmZmOQDMzMzMzeZNAH4XrUbj6iEAAAAAAAGmRQDMzMzMz845A16NwPQoloUAUrkfhej+TQArXo3A9AI1AUrgehev3h0AzMzMzM/OGQM3MzMzMQJJAZmZmZmYmgUAzMzMzMzeaQIXrUbgeaYxAXI/C9Siug0BmZmZmZl6JQOF6FK5HvYpAAAAAAACwlkAK16NwPR2RQI/C9ShcU5dAzczMzMy8jEDXo3A9ComRQB+F61G4wZFA4XoUrkdpmEBSuB6F6xOTQKRwPQrXC5hAAAAAAADgoUDNzMzMzNiKQGZmZmZmJpJAKVyPwvUVkUAK16NwPbp4QHE9CtejzI5AmpmZmZmblEAAAAAAACyRQNejcD0KrZBAAAAAAABAfkCamZmZmUqZQGZmZmZmOplASOF6FK6RkkAAAAAAABiVQDMzMzMzW4JAZmZmZmZqnECamZmZmbmPQLgehetRF5RAuB6F61GsjUCF61G4HsePQB+F61G4OJxAMzMzMzM3mkCkcD0K12mVQFyPwvUoIoJAzczMzMwMkUAzMzMzs5SjQOF6FK5HTpJAj8L1KFxniUAAAAAAADSNQLgehetRF5RAmpmZmZnCk0D2KFyPwiycQAAAAAAAopdAFK5H4XrkhkA9CtejcJ+YQM3MzMzMtIBA16NwPQr5k0CamZmZmYGeQFyPwvUoS5ZAzczMzMy8nUAAAAAAAOB8QAAAAAAAkpRAAAAAAIDIokCuR+F6FFCWQD0K16NwApNAmpmZmZkZh0AUrkfhelWTQJqZmZmZAJNAH4XrUbiqhkBmZmZmZuZ/QNejcD0KQptAUrgehethiUD2KFyPwgqiQDMzMzMzU4pAPQrXo3ALl0DNzMzMzMSiQJqZmZmZZJNAZmZmZmYdkkBI4XoUrn6WQClcj8L1/IZAzczMzMyPpUDXo3A9CmKUQKRwPQrXP45ACtejcD2mhkDXo3A9CkuPQPYoXI/CEJJAZmZmZmYWnUDhehSuRyiXQAAAAAAA8H5AMzMzMzPGo0BSuB6F6xl8QHE9Ctej6qNAH4XrUbj7k0CamZmZmVGeQAAAAAAAgI9ApHA9CtdpjUDNzMzMzFyfQKRwPQrXP4NAUrgehesVnkCamZmZmaqTQM3MzMzMbIJAZmZmZmZ2fECuR+F6lDKhQAAAAAAAUpZAmpmZmZnhd0CPwvUoXD2QQAAAAAAAgJNAMzMzMzOznUBxPQrXowCYQFyPwvUobJNAzczMzMwYfUBmZmZmZmKUQAAAAAAAvJJApHA9CtcnhUAzMzMzM6OQQJqZmZmZOZJA4XoUrke1dkDXo3A9Ck2UQOxRuB6FIpJAZmZmZmaGjkApXI/C9XiQQDMzMzMzG5ZAmpmZmZmVlkAAAAAAAFKIQHsUrkfhIodArkfhehQUpEBmZmZmZmKPQDMzMzMzVaRAhetRuB5/nEAAAAAAAKB0QAAAAAAAgJBAUrgeheuCkUCamZmZmUGcQAAAAAAAcJxAFK5H4XoOlUAzMzMzM6ShQAAAAAAA2ItAAAAAAADSkkBI4XoUrtSVQOF6FK5H9JhAMzMzMzPZjkC4HoXrUbCgQJqZmZmZmZxA9ihcj8KLlUBSuB6Fa2GhQI/C9ShcXpZAcT0K16MqkkDNzMzMzLSaQGZmZmZm1oJAUrgehesqlUBI4XoUrnGaQHsUrkfhpotAzczMzMzEgkBxPQrXo5iSQOF6FK5HS5ZAZmZmZmYmgUBSuB6F6ymTQOF6FK7HW6JA16NwPQqPk0CuR+F6FKyPQMP1KFyPyJNASOF6FK46l0AzMzMzM8ySQBSuR+F6FpZA9ihcj8IYnEB7FK5H4TyWQLgehetRGIVASOF6FK4tnkCkcD0K1zmPQOF6FK5HNXlAPQrXo3BqlEBI4XoUrjuUQDMzMzMza5RAMzMzMzPfjUCkcD0K18yXQHE9CtejMJVA9ihcj8JenkDD9Shcj06XQHsUrkfhIZVAuB6F69FfoEDNzMzMzIiLQGZmZmZmYo9AFK5H4XrukkCuR+F6FCSeQGZmZmZmi6BAj8L1KFwCmkCamZmZmQmZQK5H4XoUz5tAKVyPwvVIh0BxPQrXo5meQD0K16NwaJNArkfhehSylUBmZmZmZiaVQBSuR+F69IpAzczMzMyalECamZmZmRGGQNejcD0KhJRArkfhehTMikAfhetRuPWUQOF6FK5HyppAuB6F61EnlUDsUbgehe2AQD0K16NwgYpArkfhehTSm0CF61G4HlWOQEjhehSuJZNAMzMzMzPzhkDNzMzMzAKYQGZmZmZm9pdAZmZmZmZalEAAAAAAADqTQDMzMzMz85tAZmZmZmaOlEAUrkfhes+hQAAAAAAAqJVAzczMzMzUlEBcj8L1KE+RQKRwPQrXF4RApHA9CtctiUAAAAAAAPCVQGZmZmZmvpVAMzMzMzNGkEAzMzMzM72WQPYoXI/CBYRAmpmZmZkRk0AK16NwPQaMQClcj8L1bpVAXI/C9SjqhkAzMzMzM5OTQK5H4XoUWopAzczMzMyMnkBcj8L1KOSRQI/C9ShcypBAmpmZmZkhmECkcD0K1yiQQLgehetR0ZlAFK5H4Xr0ikAUrkfhegmTQDMzMzMzM5NAKVyPwvWtnEAUrkfhev6KQDMzMzMzH4pAFK5H4XoclUCamZmZmVWJQGZmZmZm5oRA9ihcj8IvkEC4HoXrUe6WQJqZmZmZUY5AAAAAAADOiUAK16NwPUaNQMP1KFyPYoxAAAAAAACAhkApXI/C9SOWQI/C9ShcbYtASOF6FK53iUAK16NwPQaJQGZmZmZmxotAzczMzMwCmEAfhetRuKqGQOxRuB6FvZxAZmZmZmZwm0DhehSuR3+OQHsUrkfhoJpAZmZmZmaGk0DhehSuR+CSQI/C9Shc4pJAw/UoXA8QoECamZmZmYeeQHsUrkfhzIdAuB6F61GQhkDXo3A9Cl+fQM3MzMzMQp9AZmZmZmYWnUAAAAAAAOCRQM3MzMzMEo1AzczMzMy8kUCuR+F6lDykQD0K16Nwi45Aw/UoXI95nEBmZmZmZgaOQJqZmZmZjZ5A4XoUrkfVmkBcj8L1KKuWQM3MzMzMDJBAw/UoXI+am0AAAAAAAMCIQPYoXI/CyYpAZmZmZmaai0DXo3A9CsGXQB+F61G4dpFA7FG4HoUUl0BmZmZmZuZ/QOF6FK5H2JRA9ihcj8JZjkDXo3A9CmiWQHsUrkfhtZVAKVyPwvWKk0BxPQrXozOeQK5H4XoUtI5AMzMzMzOIl0AfhetRuNGWQK5H4XoUoIZAFK5H4Xq0iEDD9Shcj0CkQNejcD0KiZFAMzMzMzPfjUC4HoXrURKRQGZmZmZmt5tAXI/C9SgikkA9CtejcP+YQD0K16Nwk55AexSuR+EnlUCPwvUoXAKTQKRwPQrXzJdAAAAAAABMikAzMzMzM5OZQMP1KFyPApRAAAAAAABgjkDhehSuRx2aQAAAAAAAwJVApHA9Ctcdm0DsUbgehYOQQLgehetRrH1AZmZmZmYmkkBxPQrXo5yFQGZmZmZmpJRAAAAAAABok0AAAAAAALCGQGZmZmZmPoVAexSuR+FOhUA9CtejcFOUQI/C9Shczp1AuB6F61EVlEAUrkfhesKAQIXrUbgen4lA4XoUrkczjkDsUbgehc2ZQBSuR+F64ItAAAAAAADQmkBmZmZmZgaOQNejcD0K35pApHA9Ctcnh0BSuB6F6yqVQJqZmZmZWZRAmpmZmZlcoEC4HoXr0TWlQM3MzMzMZJxApHA9Ctftj0CamZmZmQmVQClcj8L1cpVAH4XrUbhckUAfhetRuBSRQD0K16Nwd5VA9ihcj8IFi0CPwvUoXB+ZQOF6FK5Hl4ZApHA9CtdThUA9CtejcDaQQFyPwvUoWpNA9ihcj8I/ikDNzMzMzLSaQDMzMzMzw49AexSuR+G3nEBxPQrXo5eVQGZmZmZmvJlACtejcD2coEBSuB6F67eWQClcj8L1nZhApHA9Ctcnh0AK16NwvWahQClcj8L1ooVAexSuR+Fjk0C4HoXrUTSZQOF6FK5HM4tAzczMzMx5l0AzMzMzM7N9QFK4HoXrRYpAMzMzMzPfjEAzMzMzMyugQHE9CtejAJVAZmZmZmbulUAAAAAAALiHQOxRuB6F+5dAMzMzMzOHkkAzMzMzM2uEQOxRuB6FhYhA4XoUrkc3k0DXo3A9Cl+fQGZmZmZmoJRArkfhehSlnEBmZmZmZjaUQAAAAAAA/pJAXI/C9SgynEDD9Shcj4yOQJqZmZmZqpNA9ihcj8LVlkA9CtejcEeAQDMzMzMz045A7FG4HoWVmkDNzMzMzAacQM3MzMzMBpBAPQrXo3CQmEAzMzMzM9+NQPYoXI/CwZdApHA9Ctd/gUAzMzMzM7ONQJqZmZmZSZ1AMzMzMzOelUCamZmZmQmfQPYoXI/CqZNAZmZmZmZSokAzMzMzM2OeQB+F61G4Zn5AhetRuB5pfEAAAAAAAECdQIXrUbgeHJ1AzczMzMw4iECF61G4HmmMQJqZmZmZWZZAKVyPwvXumkAzMzMzMxOPQJqZmZmZeZRAzczMzMy0mkCamZmZmUmdQMP1KFyPnIZAmpmZmZnjgkCuR+F6FEGSQHE9CtejSJRAw/UoXI9KjkAAAAAAAAyPQD0K16Pwh6JAzczMzMyMlEAzMzMzM2ScQHsUrkfhDZ9AuB6F61Ejl0AAAAAAADSRQLgehetRhZFAcT0K16MZlkBmZmZmZlqUQJqZmZmZmZFAzczMzMxYikDD9Shcj5WUQGZmZmZm0JBA7FG4HoVDjkCPwvUoXCmWQLgehetRlJJAMzMzMzNXiEAAAAAAACyMQK5H4XoU65VApHA9Ctcnh0CamZmZmeOQQLgehetRI5dAmpmZmZkao0AK16NwPR2RQClcj8L1opVAmpmZmZlZj0AzMzMzMxeaQFyPwvUoGoBAhetRuB7YlUCamZmZmXGfQI/C9Sjc96BAmpmZmZlRnkDhehSuR9CXQGZmZmZmRoZAZmZmZmbckEAzMzMzM8iVQM3MzMzM2JBAAAAAAABAkUAzMzMzM1GYQMP1KFyP0opAzczMzMzslEBI4XoUruWAQHsUrkfhfpFAhetRuB5LgUAAAAAAAFaTQJqZmZmZmZJAzczMzMx5l0A9CtejcBShQAAAAAAAuJJAw/UoXI8sj0CamZmZmfmIQPYoXI/CnpVAH4XrUbj2iUAzMzMzM/OGQOF6FK5H9Z1AZmZmZmaWlEA9CtejcLecQArXo3A9jZdAzczMzMysi0CamZmZmTmLQGZmZmZmFqBAzczMzMyuk0BI4XoUrjyWQFK4HoXr0X9ASOF6FK7Zk0BxPQrXo6yVQM3MzMzMjIZAMzMzMzPkpEAzMzMzM/ugQLgehetRQZVAMzMzMzNBhkCamZmZmfmNQJqZmZmZGZRAXI/C9SiwmEBI4XoUrueXQM3MzMzMtIBAFK5H4XoulkBSuB6F6y+eQHsUrkfhsIBA7FG4HoX6lEBmZmZmZhiEQGZmZmZmJI1A7FG4HoVlmkCamZmZmY2FQLgehetRFpZAH4XrUbjuikAUrkfheqqCQM3MzMzMjJ5AXI/C9ShBkEBmZmZmZqaaQK5H4XoUJopAH4XrUbhilUB7FK5H4TSZQMP1KFyPLZhAzczMzMx8lECamZmZmYeeQFK4HoXr55JAUrgehWu/pEAzMzMzMxOIQK5H4XoUGplAXI/C9Sjsl0BmZmZmZl6JQJqZmZmZmZFAcT0K16PylkDNzMzMzAyPQM3MzMzMkp5AKVyPwvUjlkA9CtejcHeVQD0K16Nwr5FACtejcD28l0C4HoXrUe6GQBSuR+F6QI9AmpmZmZmFfEAAAAAAAOCQQHE9CtejbpVAAAAAAACUmECuR+F6FAmlQHsUrkfhzpZA7FG4HoUNk0D2KFyPwmF4QDMzMzMza5RApHA9Cteol0Bcj8L1qPykQNejcD0KIYNAw/UoXI+Yg0AzMzMzMzeaQArXo3A9RntAZmZmZmZUoUCuR+F6FBqPQJqZmZmZ2ZFA7FG4HoXgnUBcj8L1KOacQHsUrkfhknxAZmZmZmZum0DNzMzMzPSYQGZmZmZmZpRA16NwPQp9jEDNzMzMzHmXQGZmZmZmiJRAMzMzMzPzjkAzMzMzM5OdQClcj8L14ZVAhetRuB4cnUAUrkfhejKIQKRwPQrXj3tAPQrXo3CvjEAAAAAAALCGQIXrUbieNKRAFK5H4XoZl0DNzMzMzCSZQK5H4XoUUopAexSuR+HNkUBmZmZmZlaWQNejcD0KiZFASOF6FK41l0CamZmZmeaYQClcj8L1Cp1ApHA9CteFlkB7FK5H4bCAQD0K16NwtYhAUrgehet7iECkcD0K19CUQHsUrkfhHZBAKVyPwvVIg0BxPQrXoxmWQI/C9ShcFp5Aj8L1KFxniUCuR+F6FBqMQAAAAAAAf5BAj8L1KFwmmEB7FK5H4X6RQB+F61G4aJJA9ihcj8JdlUCamZmZmSGYQM3MzMzMxJJAFK5H4XpWkUAUrkfhemCiQNejcD0K15xAhetRuB7Gl0BSuB6F6yaTQOF6FK5HgpNAMzMzMzNTikBxPQrXo8SVQJqZmZmZ2ZFA9ihcj8KhgUBSuB6F6/6YQPYoXI/CZJ5ApHA9CteenUDNzMzMzMyTQD0K16NwOZdAPQrXo3BmlEAAAAAAAE2TQAAAAAAAQI1AMzMzMzPDf0BI4XoUrteFQJqZmZmZt5RAhetRuB5Vh0CkcD0K1wKSQAAAAAAAXIxAUrgehevXh0DsUbgehRCUQM3MzMzMFJRArkfhehQOlUBxPQrXo/KNQD0K16Nw75ZApHA9CteclEBcj8L1KJiKQAAAAAAAoJtAKVyPwvXrkEAzMzMzMzOQQGZmZmZmFqBArkfhehTMikDXo3A9CpOOQPYoXI/CjZlAuB6F61GfkEBxPQrXo02cQLgehetRhJpAuB6F61HClEAfhetRuAiTQMP1KFyPTpdAzczMzMwXoUDNzMzMzAyQQI/C9Shczp1AmpmZmZlbnEA9CtejcI6YQMP1KFyPtJZA16NwPQp5i0DNzMzMzG+XQHsUrkfhroJA16NwPQqJkUDhehSux8+kQM3MzMzMDJxAAAAAAAColUAAAAAAAFyMQIXrUbgeUYNAPQrXo3D/kkD2KFyPwkGeQBSuR+F63otAw/UoXI8OhEAzMzMzMzOWQAAAAAAAQJRASOF6FK44k0AzMzMzM8uXQDMzMzMzAp1AMzMzMzOlk0CF61G4HjaVQBSuR+F65IZAZmZmZmaOpEDD9ShcD3ijQGZmZmZmpodAZmZmZmY+lUBcj8L1KPyRQFyPwvUo5IVAH4XrUbgFlECamZmZmY2eQM3MzMzMMJVAUrgehespg0A9Ctej8IeiQJqZmZmZOYBACtejcD13oECamZmZmQmVQGZmZmZmE5VASOF6FK4ffUAAAAAAAFyMQFK4HoXrs5RAMzMzMzPzhkDNzMzMzJKfQJqZmZmZW5hAPQrXo3DJlUCamZmZmXmNQM3MzMzM3JVAH4XrUbjhlUDNzMzMzMyDQGZmZmbmtqBArkfhehS2j0ApXI/C9YWYQGZmZmZm7I9AFK5H4XrynEAAAAAAAJKUQOF6FK5HlJFAKVyPwvVvlEAAAAAAAKCUQHsUrkfhK5hASOF6FK5hhEBI4XoUrnONQOF6FK5HM45AUrgehesWnUAUrkfhenqRQClcj8L115dAZmZmZmamkECamZmZmSGYQHE9CtejNpBA16NwPQpxoUBSuB6F67uCQIXrUbgeEYpAPQrXo3BliEDsUbgehYOQQAAAAAAA2ItAAAAAAAColUC4HoXrUWWRQJqZmZmZ6ZZA7FG4HoVenkBSuB6F6/6aQMP1KFyPOIlAhetRuB6LhkAK16NwPYiZQClcj8L1npxAZmZmZmZUlkCkcD0K13uTQDMzMzMzyJNAmpmZmZkfjUBmZmZmZlqPQM3MzMzMvIxAj8L1KFxhiUCF61G4HjaVQHsUrkfhmoZAH4XrUbi0hkBxPQrXo9KOQIXrUbgeb5RAAAAAAAC8kkDXo3A9CqWDQBSuR+F6Zo5A9ihcj8Kpn0AAAAAAAIB7QFyPwvUoKJtA7FG4HoXXkECuR+F6FNKbQAAAAAAAkJJAZmZmZmbmf0DD9Shcj9J1QJqZmZmZlZZAAAAAAACMlkDNzMzMzHqRQD0K16Nw6pJAzczMzMxknEBxPQrXozaQQDMzMzMzu45APQrXo3CCmECF61G4HjGXQLgehetR/JVAw/UoXI/ckkCkcD0K13+BQAAAAAAAOpNAMzMzMzOjmEDD9Shcj8iTQAAAAAAAwHhAcT0K16P6iEBcj8L1KCaTQB+F61G40JRAmpmZmZkvkUApXI/C9R6HQIXrUbgepYhAzczMzMxYikDNzMzMzASbQM3MzMzMiItAZmZmZmbOmEBSuB6F6xqWQAAAAAAAi51AzczMzMw6lEAfhetRuH6SQAAAAAAA05lAzczMzMxapUBxPQrXo6qBQAAAAAAADo1AMzMzMzNrlEBmZmZmZkaGQMP1KFyPeJNAMzMzMzNBl0CamZmZmVmEQDMzMzMzs5FAPQrXo3D7jUDNzMzMzPSGQI/C9ShcRZJAUrgehWvspEBSuB6F6yqVQAAAAAAAiIFA9ihcj8IZlUBI4XoUrpmOQJqZmZmZIZhAzczMzMzYkECamZmZGcGiQEjhehSuh5NAw/UoXI/rmkCkcD0K1z+OQM3MzMzM7I1A9ihcj8LZlUBI4XoUrq2QQB+F61G4ho9ACtejcD3WikAAAAAAAGiLQNejcD0KkZBAPQrXo3Bhh0CamZmZmXGWQIXrUbgeeJ1AhetRuB5djUCkcD0K13GaQArXo3A9uZxAj8L1KFyQlkAzMzMzM8OSQPYoXI/CnpVAKVyPwvVgf0A9CtejcBShQOxRuB6FEZZASOF6FK4BjEBmZmZmZoCGQPYoXI/CapVAw/UoXI+am0CF61G4njSkQNejcD0KxZFAexSuR+E2hkBmZmZmZgChQB+F61G4uphArkfhehQOlUBmZmZm5r+hQHE9Ctejwp1AZmZmZmaGjkDD9Shcj2+UQD0K16Nwo51AhetRuB4FmkBmZmZmZjaEQHE9CtejOJFA9ihcj8JgmkDsUbgehbmJQM3MzMzMxKJAmpmZmZnpk0AfhetRuLSGQHE9CtejvptAFK5H4Xo+mEDhehSuRyyQQArXo3A9SJVAPQrXo3A5hUApXI/C9dKMQGZmZmZm6ZZAj8L1KFzskkCuR+F6FBmUQClcj8L1FZFAMzMzMzM3lEBcj8L1KFehQJqZmZmZqYNAexSuR+HMh0A9CtejcJuJQGZmZmZm4ZxAzczMzMzOj0BmZmZmZuaVQNejcD0KwZdAAAAAAABdk0CPwvUoXOuTQIXrUbies6BAmpmZmZkOnUB7FK5H4ZCIQPYoXI/CUpFA16NwPQpxoUAAAAAAAMiWQNejcD0KrZVAMzMzMzMzk0DNzMzMzHqRQAAAAAAA0JpASOF6FK5Df0CamZmZmeOQQClcj8L1OJVAuB6F61EYiEBmZmZmZhagQB+F61G4H5ZAXI/C9aiOoEBmZmZmZkaGQD0K16Nw/5JAw/UoXI+VlEDNzMzMzFiKQBSuR+F6JpRAzczMzMy0kEBmZmZmZqaJQAAAAAAAG51A9ihcj8LXkUBSuB6F692bQGZmZmZm4JZA4XoUrkeNiUBxPQrXo0ecQDMzMzMz+4tAH4XrUbgEhUCamZmZmdmfQEjhehSufZZAH4XrUbj2iUAUrkfhegWjQLgehetRzIpAMzMzMzP3fkBcj8L1qI6gQMP1KFyPkJFAzczMzMySlECuR+F6FPKFQJqZmZmZ5Y9AMzMzMzOPi0AAAAAAAACSQAAAAAAANJFAexSuR+GsjUD2KFyPwjmNQOxRuB6F15BAj8L1KFzImUCamZmZmd2PQDMzMzMz85ZAmpmZmZkpmkCF61G4HpmHQDMzMzMzz59AzczMzMwMj0BmZmZmZiedQJqZmZmZWYxArkfhehTEhECamZmZmeF+QArXo3A9YIpApHA9Ctebg0CamZmZmRGWQOF6FK5HeY9AAAAAAACAk0AUrkfheqaBQJqZmZmZOYtAMzMzMzNrlEC4HoXrUXCQQAAAAAAA4JFAH4XrUTgyokDNzMzMzDiIQGZmZmZmNpFAZmZmZmaGk0AfhetRuK2YQFK4HoXrQJNAMzMzMzM/j0AAAAAAAICPQAAAAAAA2ItAZmZmZmaSlUDNzMzMzAyOQOxRuB6F/45AFK5H4XoulkBcj8L1KOacQEjhehSu3ZRAzczMzMyEnEAUrkfhetSHQKRwPQrX6pFAXI/C9SgcmUBmZmZmZoaSQI/C9ShcUZNAmpmZmZnpkEDD9Shcj5WUQLgehetRNZVAmpmZmZlinEA9CtejcGmAQHE9CtejrJVAZmZmZmZWlEApXI/C9eyOQOF6FK5HTYNAXI/C9SgynEAAAAAAACyaQGZmZmZmppNA7FG4HoXDjEBxPQrXo26VQJqZmZmZ4XdASOF6FK5DkUCamZmZmX2DQLgehetRrI1ApHA9Ctcdm0B7FK5H4ZiVQOF6FK5HhY1Aw/UoXI+am0BmZmZmZrCJQMP1KFyPt5JASOF6FK7rlUCamZmZmUGcQGZmZmZmupRAKVyPwvW2kUDXo3A9CpOOQBSuR+F6fJBAmpmZmZl3mkDD9Shcj6aNQM3MzMzMFJ1Aw/UoXI+4jEAK16NwPaCbQFyPwvUoYZxAH4XrUbgElUBcj8L1qI2hQB+F61G4GZNA4XoUrkfKmkAzMzMzM36XQAAAAAAAQJRAAAAAAADAiEAzMzMzM3OVQAAAAAAA4JFASOF6FK4QnUAK16NwPbqIQB+F61E4saFA4XoUrkeImUDXo3A9CveUQM3MzMzMopVAhetRuB6HikAzMzMzM42UQBSuR+F6DIZAzczMzMxAmEDXo3A9ClOOQGZmZmZmtplAZmZmZmZGhkAUrkfhevKSQJqZmZmZOZBAzczMzMzEkkAAAAAAAICTQD0K16Nw3ZNA7FG4HoVuoUDNzMzMzJyLQFK4HoXrlYdAXI/C9SjqhkCamZmZmZmVQDMzMzMzGZJAAAAAAACghEBI4XoUrmySQD0K16NwFKFASOF6FK70lUBI4XoUrpmOQOF6FK5Hx4dAAAAAAAAcpED2KFyPwvWZQArXo3A9bJNAZmZmZmZWmEA9CtejcGiTQFK4HoXrGYpAmpmZmZkOnUBmZmZmZtyQQGZmZmZm0pdAMzMzMzP5i0AzMzMzM+ibQMP1KFyPvIBApHA9Ctdhk0BmZmZmZgOcQDMzMzMzW4JACtejcD3ZlEAfhetRuAGcQArXo3A95JBAZmZmZmZWlEDNzMzMzNiaQDMzMzMzV4FAH4XrUbhyekCamZmZmZmSQDMzMzMza5RAZmZmZmYyj0DNzMzMzASbQGZmZmZmdoxAMzMzMzPfjUAAAAAAAECUQEjhehQuTKNAFK5H4XrClkCamZmZmXGWQEjhehSu7ZtAMzMzMzMhlEAzMzMzM62OQKRwPQrXSpxAw/UoXI+3kkDhehSuRx+aQFyPwvUompVAhetRuJ6soECamZmZmYuIQJqZmZmZCZVAMzMzMzOTjEAAAAAAAOSSQDMzMzMzQYZAcT0K16NUhkAzMzMzM7ekQBSuR+F6EpFA16NwPQqJkUCamZmZmRqjQM3MzMzMSINAMzMzMzNbgkCF61G4HuaVQGZmZmZmdpFASOF6FK5pj0CuR+F6FK+kQDMzMzMzc5VAZmZmZmaLoEBI4XoUrp2BQArXo3A9dJtAhetRuB7nnECPwvUoXFOXQJqZmZmZY5tA4XoUrkfxl0AfhetRuOeSQJqZmZmZEYZAMzMzMzN9mEBI4XoUrrmWQB+F61G49olAzczMzMzmmUCamZmZmRmHQGZmZmZm5otAZmZmZmb0k0CPwvUoXEKlQKRwPQrXx5BAUrgehWthoUAAAAAAAMiJQOxRuB6F4J1ArkfhehSjk0CamZmZmR+NQHsUrkfhXZFAexSuR+HIhEC4HoXrUWuSQOxRuB6FpZJA16NwPQqHjEAzMzMzMxOIQArXo3A9WJVAuB6F61HolEAzMzMzM+OXQKRwPQrXOJhAj8L1KFyNnUBmZmZmZoKLQJqZmZmZOZtACtejcD0Uh0BxPQrXoxOQQM3MzMzMWIVAMzMzMzNBhkAzMzMzM2OeQI/C9Shc/Z5AZmZmZmb/o0ApXI/C9R6HQGZmZmZm4JZAmpmZmZmpg0BmZmZmZgWTQFK4HoXrf41AmpmZmZnZh0Bcj8L1KGGcQEjhehSuRJ5ArkfhehT4lkBmZmZmZn6NQDMzMzMzo4tAMzMzMzMIlkAfhetRuDaHQDMzMzMzi4hAzczMzMyilUCamZmZmemTQAAAAAAA55FAPQrXo3DvlkCPwvUoXKGKQGZmZmZmBZNA4XoUrkcEl0AzMzMzM/WCQKRwPQrXbZFAKVyPwvVIn0DD9Shcj3WeQBSuR+F6JZNApHA9CtdPnUDhehSuR+WaQJqZmZmZIZhAzczMzMyilUAzMzMzM/ugQFK4HoXrH5ZAzczMzMyElkC4HoXrUWWRQOxRuB6FlZpAAAAAAACghECPwvUoXNOWQDMzMzMz841AmpmZmZlVmUAK16NwPWWVQDMzMzMzM5BAPQrXo3CQmEAfhetRuDKRQJqZmZmZCZVA7FG4HoUNk0BmZmZmZu6dQK5H4XoUGplAH4XrUbgulEBSuB6F682VQEjhehSuFZNAj8L1KFxRlUBmZmZmZlCNQMP1KFyPtJFAXI/C9SjkkUCF61G4Hp1/QB+F61G4ppZAAAAAAABSmEC4HoXrUV6EQPYoXI/CM4tAcT0K16MpnkCamZmZmaqRQEjhehSu5aBAAAAAAADZmEDhehSuRzOLQPYoXI/CMYdAPQrXo/AKokC4HoXrUV2XQJqZmZmZmY5ACtejcD06nUApXI/C9SyLQDMzMzMzM5ZAuB6F61EYiEC4HoXrUd6SQJqZmZmZYJBAzczMzMyilUAAAAAAAOKUQDMzMzMzE4hA16NwPQqTjkC4HoXrURaWQB+F61G4AZxAH4XrUbhSiUBmZmZmZgKYQOxRuB6FXp5A16NwPQqplUCamZmZmbKWQD0K16Nw/5JAzczMzMwOjkDhehSuR9CXQNejcD0KS39AmpmZmZmNnkBI4XoULkqhQJqZmZmZmY5AZmZmZmY2kUBI4XoUrn9/QD0K16NwP4tAMzMzMzORlEBSuB6F64+bQFyPwvUooI5AcT0K16MghEBxPQrXoziRQGZmZmZmAIlAexSuR+E1nkBmZmZmZnCHQHE9CtejxoxAzczMzMzQlUCuR+F6FFCWQDMzMzMzs5RAXI/C9SiCg0BmZmZmZi59QPYoXI/C2Y5Aw/UoXI9gkEC4HoXrUbGcQDMzMzMz1JxA9ihcj8KnmUD2KFyPwrKTQLgehetR6JRAAAAAAACwe0AzMzMzM8mCQJqZmZmZ6ZNA9ihcj8ImmEBmZmZmZhaQQMP1KFyPO5xAuB6F61GsjUDNzMzMzECSQEjhehSu55dAFK5H4XpHlUAUrkfhekaPQGZmZmZm3ZFAzczMzMxslkApXI/C9faKQDMzMzMzU4FArkfhehSGkEDsUbgehbqTQAAAAAAAoJtAZmZmZmZCiEBcj8L1KMyTQFyPwvUoKplAKVyPwvW6ikBxPQrXo4CiQI/C9ShcFp5AMzMzMzMzk0BSuB6F62+EQBSuR+H6PKJASOF6FK5dlECamZmZmbmGQEjhehSuO5RAZmZmZmZ+nUA9CtejcCSaQDMzMzMzVZBAmpmZmZmpo0BmZmZmZkaGQB+F61G4BJVAPQrXo3DJlUApXI/C9QeRQFyPwvUomp9AKVyPwvWihUBmZmZmZjiRQJqZmZmZm5RAzczMzMwEm0AUrkfhejKYQHE9CtejzI5AKVyPwvWyl0BmZmZmZoaIQDMzMzMzD4lAexSuR+FskUD2KFyPwmGIQM3MzMzM6H5AcT0K16OIh0CF61G4HsaXQDMzMzMzyYJAw/UoXI8sj0DNzMzMzKKVQFK4HoVr7KRASOF6FK4Al0AzMzMzM4uYQMP1KFyPkJFAMzMzMzNrlEBmZmZmZnaVQLgehetR25RAKVyPwvWgiUBmZmZmZgidQHE9CtejEpBA16NwPQodk0ApXI/C9XqdQGZmZmZmQpBAAAAAAAA8hkDNzMzMzEKNQB+F61G43odAmpmZmZmJkEBmZmZmZnZ8QIXrUbgeB5hAMzMzMzO6k0AK16NwPZ+cQOF6FK5H655AKVyPwvVin0DNzMzMzIyKQD0K16NwB5BAUrgehethiUC4HoXrUXCcQFK4HoXrl5JAUrgeheszmkAzMzMzM/uLQArXo3A9BolAZmZmZmamk0AAAAAAAByIQIXrUbgekZFAH4XrUbjAikBmZmZmZuaOQArXo3A9SJVAMzMzMzOLmEBmZmZmZuqhQHE9Ctejpo5A9ihcj8LgmUC4HoXrUSSHQHE9CtcjiKBAAAAAAABZkECuR+F6FLp9QDMzMzMzm4pAzczMzMzMkECkcD0K1wqWQOF6FK5H8pRAH4XrUbgBnEBSuB6F6/2bQGZmZmZm0odAXI/C9SgGj0AzMzMzM3OVQHE9CtejSJRAmpmZmZmSlUAAAAAAAMiWQHE9CtejxJVAAAAAAAAUn0DXo3A9CmiWQHsUrkfhpotA7FG4HoX3lEC4HoXrUfyVQEjhehSu7ZtAw/UoXI9KjkD2KFyPwi+QQHsUrkfhsIBAUrgehev+mEBcj8L1KECOQAAAAAAAQI1AzczMzMzMjEDNzMzMzMyTQJqZmZmZ+Y1AFK5H4Xrei0ApXI/C9ZeWQDMzMzMzi5hAj8L1KFwlkEAUrkfhesKZQD0K16NwE49ApHA9CtcukkCkcD0K1x2bQHE9CtejiIdAMzMzMzNakUApXI/C9amQQM3MzMzMTJtAw/UoXI9NkkAzMzMzM96bQOxRuB6FJZVAAAAAAAAUikDNzMzMzLSQQAAAAAAAIIxA7FG4HoXXkEDD9Shcj4KQQFK4HoXrKZNAMzMzMzNTikAzMzMzM7ORQDMzMzMzM5ZAMzMzMzOelUDhehSuR/GUQJqZmZmZ6ZNAAAAAAADAkkA9CtejcPqQQAAAAAAAFJ9AXI/C9SiGjUAUrkfh+jqjQAAAAAAAwJhAKVyPwvVIh0AUrkfhepyXQLgehetRxJtAcT0K16N7pUCamZmZmWubQJqZmZmZqaNAXI/C9SiGjUBmZmZmZi6DQEjhehSuNZdAzczMzMyEnEDNzMzMzD+UQJqZmZmZR5hA9ihcj8LJikApXI/C9R+UQFyPwvUoBo9AFK5H4Xp8kEBmZmZmZkaGQEjhehSuBJNAUrgehet/jUDNzMzMzLyMQGZmZmZmapxAUrgehevxl0AAAAAAANCaQD0K16NwpZtAzczMzMwcnkCkcD0K11OFQGZmZmZmZppAuB6F61GsfUAzMzMzM9OOQGZmZmZmNpRArkfhehRWnUCamZmZmWmYQHE9CtejKpJAMzMzMzPzj0BmZmZmZl6KQHsUrkfhf55ACtejcD0ToECkcD0K12mVQJqZmZkZwaJAMzMzMzMblkBmZmZmZoaTQB+F61G4D59AKVyPwvW6ikCamZmZmTmLQArXo3A9V5FArkfhehQYmED2KFyPwmCRQAAAAAAAK5NAZmZmZmZ6gkDNzMzMzMyTQClcj8L1k5JAPQrXo3BJl0DD9Shcj6SMQDMzMzMzWpFAzczMzMwCmEC4HoXrUV2XQOxRuB6FZ4tAAAAAAABQkEC4HoXrUVaNQAAAAAAAOpNAH4XrUbjAikBmZmZmZk6XQK5H4XoU0ptAMzMzMzODl0BmZmZm5gygQArXo3A9WJVAZmZmZmYel0B7FK5H4R2UQNejcD0Kh39AzczMzMyOikAAAAAAAF+TQDMzMzMzapFAMzMzMzPzj0CamZmZmY2UQGZmZmZmDpJAexSuR+ErmEDNzMzMzIyKQAAAAAAA4HxA9ihcj8IRlkCamZmZmdmRQIXrUbgeyZhAPQrXo3COmEDhehSuR9mMQJqZmZmZGZRAMzMzMzO6k0B7FK5H4baVQAAAAAAAVpNAUrgehevdm0CamZmZmcGUQBSuR+F6t5NAZmZmZmbsj0BmZmZmZr5+QAAAAAAA1IlAUrgehev+mEBxPQrXo8yOQArXo3A9WJVAAAAAAADgkUCamZmZmc+VQFK4HoXr/41AuB6F61FGjkAAAAAAADqTQOxRuB6FQ45AAAAAAACwn0CuR+F6FHmTQAAAAAAAsHtAmpmZmZnJm0DhehSuR+mFQHsUrkfhMoNA7FG4HoW9h0A9CtejcOqSQM3MzMzMPodA9ihcj8IVkEC4HoXrUYSKQOxRuB6F0YtAZmZmZmZYmkCF61G4HsOWQKRwPQrXv41AXI/C9Sh+mUBmZmZmZqiaQAAAAAAAopdAZmZmZmZmmkAzMzMzM1eIQFK4HoXroZJAMzMzMzPIlUA9CtejcGGHQHE9CtejmJlAmpmZmZlBnEAK16NwvQGjQClcj8L1IoVAXI/C9SjqhkAAAAAAACqeQM3MzMzMFI1ASOF6FK7XdUAAAAAAAMiJQClcj8L116BAAAAAAABxm0DNzMzMzIyUQDMzMzMzq5ZAexSuR+FynkAzMzMzM0SUQKRwPQrXu39A9ihcj8IRl0BSuB6Fa2GhQJqZmZmZVJJAexSuR+G1lUAfhetRuMCKQDMzMzMzV4FASOF6FK5ikUCamZmZmUl9QDMzMzMzVaRAZmZmZmZOl0DsUbgehWWaQGZmZmZmZppASOF6FK7PkEDNzMzMzBKcQEjhehSuoplAMzMzMzP3fkB7FK5H4S6CQAAAAAAA/ZZAcT0K16OrkUDNzMzMzFqlQBSuR+F6oJBAAAAAAAB0oEAUrkfheu+YQGZmZmZmNJFAcT0K16OVpkApXI/C9W6VQAAAAAAAlZVAFK5H4XpmhED2KFyPwiycQD0K16NwgYpAj8L1KFwjmkAUrkfhejSMQAAAAAAAFZJAKVyPwvUFkEDXo3A9CmKUQGZmZmZm3ZFAuB6F61EYiEBcj8L1KGKVQJqZmZmZQZxACtejcD0GjkBmZmZmZoaeQD0K16NwqJhAj8L1KFxTl0BmZmZmZuGiQJqZmZmZAYRASOF6FK70lUBmZmZmZg6SQKRwPQrXu49AMzMzMzPnh0AK16NwPR2RQKRwPQrXOY9AH4XrUbgplkBmZmZmZlShQDMzMzMzh5JAZmZmZmaGkkCkcD0K14KZQFyPwvUooJdAw/UoXI8sj0AzMzMzM8uXQAAAAAAAuIdA4XoUrkelj0C4HoXrUSKcQI/C9Shc35BAuB6F61HTn0Bcj8L1KBKYQHsUrkfh+JNAFK5H4Xrai0DNzMzMzOx3QM3MzMzM5JZAzczMzMwMj0AAAAAAAASBQI/C9Shca4dAPQrXo3CldkCPwvUoXMqQQK5H4XoUXZBArkfhehTllkAK16NwPbqIQJqZmZmZ45JA9ihcj8I5jUBcj8L1KPyRQArXo3A9BJlACtejcD0QkEDsUbgeheWJQM3MzMzMAphAzczMzMwMlkAAAAAAAFyMQMP1KFyPtJFApHA9Clexo0AK16NwPYqMQDMzMzMzfpdAPQrXo3ALh0Bcj8L1KL2UQIXrUbgeeptAzczMzMzMkEApXI/C9ayHQGZmZmZmXopAuB6F61HuhkDNzMzMzMyTQGZmZmZmJpVAH4XrUbhckUDNzMzMzOyXQOxRuB6Fw4xAMzMzMzPDkkBSuB6F65WHQHsUrkfhIJFAexSuR+F/nkAAAAAAAOB8QArXo3A9IJ9Aw/UoXI9QkUD2KFyPwhCRQLgehetR0ZlAAAAAAABegEB7FK5H4aaMQDMzMzMz84ZAFK5H4XoElUBmZmZmZoCVQBSuR+F65IZAj8L1KFzikkBxPQrXo7iBQM3MzMzMjIpAmpmZmZlhkUCuR+F6FKqXQHE9CtejcI1AH4XrUbhDlUBcj8L1qI2hQB+F61G4aJJAhetRuB7ZjEAzMzMzMxmiQAAAAAAAwHhAw/UoXI8Km0DXo3A9CoqSQDMzMzMzJ4hAexSuR+GRmUDsUbgehaGSQJqZmZmZDp1AAAAAAACgm0BI4XoUrmuaQOF6FK5Hb5JAUrgehevDlUDXo3A9CsGXQM3MzMzMDJNAMzMzMzOimkApXI/C9YWYQArXo3A9+IpAcT0K16M8n0AfhetRuLKLQJqZmZmZmY5AFK5H4XpEk0DD9ShcjyGlQGZmZmZmppBAmpmZmZn5gkDD9Shcj2KMQAAAAAAAgppAAAAAAABmk0BmZmZmZraJQIXrUbgexJtApHA9CteBk0BmZmZmZn6NQAAAAAAA+o9AmpmZmZk5i0DNzMzMzAyTQPYoXI/CwZ5AAAAAAAAUjED2KFyPwneVQBSuR+F6nJdA7FG4HoWHhkBI4XoUrtOYQLgehetRFpZACtejcD25nEAAAAAAADCRQD0K16Nwp5VAhetRuB46kEDXo3A9CpOOQKRwPQrXGYxAzczMzMz0iEAK16NwPROgQAAAAAAA6I1AZmZmZmbSh0AAAAAAABh5QFyPwvUo6oZAAAAAAABpkUDNzMzMzDqUQClcj8L1oIlAMzMzMzM+nkCamZmZmXGWQM3MzMzMdItAAAAAAABFkkBI4XoUroaTQPYoXI/Cb4xAAAAAAAC4l0CF61G4HsSbQDMzMzMzL6FAFK5H4XpYiUDD9ShcDxGhQClcj8L15o5AUrgehespg0D2KFyPwvSdQJqZmZmZGYdAmpmZmZkxmkDNzMzMzAyPQHE9CtejKZ5ApHA9CtexjEApXI/C9aqQQMP1KFyPIaVArkfhehS6jUBxPQrXo/CRQBSuR+F6eqBAFK5H4XpmhEDNzMzMzAx8QNejcD0KaJZAMzMzMzNPgUApXI/C9Q+eQB+F61G45oxAuB6F61HolEDNzMzMzCyOQEjhehSuN4pAKVyPwvWKk0CkcD0K1wOSQGZmZmZmUI1AcT0K16MqgkDD9Shcj3ueQGZmZmZmUqJAZmZmZmYdpUBI4XoUrhWTQBSuR+F6WIlAZmZmZma2nkDD9ShcjwqbQClcj8L17ohArkfhehSGkEDNzMzMzBaNQClcj8L1hZhAXI/C9SgUd0BI4XoUrnONQJqZmZmZIZhA7FG4HoWVkUCamZmZmW2hQM3MzMzMUHhAZmZmZmbWgkBxPQrXo76bQGZmZmZme5VAMzMzMzPfgkDD9Shcj2+UQHE9Ctejpp9AZmZmZmaklECF61G4Ht+eQM3MzMzM9JhAzczMzMz8iUDNzMzMzIyKQK5H4XoUVp1A16NwPQoykEAzMzMzM+SkQHE9CtejEpBAXI/C9Sgwj0AzMzMzMxOEQOF6FK7HmaFAexSuR+Fjk0CuR+F6FK+kQOF6FK5H4JJAAAAAAADAiECuR+F6FDaUQM3MzMzMbIlAAAAAAAC9mUAUrkfheo+TQBSuR+F68pxAAAAAAAB0oEBcj8L1KGyTQGZmZmZmbpVAFK5H4Xr0ikAK16NwPVJ/QBSuR+F6D5tA16NwPQoRlEDNzMzMzBSUQMP1KFyPpIxAMzMzM7P6oUB7FK5H4bCAQEjhehSuYpFASOF6FK70lUA9CtejcPGAQGZmZmZmCpRAj8L1KFwTjEA9CtejcGaUQHsUrkfhDJZAhetRuB7Gl0Bcj8L1KKCXQDMzMzMzc4VAAAAAAAC4l0CkcD0K1+mbQDMzMzMz5KRAPQrXo3ComEAAAAAAABuWQAAAAAAA6J1AhetRuB6ZiUAAAAAAAHCcQGZmZmZmjn9AmpmZmZnil0AzMzMzMzGVQArXo3A9h5pAzczMzMzMg0BI4XoUrtWYQOF6FK5HLJBAuB6F61HKgECkcD0K11OVQIXrUbget4VA7FG4HoULi0D2KFyPQvqiQDMzMzMziqFASOF6FK5DkUAAAAAAAJSYQI/C9ShcU5dAFK5H4XrvmEDXo3A9CsGNQDMzMzMzv49AzczMzMz0iEDXo3A9CkuRQJqZmZmZUZ5A4XoUrkfNgUC4HoXrUSCiQAAAAAAAwIhAH4XrUbiGj0Bcj8L1qI6gQM3MzMzMXJ9AXI/C9Shsh0CF61G4HvyUQPYoXI/CfYdAzczMzMxOokApXI/C9e6TQLgehetRC5lAZmZmZmZ+nUB7FK5H4c6WQJqZmZmZGZFAuB6F61GxnECamZmZmTmbQD0K16NwGqZA9ihcj8I/j0BI4XoUruWgQFyPwvUoSIxAexSuR+GYlUAfhetRuPCJQHE9Ctejpo5AAAAAAACQkkBI4XoUrq2bQEjhehSuwJ1AAAAAAACwhkCPwvUoXCWUQDMzMzMzF4pAMzMzMzNXfUBmZmZmZqCKQClcj8L115dA7FG4HoVDjkBmZmZmZhCOQGZmZmZmBolAKVyPwvXSjEBmZmZmZrqMQIXrUbgeKY1AXI/C9SiwmEBI4XoUrjuUQEjhehSuXpNAPQrXo3ABlkBI4XoUrueXQAAAAAAAAI5AAAAAAABWnEBmZmZmZraJQAAAAAAAwIhApHA9CteFhkAAAAAAAGiTQMP1KFyPb5RAZmZmZmZGhkAfhetRuFKNQPYoXI/CXZVAmpmZmZmVhkAAAAAAAByUQIXrUbgeLX1ApHA9Cte/jUA9CtejcEKYQPYoXI/Cd5VAUrgeheuwkED2KFyPwjGHQHsUrkfhAnpAUrgehet/jUBmZmZmZiaVQDMzMzMzx4RAzczMzMwMkEAAAAAAAJCSQHE9CtejgKJAzczMzMyGl0BmZmZmZiaVQJqZmZmZWX9AhetRuB4vk0BmZmZmZl6KQGZmZmZm5o1AAAAAAACAkEBSuB6F6/mBQGZmZmZmhpJACtejcD1YmEC4HoXrUeCQQBSuR+F6PphAMzMzMzPzj0AAAAAAAKCEQLgehevRNaVA7FG4HoXzhUDXo3A9CmKUQM3MzMzMPJNAXI/C9SjAlUDNzMzMzBqSQMP1KFyP25FAmpmZmZkBj0CPwvUoXDmhQEjhehSuBpJACtejcD1gikDhehSuR+ydQGZmZmZmvpNAuB6F61GsfUAzMzMzM4CfQEjhehSu14VArkfhehROjkBxPQrXI7OkQM3MzMzMzJNAj8L1KFyuk0DNzMzMzNiQQI/C9Shc05ZAj8L1KFwTjEDhehSuR7WGQDMzMzMzW4JAAAAAAAD6j0A9CtejcLWIQGZmZmZmcIdACtejcD0QkEBcj8L1KCKSQJqZmZmZZJNAZmZmZmZGhkAUrkfheluZQK5H4XoUOpFAAAAAAAAEkUDhehSuR2mQQHsUrkfhIZVAH4XrUbgBnEDNzMzMzByOQAAAAAAAGoxASOF6FK4lk0DNzMzMzEyVQKRwPQrXhJRAMzMzMzO6k0BmZmZmZiZ9QClcj8J1+6NA16NwPQqMkkCPwvUoXAmQQEjhehSuAYxAexSuR+FGiUAAAAAAAMiZQJqZmZmZ9p5AAAAAAACAj0DXo3A9Cr2XQFK4HoXrMJlA16NwPQqtgECkcD0K1wKSQJqZmZmZ+YhAAAAAAADAeED2KFyPwn2HQDMzMzMzkZRApHA9CtdokUD2KFyPwiycQOxRuB6FTJBAAAAAAAAgikAUrkfheoyTQAAAAAAAf5JAcT0K16PyjUCF61G4HvyXQJqZmZmZmZFACtejcL1ppECamZmZmR+NQJqZmZmZIYhAzczMzMzsd0BmZmZmZgaOQB+F61G4+5NA4XoUrkd/jkB7FK5H4SKHQB+F61G45ZZAexSuR+Eyg0DXo3A9CiKVQClcj8L1Y5ZAAAAAAAAclEDXo3A9Co+TQM3MzMzMkp5AmpmZmZlhkUCF61G4HkmTQEjhehSut4JAXI/C9SjwhECuR+F6FOWWQFK4HoXryJ9A7FG4HoU7k0A9CtejcM+JQHE9CtejxZBAw/UoXI9vlEAAAAAAAFimQK5H4XoUQ5FASOF6FK53k0DNzMzMzCSZQM3MzMzMYJhAXI/C9Shsh0CamZmZmSmZQM3MzMzMEIFAcT0K16PylECkcD0K1x2bQJqZmZmZAY1AUrgehevZnkA9CtejcPeTQOF6FK5HzqBAMzMzMzOakUDsUbgehQaWQAAAAAAAwJJA4XoUrkdZh0C4HoXrUeikQOF6FK5HF5xAzczMzMy0mkA9CtejcCyVQJqZmZmZIYhAMzMzMzOfk0CamZmZmZeUQHE9Ctejl5VAzczMzMxYlUBmZmZmZmaXQB+F61G48ZlA7FG4HoVGlkCamZmZmdGgQAAAAAAABIFAj8L1KFwmn0AzMzMzM+OXQGZmZmZmFoFA4XoUrkeUkUBmZmZmZgaNQGZmZmZmsJFAuB6F61F4gEDD9ShcjzucQAAAAAAA4JBAmpmZmZlJkkAzMzMzMw+WQJqZmZmZ45BAZmZmZma2mUAUrkfhegmTQClcj8L1f5tAPQrXo3ATj0Bcj8L1KKB2QIXrUbgeEZpACtejcD06kECPwvUoXFOXQGZmZmZmWpRAMzMzMzM3lECamZmZmVmTQAAAAAAAuJRApHA9CteikEBxPQrXo7+QQClcj8L1k5JAmpmZmZnpk0AAAAAAALaUQEjhehSuuJFAZmZmZmamh0AAAAAAAJCSQDMzMzMze4ZAXI/C9Sjmn0CF61G4HjqQQHE9Ctej5pVA7FG4HoVLnUAUrkfhekSTQPYoXI/CEZZAPQrXo3BQn0AzMzMzM6WUQClcj8L17pNAhetRuB5LnkCamZmZmemYQArXo3A9V55APQrXo3DfhkCF61G4HguLQClcj8L1cpVAPQrXo3C9hEDD9Shcj2yKQAAAAAAARZNAzczMzMwUlEDhehSuR9mMQLgehetRNJlAexSuR+G+jEAzMzMzM0OVQM3MzMzM9pBAPQrXo3BVjEB7FK5H4QyWQHsUrkfhIJFA7FG4HoUUl0CamZmZmY2FQM3MzMzMepFAmpmZmZl5lEAAAAAAAMKJQB+F61G4UolAzczMzMxgmEAzMzMzM2uUQK5H4XoU+IZAMzMzMzNFoEDNzMzMzG+XQLgehetR+INAw/UoXA8QoEBI4XoUrjuUQDMzMzMzU4FAmpmZmZlrk0D2KFyPwsGXQDMzMzMzu5JAzczMzMxcn0DNzMzMTIakQGZmZmZmgIZAuB6F61GMjED2KFyPwnabQOF6FK5HtYZASOF6FK79l0DXo3A9ClOOQFK4HoXrA5FAexSuR+FdkUCamZmZmbWEQDMzMzMzs41AhetRuB6ZiUAfhetRuFyRQEjhehSuYYRAhetRuB6LhkCamZmZmVmTQIXrUbge1YhA4XoUrkdJkkBcj8L1KGqhQJqZmZmZlYZAmpmZmZlZhECamZmZmVmTQI/C9ShcFp5AXI/C9SgGj0BmZmZmZhaAQIXrUbgeh4tAexSuR+GsjUAzMzMzM4GbQHE9CtejTZxA16NwPQpLf0DD9Shcj5CRQDMzMzMzRZtAzczMzMz2kECamZmZmeF3QB+F61G4uIBAhetRuB4Li0ApXI/C9UiTQClcj8L1IpVAw/UoXI8OdUAzMzMzMxOPQD0K16NwkJZA4XoUrkepnUAAAAAAAP+RQM3MzMzMvJ1AMzMzMzMThEBmZmZmZlaIQJqZmZmZR4hAAAAAAAAMj0BxPQrXoziRQFK4HoXrr4ZAKVyPwvXMhkD2KFyPwj2KQD0K16NwUZdAhetRuB51lkDXo3A9iq+iQPYoXI/CHpxAZmZmZmYmjkDNzMzMzD+hQGZmZmZmP5tAZmZmZmamk0AzMzMzM6ucQArXo3A9EJBAH4XrUbj7k0BSuB6F6/GXQM3MzMzMO5dA9ihcj8JgmkAAAAAAAMSXQKRwPQrXJ4dAH4XrUbjmjEApXI/C9SKFQJqZmZmZdYtAUrgeheumpECkcD0K1w6RQMP1KFyPvIBAcT0K16NYjkBmZmZmZqCKQHsUrkfhDJZACtejcD2gjEDXo3A9ChWJQKRwPQrXbZFAUrgeheuMnkCF61G4HhGaQHsUrkfhzp5AmpmZmZn5gkCamZmZmamEQAAAAAAAypFAzczMzMxolkAK16NwPR2RQHE9Ctej76NAzczMzMw8k0CamZmZmZeFQDMzMzMzs5RAXI/C9ShIjEDNzMzMzOh+QB+F61G4yppAMzMzMzOBiEBcj8L1KBuhQClcj8L1wH1AXI/C9Sjmn0DNzMzMzOaZQEjhehSu3ZNASOF6FK6YmEA9CtejcEKYQHsUrkfhIZVAj8L1KFwYk0CuR+F6FM+bQJqZmZmZ6ZBAzczMzMxkkUDXo3A9CgCRQPYoXI/COY1ASOF6FK70lUCamZmZmUGTQAAAAAAAgI9AzczMzMxslkAzMzMzMzOTQDMzMzMzMZVAMzMzMzMroEAAAAAAAOCJQDMzMzMzSZZAw/UoXA/9oEAzMzMzMxeKQClcj8L1I5ZAKVyPwvUPnkBSuB6F6yOkQAAAAAAAgIBAAAAAAADokkCuR+F6FK6eQOF6FK5HH4pAzczMzMzElUDD9Shcj0qOQFK4HoXrA5FA7FG4HoWFiEAK16NwPSSZQEjhehSumJhAPQrXo3AfmUApXI/C9eyOQNejcD0KfYxAZmZmZmaOj0BmZmZmZvaXQI/C9Shco5VAuB6F61HTn0AzMzMzMyugQAAAAAAAPIZAhetRuB6Ck0DNzMzMzHOQQBSuR+F6GZdAcT0K16PCnUApXI/C9aKVQHE9CtejMJVApHA9CteenUAAAAAAAI2RQGZmZmZmxopAMzMzMzO9lkAUrkfhesCMQOxRuB6Fw4xAAAAAAADIlkCamZmZmUGMQGZmZmZml5tACtejcD1qnEDsUbgehRCUQB+F61G4sotApHA9CtfZnEAUrkfhei6WQAAAAAAAsJZAPQrXo3BVjECF61G4HmOWQJqZmZmZS4ZAcT0K16O0nkCamZmZmUugQGZmZmbmDKBAMzMzMzPKnECuR+F6FPKFQBSuR+F64ZVAj8L1KFwTjEAfhetRuAGcQEjhehSukZJAZmZmZmYel0DsUbgehRibQOF6FK5HaZBAmpmZmZnHpEBxPQrXo0GWQM3MzMzMBItAmpmZmZlViUAzMzMzM2uEQKRwPQrXHJhAmpmZmZm5hkAzMzMzM0GGQHsUrkfhKn5AexSuR+Fjk0AzMzMzMyWZQEjhehSuYpFAuB6F61FElECamZmZmeWPQDMzMzMzM5NA4XoUrkfRjUCamZmZmVWZQKRwPQrXvppAexSuR+EQk0AzMzMzMzOQQDMzMzMzY5NApHA9CteQo0AAAAAAAHyLQKRwPQrXr5RAj8L1KFxrh0DNzMzMzOyNQOxRuB6FypVAexSuR+G4mEAAAAAAAKiVQJqZmZmZVZlAexSuR+GknEDNzMzMzMyTQM3MzMzM6H5AuB6F61FkiUAAAAAAAPCVQNejcD0Kh4xAZmZmZmZWiECkcD0K1wCcQJqZmZmZrYlAKVyPwvUIiEAUrkfhetuZQGZmZmZmRoZA9ihcj8IxdECF61G4HhycQGZmZmZmAJBA9ihcj8JgmkCamZmZmYeeQKRwPQrXG4ZAFK5H4XpmhEBcj8L1KJehQDMzMzMzP5RAzczMzMzMfkDNzMzMzEyVQHsUrkfhGolASOF6FK44k0CF61G4HmqRQHsUrkfhCIpAw/UoXI+QkUDNzMzMzFiFQLgehetRI5dAFK5H4XrhlUBmZmZmZuKcQFK4HoXr/phAZmZmZmZUhkBmZmZmZnZ8QAAAAAAAkJJAMzMzMzOznUBI4XoUrjWcQFK4HoXrHXlA9ihcj8JgmkCuR+F6lFqhQDMzMzMzK6BA9ihcj8LGkEAzMzMzM4OHQM3MzMzM7I1ApHA9CtePkkB7FK5H4V2RQGZmZmZmZodAH4XrUTgyokCF61G4HouGQGZmZmZmS5RAcT0K16MSgEAAAAAAAP6iQJqZmZmZMKJA9ihcj0L6okCPwvUoXKOVQAAAAAAA/qJA7FG4HoXLiEAAAAAAAICQQAAAAAAAkJJAAAAAAAA+kEApXI/C9baRQHsUrkfhao1ASOF6FK6ZjkBmZmZmZhagQM3MzMzMLIdAMzMzMzNzlUBmZmZmZhiTQDMzMzMzRZlAmpmZmZltoUDXo3A9Cr2XQI/C9ShcsYlAAAAAAABAjkDNzMzMzBiNQJqZmZmZm5RA4XoUrkfOoEDNzMzMzDyTQFK4HoXrHYJAXI/C9Shsh0DXo3A9iv6gQJqZmZmZOYtA7FG4HoW6k0DsUbgehQ2TQDMzMzMzE4hACtejcD1llUCuR+F6FPKFQJqZmZmZtYRAFK5H4XrHlEDD9Shcj2KMQFK4HoXrs5RAzczMzMzmmUCamZmZGbigQB+F61G4LZNAKVyPwvUeh0CamZmZmXmNQAAAAAAAdKBAZmZmZmYmlUCkcD0K17+NQEjhehSu/ZNArkfhehS8lEDD9Shcj0CHQDMzMzMzY55AFK5H4XoulkAK16NwPQaEQHsUrkfhpJxACtejcD1tkEBmZmZmZuaSQK5H4XoU+JZAzczMzMwSnEDsUbgeha2QQAAAAAAAzIRAzczMzMwGnEBmZmZmZmaHQK5H4XoUxIRAAAAAAACAj0BI4XoUrn6WQAAAAAAABZpASOF6FK5ikUB7FK5H4fqFQK5H4XoUKZZA9ihcj8KNmUC4HoXrUXKRQGZmZmZmppZA4XoUrkfFiEAUrkfheqGRQJqZmZmZWYZAAAAAAADAlUCPwvUoXPmVQClcj8L1I5ZA9ihcj8IEmUAAAAAAAKCHQOxRuB6FaJJArkfhehQaj0CamZmZmQmJQFyPwvUomp9AAAAAAACcmkBxPQrXo0SXQArXo3A9colA9ihcj8KCkkBmZmZmZm6bQDMzMzMzu55AcT0K16PwikDNzMzMzCSZQOF6FK5HyppA7FG4HoX3o0AfhetRuEeVQJqZmZmZQpdAMzMzMzMtl0B7FK5H4WOTQFyPwvUoaqFArkfhehSLlkCamZmZmamEQNejcD0K4Y1AhetRuB5kkkBmZmZmZk6XQHsUrkfhOZVAXI/C9Sh4dUBSuB6F6ymTQGZmZmZmUpRAMzMzMzOTeUAAAAAAAHaGQM3MzMzMCI9AZmZmZmZmmkBcj8L1KPyRQD0K16Nw6pJAUrgehevflkCPwvUoXFOXQJqZmZmZ/KFAw/UoXI8MkkA9CtejcD+LQI/C9ShcCYlAZmZmZmYegUAzMzMzMwuRQB+F61G4YpVAmpmZmZnJm0CuR+F6FLaMQD0K16NwYYdAzczMzMwQgUBI4XoUrtd1QDMzMzMzT4FAhetRuB6ZiUCamZmZmRuNQBSuR+F6D5tArkfhehS5o0BmZmZmZgiYQArXo3A9I55AAAAAAACQkkDD9ShcjwqbQGZmZmZmHZJAhetRuB6glkBxPQrXo76bQHsUrkfhYJJAKVyPwvW6ikA9CtejcM+JQPYoXI/C2plAuB6F61HInkAK16NwPXSbQM3MzMzMjJFAUrgehevflkAAAAAAAKCbQFyPwvUoeZlAAAAAAAB4ikAAAAAAANaDQAAAAAAAXJxAmpmZmZnhjkA9CtejcL+OQM3MzMzMLJVApHA9CtexjEApXI/C9ZeWQK5H4XqU0aVAcT0K16MAmECuR+F6FPidQHE9CtejUoJAMzMzMzPom0D2KFyPwniTQB+F61G45qNAAAAAAABAkUCamZmZmfGBQM3MzMzMZZdAzczMzMxvl0CamZmZmaqTQB+F61G4tIZAzczMzMx0l0DhehSuR/SYQM3MzMzMPKBA4XoUrkf0mEBmZmZmZqaJQArXo3A9uohAH4XrUbgElUD2KFyPwiqUQJqZmZmZi4hA4XoUrkdpmEDD9Shcj2KMQNejcD0KfYxAH4XrUbg2h0AzMzMzMzOfQAAAAAAAQJRAMzMzMzNJk0CuR+F6FA6VQMP1KFyPyn9AzczMzMzmmUDsUbgehcuIQAAAAAAAIIxArkfhehQOlUDhehSuR46YQJqZmZmZWZBAZmZmZmYmkkApXI/C9cShQFK4HoXrT5ZArkfhehQOlUBmZmZmZr6TQK5H4XoUr6RAZmZmZmZGdkBI4XoUroSdQDMzMzMzk4lA9ihcj8IxhUBI4XoUrnONQGZmZmZmooFAXI/C9SjmnEAzMzMzMyObQAAAAAAAQI5AUrgehevflkD2KFyPwsaQQEjhehSuXpNAmpmZmZlRjkBmZmZmZi6DQI/C9ShcRZJAAAAAAACUi0DhehSuR6qhQFK4HoXrgJVA16NwPQqJkUAzMzMzM1OBQM3MzMzMHJ5A16NwPQrfikAAAAAAAICPQJqZmZmZG41AH4XrUbimlkAfhetRuPuSQArXo3A9V5FAXI/C9ShgjkBSuB6F60KVQEjhehSua5pAmpmZmZmpg0DXo3A9CjOUQJqZmZmZ8YFAmpmZmZn5mECPwvUoXGuiQAAAAAAAHJRAH4XrUbj2eUCamZmZmUeaQMP1KFyPRZhAw/UoXI/wlECkcD0K1wiRQHE9CtejD5NAPQrXo3CCmEAAAAAAABSfQNejcD0Ks4pApHA9Ctf6m0CuR+F6FGCaQBSuR+F6EpFAexSuR+Gtl0CkcD0K14qTQK5H4XoUiJJAmpmZmZnZh0A9CtejcFCfQHsUrkfhDZ9AKVyPwvVxoUCamZmZmbmGQK5H4XoUlohA4XoUrkeZjECamZmZmdmHQOF6FK5Hb5JAMzMzMzNjk0BmZmZmZnaMQDMzMzMzo5tA7FG4HoXhhEAzMzMzM5t0QGZmZmZmzphAAAAAAAAMj0AUrkfhenqgQFK4HoXr15hA9ihcj8JqlEAAAAAAAJKUQK5H4XoUOpFApHA9CtcOkUBcj8L1KPyRQAAAAAAAuIdArkfhehQTo0CamZmZmW2hQDMzMzMzdZ1ArkfhehQOlUBmZmZmZqCKQI/C9ShcTqBAzczMzMxskEBI4XoUrj+XQPYoXI/CU49AzczMzMxCn0AzMzMzM1GkQAAAAAAAoIRA16NwPQqzikCPwvUoXJCWQI/C9ShcF4RAPQrXo3BJl0DhehSuR1OOQLgehetRrZVA7FG4HoXXf0AUrkfh+tukQGZmZmZm9pdAhetRuB49nUAzMzMzM8+fQFK4HoVrM6NAMzMzMzNjg0B7FK5H4WCPQAAAAAAAoJRAmpmZmZkBoEAfhetRuOaMQM3MzMzMTI5AexSuR+FIkkAzMzMzMzOfQD0K16NwWpVASOF6FK4glEApXI/C9S6ZQKRwPQrX345AH4XrUbigoUCPwvUoXBN1QOxRuB6F4J1AZmZmZmYdpUApXI/C9UiHQDMzMzMzK6BA4XoUrkfgkkAzMzMzM56VQHE9CtejbJJA7FG4HoWVkUB7FK5H4YCMQOxRuB6FhYhACtejcD1dm0AzMzMzM8mCQOxRuB6FU4xASOF6FK7/e0CamZmZmZmVQI/C9ShcUZVAPQrXo3BJl0BmZmZmZoiUQJqZmZmZeYtAMzMzMzOzfUBmZmZmZtyQQMP1KFyPi6VAcT0K16NHnECamZmZmemTQMP1KFyPO5xAMzMzMzNrlECuR+F6FM6VQDMzMzMzH4pAMzMzMzOAn0BmZmZmZoaeQJqZmZmZGZRAhetRuB4Xl0BxPQrXoxKQQK5H4XoUEqJAFK5H4XoZl0AzMzMzM8iVQJqZmZmZQ5RAAAAAAADgjECPwvUoXB2VQOF6FK5H0YhAUrgehesqlUCuR+F6FFKKQDMzMzMzc5VAMzMzMzMWlkDsUbgehQaWQDMzMzMz841AAAAAAIC9oEAK16NwPQ6QQHsUrkfhMoNAXI/C9ShqoUBmZmZmZgidQGZmZmZmAJBAXI/C9SjkkUCamZmZmfmNQM3MzMzMmJRAhetRuB4WkkDsUbgehfuXQPYoXI/C7ZRAmpmZmZmpdECamZmZmcODQKRwPQrXA5JASOF6FK7nl0ApXI/C9X6KQD0K16Nw6ZFA16NwPQqzikBcj8L1KHh+QGZmZmZmapxASOF6FK6Gk0DNzMzMzBCHQDMzMzMz+6BAexSuR+Gmi0A9CtejcPqQQGZmZmZmRoZAj8L1KNyjpUAzMzMzMwKmQPYoXI/CyYpAw/UoXI/Um0AAAAAAACCMQAAAAAAAkpRAKVyPwvXuk0BmZmZmZrCJQDMzMzMzs5RAzczMzMw8k0AUrkfhesKWQAAAAAAA6IJA16NwPQpBiUCamZmZmQmVQNejcD0KO4xAmpmZmZnzjkBcj8L1KHh+QM3MzMzM/HlAFK5H4XrcikA9CtejcKaWQGZmZmZm7p1AZmZmZma2nkBmZmZm5sahQHsUrkfhEJNA16NwPQp4lEA9CtejcCmiQM3MzMzMEo1ArkfhehQXk0AAAAAAAKCEQPYoXI/CnYpACtejcD1qiUDXo3A9CsuLQM3MzMzMDJZAAAAAAABAjkCPwvUoXEKlQHsUrkfh5pRArkfhehTPm0DXo3A9igamQM3MzMzMDJBAmpmZmZmqk0CamZmZmVmWQDMzMzMz849AmpmZmZnplkCuR+F6FMahQJqZmZmZQZxAMzMzMzOTiUCamZmZmQmFQFK4HoXrXZhAmpmZmZnhfkBmZmZmZiaSQDMzMzMzN5pAmpmZmZmBnkAfhetRuHaRQM3MzMzM5plApHA9Ctcro0AK16NwPRSHQDMzMzMzg4dAZmZmZmZGlkCuR+F6FLqNQEjhehSuwp9AhetRuB7Hj0CamZmZmTmAQJqZmZmZyZtAKVyPwvXsjkBmZmZmZjGUQHsUrkfhIZVAcT0K16MSlEBmZmZmZgKDQLgehetR7JxApHA9Ctdrj0DNzMzMzMyTQGZmZmZmvpNAAAAAAAAclEAAAAAAAGCOQArXo3A9U5VAmpmZmZmZlUDhehSuR1uRQGZmZmZmzphAzczMzMxymECamZmZmbiWQLgehetRmIFAAAAAAACrpECamZmZmYmWQK5H4XoUxo5AzczMzMy0kECF61G4HvyXQJqZmZmZeY1AMzMzMzOrnECuR+F6FF2QQLgehetRFZRAZmZmZmYGiUCamZmZmS6XQClcj8L1hIhACtejcD1XnkBSuB6F64OBQOF6FK5HzqBAZmZmZmaGe0D2KFyPQpChQLgehetRJ5VAw/UoXI9omUCamZmZmRuNQNejcD0KfYxAAAAAAACwn0BmZmZmZh6XQFyPwvUo2pZAKVyPwvWgiUBcj8L1KH6ZQMP1KFyPtZRA7FG4HoWtkECamZmZmemQQBSuR+F6DpVASOF6FK4glEAAAAAAAFyMQAAAAAAAlJhArkfhehQajEAUrkfhepKKQHE9CtejrJVAZmZmZmZWiEDNzMzMzHqRQB+F61G4R5VAzczMzMwMlkBmZmZmZhagQB+F61G4dIRAXI/C9SiQgUBmZmZmZuaNQK5H4XoUjndAKVyPwvWTkkB7FK5H4SZ8QGZmZmZm7p1AMzMzMzODl0CPwvUoXHyVQAAAAAAANI1A9ihcj0L6okBxPQrXoyGUQJqZmZmZiZBAZmZmZmYWoEB7FK5H4SKHQClcj8L1k5xAFK5H4XrukkDNzMzMzLKPQM3MzMzMEIFAMzMzMzPGo0ApXI/C9VaCQDMzMzMzA5JAzczMzMwsh0DD9Shcj2yKQJqZmZmZeYtAhetRuB6EkkBI4XoUrqSdQMP1KFyPP55Aw/UoXI9tmEBI4XoUrheLQFK4HoXry5RAKVyPwvVgf0CkcD0K10yeQOxRuB6FWY5AMzMzMzMzkEDhehSuR92VQPYoXI/CxYhAH4XrUbjqeUCPwvUoXAKaQClcj8L1gJdASOF6FK6biUDNzMzMzDSVQDMzMzMz2Y5AAAAAAACGjkBmZmZmZgKOQHsUrkfhq6JAhetRuB56m0CPwvUoXLCeQNejcD0KpZNArkfhehS2jEB7FK5H4Y6DQM3MzMzM9JhAAAAAAAAUikDNzMzMzMyMQDMzMzMzPppApHA9Cte/jUBmZmZmZsCPQJqZmZmZKZlAFK5H4XpGj0AzMzMzM8eXQGZmZmZm4aJApHA9CtfsmUAAAAAAAMCIQAAAAAAANJdAzczMzMx6kUAzMzMzM/uLQArXo3A9n5xAj8L1KFxRlUCF61G4Ho2MQDMzMzMzJ4xAj8L1KFwjmkApXI/C9degQEjhehSuFZNAAAAAAAD2kUBI4XoUrtSVQGZmZmZmBo5Aw/UoXI8MjUC4HoXrUYyMQArXo3A9M5RAPQrXo3AUoUAzMzMzM3uWQAAAAAAA8JNAZmZmZmawiUAfhetRuK2YQDMzMzMzs31AMzMzMzOrjEA9CtejcJCWQIXrUbgeeJ1AFK5H4Xp2iEBcj8L1KNaWQJqZmZmZ+ZhArkfhehRWnUDNzMzMzHefQI/C9Shcl5NAAAAAAAAEgUCPwvUoXAmOQAAAAAAAQJRAZmZmZmYmjUA9CtejcKV9QEjhehSu14VAexSuR+GahkDNzMzMzLyMQJqZmZmZLYhAMzMzMzPJkEApXI/CdfujQNejcD0Kk45AZmZmZmb+fkApXI/C9aySQJqZmZmZXKBAexSuR+EOh0CF61G4HiKjQGZmZmZmCJ1AmpmZmZnRoEBcj8L1KCOmQGZmZmZmLoNAUrgeheu+nEDNzMzMzPSWQFyPwvUoZpFAXI/C9SjokEDNzMzMzAiXQGZmZmZm/JRAMzMzMzNzlUAK16NwPRCZQAAAAAAA6I1AH4XrUbg1kkA9CtejcAuXQMP1KFyPJntAFK5H4XoyiEAAAAAAABSfQMP1KFyPbZhAZmZmZmZmkUAfhetRuE6MQDMzMzMzk4lAZmZmZma8n0AfhetRuASPQIXrUbgeS5FAhetRuJ4toUB7FK5H4dWlQM3MzMzMoItA4XoUrkcslUA9CtejcAGWQIXrUbgejZBAZmZmZmbqoUDD9Shcj8SaQDMzMzMzs51AhetRuB5WkECamZmZmXmUQGZmZmZmdptAmpmZmZm3kkBmZmZmZt2RQEjhehSuPpVAAAAAAADAlUDNzMzMzMyTQOF6FK5Hn5BAMzMzMzM/lECPwvUoXGeJQEjhehSuQ5FAcT0K16MpnkBcj8L1KEuWQJqZmZmZ+Y1A7FG4HoW5nUAAAAAAAGiCQGZmZmZmpppA9ihcj8JknkBSuB6F64CVQGZmZmZmep1AMzMzMzNdnkCamZmZmRmRQB+F61G48ZlA4XoUrkdTjkBxPQrXo96TQI/C9ShceZ5ArkfhehT4hkBmZmZmZgaNQGZmZmZmVphAAAAAAABgh0BxPQrXoxmWQM3MzMzMc5BApHA9Cte0lkAAAAAAAIaOQAAAAAAABJFAmpmZmZlRjkAUrkfhetWfQLgehetRyJ5AXI/C9SgqmUA9CtejcAl3QEjhehSu6ZZArkfhehQuk0CamZmZmRqjQAAAAAAACIFAw/UoXA/9oEBmZmZmZkaGQJqZmZmZwZRAKVyPwvWpkECPwvUoXAKaQM3MzMzMQJJAmpmZmZnxkUDNzMzMzPyZQKRwPQrXGZBA16NwPQp9jED2KFyPwn13QM3MzMzMpqFAZmZmZmbyh0A9CtejcK+RQOxRuB6F5YlAPQrXo3BalUAzMzMzM0ePQDMzMzMzt6RAmpmZmZlHiEBmZmZmZs6YQAAAAAAANIdA7FG4HoVni0DNzMzMzBSdQEjhehSu9JtAPQrXo3DbmkAfhetRuCSKQDMzMzMzc3VAcT0K16MznkDNzMzMzEKfQK5H4XoUzIpAAAAAAACAk0CkcD0K10qcQOxRuB6Fu5VAj8L1KFy7lUBSuB6F6ymDQDMzMzMzk4lApHA9Ctcck0Bcj8L1KNqWQDMzMzMze5ZAj8L1KFxfmkAzMzMzMz+UQGZmZmZmqJpA9ihcj0L6okDhehSuR76WQIXrUbgeOpBAw/UoXI/Ik0B7FK5H4TaGQHE9Ctejf5RAw/UoXI8sl0CF61G4HsGSQD0K16NwtZhAH4XrUbjQlEBI4XoUrjGUQHE9CtejvptACtejcD0AjUAUrkfherR4QHE9Ctej5opAXI/C9Shsk0DXo3A9CsuLQHsUrkfh45RAmpmZmZlZjECamZmZmUuGQArXo3A9SJVAZmZmZmZum0A9CtejcMGWQGZmZmZm+o5APQrXo3BfgkDsUbgehZWaQGZmZmZm0odASOF6FK4+lUDNzMzMzFieQDMzMzMzC5FAZmZmZmZulUBcj8L1KJCBQKRwPQrXI35ApHA9Cte0lkCamZmZmZmVQFK4HoXrlYdAzczMzMxykEAzMzMzM9+SQJqZmZmZCYVASOF6FK5EnkBSuB6F6/6YQClcj8L1+I5Aj8L1KFzikkBI4XoUrsCdQKRwPQrXJ4VArkfhehTrlUDNzMzMzNSEQAAAAAAAsJZAZmZmZmY+lUAAAAAAAFKWQLgehetRlJJAXI/C9SgLkEDNzMzMzLKPQAAAAAAAi51AKVyPwvWgiUAAAAAAAByUQGZmZmZmZJBAZmZmZmYuk0Bcj8L1KGyXQKRwPQrXYZNAj8L1KFw7mkCPwvUoXBOMQM3MzMzMzINA7FG4HoUQlEBmZmZmZnGVQAAAAAAAopdArkfhehQOiEAzMzMzM5eUQAAAAAAAQH5A4XoUrkczi0DD9Shcj+igQOF6FK5H64RAMzMzMzMzk0CkcD0K1+qRQDMzMzMzyZFA7FG4HoXgnUCPwvUoXNWXQDMzMzMzQZdAZmZmZmYkjUAfhetRuBSZQHsUrkdhnKFAAAAAAABok0CamZmZmZWGQClcj8L17pNAj8L1KFw9kEApXI/C9bqKQIXrUbgeeJ1AzczMzMz0mEBxPQrXozOeQHsUrkfhrZdASOF6FK6BlEBmZmZmZkigQArXo3A9tJFAZmZmZmZmkUDNzMzMzAaTQDMzMzMz9YJAKVyPwvXao0DXo3A9CpGQQMP1KFyP7pZAcT0K16NDmkD2KFyPwmqUQAAAAAAAxo9AH4XrUbhPmUApXI/C9fyDQKRwPQrXHJhAj8L1KFx8lUC4HoXrUWWRQNejcD0KrZBAMzMzMzO6oECamZmZmbGVQHE9CtejbpVAmpmZmZmZkUAK16NwPR2RQJqZmZmZcZ9A4XoUrkeFjUCF61G4HoeKQI/C9ShcCYlAFK5H4frxoUC4HoXrUe6WQGZmZmZmdoxACtejcD3WikAzMzMzM0OhQGZmZmZmdpZAcT0K16P0k0AfhetRuDaHQNejcD0KpYdA4XoUrkfxlEBmZmZmZh6XQJqZmZmZ2YdAMzMzMzPZjkBI4XoUrqKZQHE9CtejbpVAw/UoXI/Um0BxPQrXoyCMQI/C9ShcCY5AZmZmZmaWdEBSuB6F68+EQFK4HoXrzY9AXI/C9Sian0AAAAAAAByUQOF6FK7HN6FAXI/C9ShQhEDNzMzMzAx8QFK4HoXrnYVAmpmZmZlvl0BmZmZmZg6SQDMzMzMzM5NAH4XrUbgElUAUrkfh+p2jQJqZmZmZK5FAcT0K16Pag0CF61G4HgWVQClcj8L1k5JAzczMzMxOjEAzMzMzM0uAQClcj8L1I5ZApHA9CtcIkUAzMzMzM2meQM3MzMzMhJZAuB6F61GMjEB7FK5H4QiKQFyPwvUoaqFAXI/C9Sg4lkAAAAAAAACVQK5H4XoUuo1AXI/C9SjIg0CuR+F6FCSeQEjhehSu65VAexSuR+Eak0DsUbgehVKSQJqZmZmZeZRAcT0K16MSkEAAAAAAAOidQI/C9Shca4dAFK5H4XpYiUDsUbgeheCdQIXrUbge/JdAMzMzMzM3lEAAAAAAAOCJQJqZmZmZ45BAZmZmZmbdkUApXI/C9Th+QAAAAAAAQHtAAAAAAADwk0A9CtejcFWMQArXo3A9EpJApHA9CtfZnEAzMzMzM4OXQDMzMzMzN5pAmpmZmZkbjUA9CtejcKV9QKRwPQrX2ZBA7FG4HoXzhUD2KFyPwuCZQGZmZmZm5n9AzczMzMxskkCamZmZmQ6dQFyPwvUomIpAZmZmZmYCmEBxPQrXo8yOQGZmZmZmWZZAMzMzMzONkEAzMzMzM1OKQOF6FK5HM4tApHA9CtefoUBSuB6F60CTQM3MzMzMzIxAPQrXo3BNk0CamZmZmRmRQEjhehSuyJdAZmZmZmb+jkCuR+F6FAaHQFK4HoXr3ZtASOF6FK6ZjkDXo3A9CryUQHE9Ctejpo5AFK5H4Xqto0Bcj8L1KCaTQDMzMzMzv5JA9ihcj8I5jUD2KFyPwjyaQB+F61G4qnZAMzMzMzOrjEAAAAAAgL2gQGZmZmZmXpRAKVyPwvVIh0CF61G4HkueQDMzMzMzM4lAPQrXo3CjnUB7FK5H4TKTQLgehetR7pZAzczMzMwcnkBmZmZmZvaUQB+F61G4GZNAZmZmZmaWlEBmZmZmZkaGQArXo3A9DIlAmpmZmZm7oUCPwvUoXDuaQHE9CtejDpFAmpmZmZlJl0AAAAAAAKCXQGZmZmZmi6BAzczMzMw4iEBI4XoUrhWTQOxRuB6FyJ1AKVyPwvWgiUBcj8L1KMCVQK5H4XoUuJhAzczMzMzUlEDNzMzMzD6gQOF6FK5H8ZdAMzMzMzNjg0AAAAAAAICTQGZmZmZmRoZAZmZmZmaGn0DhehSuRyqSQDMzMzMzJ4hAZmZmZmbmnUBmZmZmZtyQQEjhehSu55dAH4XrUbiukUCPwvUoXBN8QEjhehSuFZNA4XoUrkdbgUAAAAAAAMCVQDMzMzMzs41A9ihcj8IumkAzMzMzM5OMQOxRuB6FS3ZAZmZmZmYKhECPwvUoXDuaQClcj8L1l5ZAAAAAAAAUikDNzMzMzNyVQM3MzMzMOpRA16NwPQpNj0Bcj8L1KFagQM3MzMzMbJBAMzMzMzMCpkBxPQrXoyqSQD0K16NwC5dAZmZmZmZwm0B7FK5H4V2RQArXo3A9sZBAAAAAAACAk0AzMzMzMyeIQK5H4XoUlpFA16NwPQqJkUAfhetRuBaGQOF6FK5Hn5BA7FG4HoVrnUAzMzMzM2uUQJqZmZmZcYdA4XoUrkdFnEDNzMzMzFieQDMzMzMzM49AAAAAAAD+gkCkcD0K16uJQAAAAAAA8H5AexSuR+E5lUBmZmZmZlSWQHsUrkfhYJJAZmZmZmYWgEBI4XoUrkORQDMzMzMze5ZAAAAAAACAk0AzMzMzM8OQQHE9CtejEpBArkfhehSWgUDXo3A9CuuJQBSuR+F6FpZAXI/C9SjynUC4HoXrUY6cQHE9CtejQZZAAAAAAAASkEBcj8L1KLaOQK5H4XoUxopA9ihcj8I9kUCF61G4HmuIQKRwPQrXtJZAZmZmZmbmlUDNzMzMzLuRQDMzMzMz6ZhA7FG4HoXRi0CamZmZmRuNQMP1KFyPcJJAzczMzMwGnEBSuB6F6yWPQDMzMzMz85NAcT0K16OmjkDNzMzMzMyMQArXo3A9CoZAzczMzMyYlEDsUbgehRCUQM3MzMzMkp5AXI/C9SjkhUBmZmZmZmaHQJqZmZmZ4pdAzczMzMzqlUBxPQrXo0ecQGZmZmZm0JBAKVyPwvWklEAUrkfheoWQQMP1KFyPb5RA7FG4HoW3gkAAAAAAAMSSQArXo3A9DJRA4XoUrkfQl0C4HoXrUa2VQOxRuB6F9KBAZmZmZmZ6h0AAAAAAAKKXQLgehetRvZFAzczMzMy0kECF61G4HkuGQGZmZmZmzphAAAAAAAC8kkApXI/C9VmaQIXrUbgeb5RAzczMzMygjkCkcD0K13GKQM3MzMzMjJFASOF6FK6noUAzMzMzM0GGQGZmZmZmXolAZmZmZmaLoECkcD0K14+aQPYoXI/CdptAzczMzMyclkDXo3A9CpmdQGZmZmZmZnpAPQrXo3BNk0DXo3A9CmqVQBSuR+F6vpBA4XoUrkctjUBI4XoUrpiYQKRwPQrXCpZAZmZmZmZmikBI4XoUruuNQLgehetR4JBAAAAAAADIlkBcj8L1KI6HQKRwPQrXBpNAmpmZmZkJlUAzMzMzM5SQQIXrUbie86FAcT0K16Ogk0AUrkfhegqVQDMzMzMz85BAZmZmZmYel0CamZmZmUGMQDMzMzMzupNAPQrXo3AviUAAAAAAALiXQIXrUbge2JVAzczMzMwkmUCkcD0KV+KgQB+F61G45qNASOF6FK5skkDXo3A9CqWDQMP1KFyPlZRAAAAAAADgnkAAAAAAAOCNQB+F61G4uphAzczMzMyulEDNzMzMzAGiQAAAAAAAgJNACtejcD0SkkAAAAAAABSKQOF6FK5HxZhAAAAAAADnkUCamZmZmQmVQIXrUbgejZBAZmZmZmaSlUC4HoXrUV6EQLgehetRjpZAMzMzMzPDkEBI4XoUrvSVQDMzMzMzN5pAhetRuB4rmEBcj8L1KH6KQDMzMzMzfZhAcT0K16M4kUAzMzMzM/OGQHsUrkfhYI9ApHA9CteDgEB7FK5H4SecQClcj8L1ko1AzczMzMy0kECamZmZmUuGQOF6FK5HxZhAMzMzMzPzj0CuR+F6FE6OQAAAAAAA6I1AXI/C9ShgjkAAAAAAACiXQFK4HoXrJY9AMzMzMzOzmEBcj8L1KMCVQGZmZmbmCKJAzczMzMwMj0DD9Shcj7Z7QM3MzMzMjJRAZmZmZmZui0AfhetRuPuTQB+F61G455JAXI/C9aiOoEC4HoXrUayNQGZmZmZmdoZAuB6F61GQhkDXo3A9Ckd+QDMzMzMzE49AZmZmZmaigUAzMzMzM4eSQD0K16NwZpRA9ihcj8KwlEDsUbgehRGWQDMzMzMzM49Aw/UoXI/Kf0BmZmZmZgidQAAAAAAAi51AXI/C9ShPkUAfhetRuPCJQM3MzMzMvJFAMzMzMzOjmECamZmZmVygQDMzMzMz84ZA7FG4HoVTjEBxPQrXo02UQMP1KFyPnZJA4XoUrkeZjEAzMzMzMx+KQFK4HoXrQpVAAAAAAABAjUBcj8L1KOacQKRwPQrXu39AMzMzMzOfk0DXo3A9CmyaQB+F61G4TpFAw/UoXI9SiUDNzMzMzByeQIXrUbgeQYBAZmZmZmaCi0DD9Shcj8iTQKRwPQrXA5JAZmZmZmaWe0AzMzMzM2uEQDMzMzMzu5JAXI/C9Sjsl0AAAAAAAEyKQJqZmZmZKZlAAAAAAACil0CamZmZmZmcQI/C9Shc45hAzczMzMwMk0AAAAAAAPeXQAAAAAAALIxApHA9CtdmlEAUrkfheu+YQNejcD0KL5FAexSuR+Fjk0BxPQrXo26VQNejcD0K5Y9AAAAAAADokkAzMzMzM3OlQDMzMzMzGaJAZmZmZmZGj0DNzMzMzByOQI/C9ShcPZBAAAAAAAAgjkAUrkfhenyQQAAAAAAAq6RAmpmZmZmpk0AAAAAAACqeQKRwPQrXCJFACtejcD2ekkBmZmZmZtKHQDMzMzMzP5RAuB6F61HulkDXo3A9Ch93QJqZmZmZmZVAUrgehWthoUCamZmZmbeSQPYoXI/CFZBAj8L1KFwRi0CuR+F6FLqNQDMzMzMzUZhAUrgehet7iEAAAAAAAECRQLgehetRXpRAFK5H4Xo9kkAUrkfhej2SQOF6FK5Hc41AzczMzMySlEAUrkfheg6FQNejcD0K44dAUrgehespg0BmZmZmZo6PQJqZmZmZGZRAcT0K16OQkEAAAAAAAAiBQAAAAAAAVpNAuB6F61GjoUBI4XoUroaTQIXrUbgeW49AZmZmZmagn0CPwvUoXKqUQFyPwvUooZpAzczMzMyalEBI4XoUrl6TQOF6FK7HmaFAzczMzMyElkA9Ctej8IeiQDMzMzMze4ZA16NwPQrRk0ApXI/C9badQMP1KFyPyphAZmZmZmbKlkBI4XoUrkORQArXo3A9BoxAzczMzMxymEDNzMzMzMyDQHsUrkfhOZVA9ihcj8KYkEAAAAAAAAyPQJqZmZmZt5JApHA9CtcxkkBcj8L1KHmXQLgehetRwoRAzczMzMy8kUC4HoXrUSOXQEjhehSup6FASOF6FK4/l0DXo3A9CjeDQBSuR+F6QI9AzczMzMxElkCF61G4HjuUQDMzMzMzO5RAmpmZmZn6mECuR+F6FKmbQLgehetRFZRAhetRuB6emUA9CtejcKiYQJqZmZmZH5FAzczMzMwkmUAfhetRuLaVQOF6FK5HKpJAXI/C9aj8pEBxPQrXo1iOQDMzMzMzv5JA16NwPQrLi0D2KFyPwouVQHsUrkfhmoZA16NwPQqll0DNzMzMzKahQDMzMzMzJ5xAuB6F61HClEAzMzMzM/OQQGZmZmZmRoZArkfhehRaiEDNzMzMzAKVQB+F61G4qoZAhetRuB56mUAAAAAAAHSgQHE9Cteje5VAzczMzMxkkkDNzMzMzEySQDMzMzMzM5BAAAAAAADQmkBcj8L1KI6HQDMzMzMzk5NAMzMzMzNOpUCkcD0K1xmMQPYoXI/CMYdAAAAAAACAk0CPwvUoXCaYQBSuR+F61IdA7FG4HgU3pkDXo3A9Cm2NQPYoXI/C7ZxAcT0K16NHnEAUrkfhehmQQI/C9SjcCqZAZmZmZmYmlUBxPQrXo1KQQIXrUbgexYxApHA9CtcbnkAzMzMzMzGVQK5H4XoUSZNAcT0K16O6l0DNzMzMzE6iQJqZmZmZcZ9A7FG4HoUzjUBcj8L1KOyXQAAAAAAAkJJAH4XrUbiGj0DNzMzMzPyJQAAAAAAAQqBAmpmZmZlDlECamZmZmcWMQGZmZmZmcIdAAAAAAAD+gkC4HoXrUayNQD0K16NwX4JASOF6FK6ZjkAAAAAAAPaRQGZmZmZmpolAMzMzMzNpjECamZmZmUahQFK4HoXrMY1AAAAAAAAAi0B7FK5H4V2RQFyPwvUoP5VAmpmZmZnxgUAK16NwPbqIQAAAAAAAuJFAhetRuB5HgUAzMzMzM+SkQGZmZmZm4pxAKVyPwvUIekDNzMzMzDyTQJqZmZmZmY5AH4XrUbgZk0AAAAAAAGCOQOxRuB6FbaBAuB6F61Ejl0CF61G4HtiVQJqZmZmZeYhAhetRuB7Em0AzMzMzM12kQBSuR+F6uJBAcT0K16Mak0DNzMzMzHubQDMzMzMzE4hAH4XrUbimlkBI4XoUrnKRQPYoXI/CHpxA4XoUrkfHh0CamZmZmQGEQMP1KFyPO5xAMzMzMzPpiEAK16NwPQCNQOF6FK5H+ZpAw/UoXI+CkEBmZmZmZnaRQEjhehSur5ZA16NwPQpjoECF61G4HiuNQJqZmZmZqYNAFK5H4frNo0AAAAAAAIiBQGZmZmZmppNAXI/C9ShJkkBcj8L1KKCOQM3MzMzMjJFA7FG4HoWDkEAAAAAAAFSVQI/C9ShcHZVAMzMzMzOTeUDNzMzMzAacQLgehetR7pZAZmZmZmZmmkBmZmZmZoaOQOF6FK5Hw4ZAAAAAAADYm0CamZmZmSGYQOxRuB6FEJRA7FG4HoUDiUBI4XoUrpt+QArXo3A9XZtArkfhehT4lkBcj8L1KOqGQEjhehSuO5RAZmZmZmYyj0AAAAAAAGmdQFyPwvUoOJZAUrgehes3j0CamZmZmRmKQClcj8L165BAexSuR+HMh0BmZmZmZqaTQHE9CtejMI9AzczMzMzsd0DXo3A9CsaUQI/C9ShcGJNA16NwPQr3lEBcj8L1KOyeQM3MzMzMLI5A7FG4HoUZjkBSuB6F60+GQJqZmZmZwZRA4XoUrkepkkDNzMzMzBKcQDMzMzMzU4pApHA9CteriUCamZmZmcekQPYoXI/CXYVAXI/C9ShvnkAzMzMzM5OZQGZmZmZmRoZAFK5H4XpVk0C4HoXrUfiRQAAAAAAA4IxAFK5H4Xp7mECamZmZmbOcQEjhehSu5ZBAj8L1KFzlk0CkcD0K19mcQLgehetR7pZArkfhehTgpECF61G4HsKXQM3MzMzMDJNAFK5H4XpEg0AzMzMzM8OQQAAAAAAA8H5Aw/UoXI/Kf0CkcD0K19mcQClcj8L15oVAZmZmZmYKhEA9CtejcPmKQBSuR+F6qpJAZmZmZmYWoED2KFyPwlOPQFK4HoXrzZVAMzMzMzOzgkAzMzMzM7OUQPYoXI/CRZ1AAAAAAAAPlUBxPQrXo8WQQKRwPQrXF4RArkfhehTMikCuR+F6FA6IQAAAAAAAMoxAPQrXo3D3k0CF61G4Hm14QKRwPQrXq4lASOF6FK4Kk0D2KFyPwj+PQKRwPQrXv4pAcT0K16MAmEBI4XoUrmmPQBSuR+F6HpxAzczMzMzofkAAAAAAABCeQDMzMzMziJdAZmZmZmamk0Bcj8L1KMiDQM3MzMzM5plAZmZmZmYel0CuR+F6FKmbQBSuR+F6LpZAhetRuB4Li0AzMzMzM1eBQJqZmZmZEZZACtejcD0hk0DhehSuR3ONQAAAAAAA+o9AmpmZmZlcoEB7FK5H4cyHQPYoXI/CyYpArkfhehQaj0DNzMzMzFqZQDMzMzMzW4JAMzMzMzPDlEDhehSuRx2aQM3MzMzMJJlAUrgehetAk0ApXI/C9ZqHQMP1KFyPDI1A16NwPQqTjkC4HoXrUeiUQHE9CtejtJ5AMzMzMzNpnkBmZmZmZnCbQB+F61G45qNAZmZmZmZ2hkAzMzMzM6KTQArXo3A9iJlAH4XrUbgEhUD2KFyPwmCaQGZmZmZmZpRA16NwPQpLkUB7FK5H4Q6HQClcj8L17I5AZmZmZmYulkAzMzMzM2uEQAAAAAAAhplAPQrXo3A/i0DNzMzMzCyHQOxRuB6F3YdAhetRuB7ZjEAzMzMzM7OdQD0K16Nwc45AZmZmZmaGk0D2KFyPwm+MQGZmZmZm7I9A16NwPQrlj0Bcj8L1KBuhQKRwPQrX2ZxAmpmZmZkhmEBmZmZmZgOWQM3MzMzMBpxAAAAAAADImUAzMzMzM0GGQB+F61G49olAZmZmZmbmi0DsUbgehdGLQEjhehSuXpNAuB6F61EVlEAAAAAAAPeXQDMzMzMzm4pAhetRuB7Gl0BmZmZmZnaGQPYoXI/CYYhAcT0K16P4lUBxPQrXo0iUQIXrUbgeK5hAFK5H4Xrel0DXo3A9CkKbQAAAAAAAvZlA9ihcj8JQlkBmZmZmZougQClcj8L1CJVAAAAAAADAiEBcj8L1KL2UQBSuR+F6pH9Aj8L1KFzokEDXo3A9Ct+aQJqZmZmZWZBApHA9CtcOkUBxPQrXo5WSQGZmZmZmXIdAw/UoXI8ZoECkcD0K15eZQGZmZmZmhp9ASOF6FK6noUAK16NwvQGjQDMzMzMzk4lAMzMzMzOzkUC4HoXrUSSHQEjhehSuH31AAAAAAAAAjkDNzMzMzDyTQNejcD0KC4pAMzMzMzNLgECamZmZmZmVQM3MzMzM0JVArkfhehQknkAUrkfheliJQM3MzMzMTqJAcT0K16MZlkAfhetRuPqIQDMzMzMzm4RA16NwPQq8kEDNzMzMzMSVQOxRuB6F4YRAZmZmZmbmkkDXo3A9ClmSQHsUrkfhIodA16NwPQr/mkAzMzMzM/ugQMP1KFyPco9AzczMzMxehkCamZmZmWGRQPYoXI/CfXdArkfhehTGjkAzMzMzM7OUQIXrUbgeVpBAw/UoXI8ZoEB7FK5H4X6RQOxRuB6FzYJAw/UoXI+dkkCPwvUoXCOaQFyPwvUo8IRAmpmZmZk1lUCuR+F6FICZQK5H4XoUF5VAH4XrUbiqlkApXI/C9e6aQGZmZmZmNJFAzczMzMwEm0AzMzMzM8ajQGZmZmZmipxAAAAAAADgnkCF61G4Ho2QQArXo3A9/p1AMzMzMzMzmEAAAAAAAFimQK5H4XoUr6RAMzMzMzOznUDNzMzMzOSWQKRwPQrXOY9A4XoUrkfFh0DhehSuR5SRQAAAAAAAkJJAKVyPwvWTnEBcj8L1qPykQClcj8L1BpNAXI/C9SiEk0DNzMzMzH6XQFyPwvUo5JFAzczMzMzMj0CamZmZmQGEQDMzMzMzw5JAexSuR+GrokAzMzMzM/OTQIXrUbge+phAFK5H4Xp0kkBmZmZmZliaQDMzMzMzE49A16NwPQq9l0AUrkfhenqgQFK4HoXrKZNASOF6FK44k0CamZmZmemTQK5H4XoUo5NArkfhehRWnUCPwvUoXDeUQOF6FK5HlJFAzczMzMxymEAzMzMzMzGVQPYoXI/CGYJAuB6F61FrkkCkcD0K11KeQOxRuB6Fw4pApHA9CtePmkAzMzMzM12VQM3MzMzMrpVAXI/C9Shsk0BmZmZmZuqhQHsUrkfhhaFA9ihcj8JhiEAAAAAAAJCSQI/C9ShcoYpAUrgehetClUDNzMzMzBx+QNejcD0KMZhAmpmZmZkQmEAzMzMzM1qRQAAAAAAAwIhArkfhehTylUAAAAAAAHqfQPYoXI/CdptAzczMzMxkkkAAAAAAAF6dQK5H4XoUqZtAzczMzMy7kUCPwvUoXP2eQIXrUbgeS5FAzczMzMx5l0A9CtejcBShQFyPwvUon5VAmpmZmZkBj0BSuB6F6x2CQKRwPQrXN5xAuB6F61HMjEDXo3A9CnmLQOxRuB6Fj4NAMzMzMzOelUDXo3A9Cq2QQFyPwvUo1ZRAXI/C9SiGjUAfhetRuB+WQAAAAAAAyJZAH4XrUbhokkA9CtejcBqmQFyPwvUoAoZAUrgehevhdUDhehSuR9KdQBSuR+F6R5VA16NwPQpLi0BmZmZmZgyXQM3MzMzMc5BArkfhehT4lkBcj8L1KO6UQArXo3A9EJBA9ihcj8I8mkBcj8L1KOqGQOxRuB6FuYlAAAAAAACwn0BxPQrXow+TQPYoXI/CapRAcT0K16O4i0CamZmZmbmGQPYoXI/CHKJAcT0K16NYkUCamZmZmRGTQGZmZmZmHodA16NwPQo3g0BI4XoUrmGUQAAAAAAAWKZA16NwPQrrlkBmZmZmZmaRQEjhehSu4ptAw/UoXI9jlkBmZmZmZsSYQDMzMzMzV4FAhetRuB5LnkBI4XoUrriQQAAAAAAA8JVAmpmZmZlNlkAzMzMzM8OPQAAAAAAA/ZZAMzMzMzOji0CamZmZmQmFQM3MzMzMxIJAmpmZmZk5kEAAAAAAAPB+QOxRuB6FlYFA7FG4HoWNjkAUrkfhenqNQB+F61G4yZFACtejcD0zlEApXI/C9SyEQK5H4XoUWJ5A7FG4HoUZjkAAAAAAAECRQI/C9ShcM4RAKVyPwvWpkEBcj8L1KH6KQM3MzMzMOpRA4XoUrke9ekAzMzMzM3OVQOF6FK5HhY1AmpmZmZkjkUAfhetROLGhQFyPwvUooI5AAAAAAABok0CkcD0K11OFQJqZmZmZSY1ACtejcD0SkkB7FK5H4TyGQLgehetR7pZAH4XrUbhQiEAAAAAAAMCIQGZmZmZmRo9AKVyPwvUfpEAfhetRuA+fQM3MzMzMtJpAzczMzMzdkEAfhetRuFCSQJqZmZmZEJhAH4XrUbj2eUDhehSuR0WcQNejcD2K/qBAMzMzMzNDlUBI4XoUrh99QD0K16Nwr5FAFK5H4Xq+hkAfhetRuPSLQKRwPQrXmZNAMzMzMzOtlEBmZmZmZgChQEjhehSuMZRAhetRuJ40pEAfhetRuOajQLgehetR6KRA4XoUrke1lkDD9ShcjzucQOF6FK5H7J1ASOF6FK46l0CF61G4Hu6WQK5H4XoUoIZAAAAAAADgoUCkcD0K11KeQGZmZmZmO6ZA4XoUrkcXnECamZmZmRGWQLgehetRrI1AcT0K16OVkkBmZmZmZnaWQEjhehSuBpJAhetRuB7Mm0BmZmZmZj6VQHE9Ctej3IRAj8L1KFwXhEAzMzMzM0GGQI/C9Shc0JRA9ihcj8KelUCuR+F6FPiWQHsUrkfhLoJA16NwPQqtkEDXo3A9CoOSQFyPwvUoCZVAPQrXo3AooUAAAAAAAECUQAAAAAAANJdAZmZmZmbsj0AK16NwPVGeQM3MzMzM7JdAzczMzMzqkEA9CtejcGaUQHE9Ctej8IpAAAAAAADwfkBcj8L1KFagQDMzMzMzk5NA7FG4HoUPk0A9CtejcI2PQIXrUbge3ZRApHA9CteriUB7FK5H4eObQAAAAAAANJFAhetRuB4cnUDsUbgehbmdQM3MzMzMzI9AMzMzMzPHhECkcD0K13uTQBSuR+F6wpZAZmZmZmZOl0BmZmZmZj+bQM3MzMzM2oJA7FG4HoVni0CuR+F6FMyKQOF6FK5H8ZdAhetRuB7Gl0DNzMzMzPyJQHsUrkfhK5hAXI/C9ShvnkAzMzMzM/WSQK5H4XoU+JZAAAAAAABKpUDNzMzMzIyeQM3MzMzMY51AAAAAAADEkkCPwvUoXKqUQArXo3A9JJlAj8L1KFwWnkDhehSuR/GUQNejcD0KmJFAcT0K16Pak0BmZmZmZiaOQGZmZmZmZpRAAAAAAABgjkAzMzMzM1OMQKRwPQrXf4FA4XoUrkdpdUCuR+F6FFyIQArXo3A9EJBAZmZmZmaspUDNzMzMTAWgQEjhehSu5ZBAzczMzMxMlUAzMzMzM/2eQBSuR+F6oZZAAAAAAAB4mECF61G4HsaXQDMzMzMz045AMzMzMzOzkkDNzMzMzJWaQM3MzMzMoqBAuB6F61GQhkAzMzMzM8mQQGZmZmZmQohAMzMzMzOTiUDXo3A9CmOEQM3MzMzMnJZAMzMzMzMzk0DsUbgehb6YQKRwPQrXf4FASOF6FK6BlEBxPQrXoxmWQPYoXI/CLppAMzMzMzNXgUCamZmZmTmLQAAAAAAAII5Aj8L1KFwThUDhehSuR2mQQBSuR+F62ZNAhetRuB5pjEApXI/C9baRQI/C9Sjc/aVAuB6F61GGlEAfhetRuNWaQHsUrkfhfaRAAAAAAADAeEDsUbgehZWaQB+F61G4GZNAAAAAAACwdkAAAAAAAICGQArXo3A9iZRAZmZmZmbyd0BmZmZmZmaRQFyPwvUobJNAzczMzMxMiEDNzMzMzIyRQM3MzMzM9pBAFK5H4Xr0ikDhehSuR3+IQHE9CtejnZlA9ihcj8LBnkAzMzMzM6ShQFK4HoXrAptA7FG4HoXLiEAzMzMzM3OVQB+F61E4saFA16NwPQpjhECamZmZmb6QQAAAAAAAQJRAUrgehevxl0DNzMzMzG+XQJqZmZmZGqNA9ihcj8LhgEAzMzMzM3uHQDMzMzMzXaRAexSuR+Ggh0DsUbgehRCUQNejcD0KpYdAmpmZmZlDlEAK16NwPWWVQFK4HoXrp45AMzMzMzP3lUBxPQrXo/iVQJqZmZmZ+Y1AhetRuB4QpED2KFyPwqmfQJqZmZmZY5tAMzMzMzOzjUDNzMzMzMyMQHE9CtejHpNAmpmZmZlTpkA9CtejcIKYQBSuR+F64ItAj8L1KFwTfEC4HoXrUYWRQDMzMzMz+5tAhetRuB4io0BmZmZmZpCVQGZmZmZm7oVAuB6F61G9kUCamZmZmZWGQI/C9ShcsJ5ASOF6FK6noUDXo3A9iv6gQMP1KFyPIaVASOF6FK6ZjkAAAAAAAOB8QFK4HoXrP4tA4XoUrsc/pkAzMzMzM/OWQDMzMzMzl5RAZmZmZmbyh0BI4XoUrp2BQD0K16NwHJhAAAAAAACghEDNzMzMzMSVQEjhehSuhZRAZmZmZmYCmEDhehSuR5eXQAAAAAAAZZ5ASOF6FK7lkECF61G4HpmJQFyPwvUovZRArkfhehS6jUCamZmZmUGMQNejcD0Kk45AAAAAAABcjEAAAAAAAICWQM3MzMzMepFAAAAAAADilEAfhetRuOWWQKRwPQrX3JNA9ihcj8IEoEDNzMzMzOyNQClcj8L17ohAzczMzMy8kUAAAAAAAFKIQClcj8L1oIlAKVyPwvWSjEBmZmZmZi6DQArXo3A995lA4XoUrkfxl0DD9Shcj9J1QAAAAAAAQHtAUrgehesInEBmZmZmZoiUQJqZmZmZWY9AmpmZmZndj0AzMzMzM0+WQIXrUbge2J1AzczMzMyPpUCuR+F6FFieQDMzMzMzE4RAj8L1KFwCmkCuR+F6FLaMQPYoXI/CgpJAZmZmZmZum0CkcD0K13GKQB+F61G43pVAMzMzMzPHl0BmZmZmZqaTQIXrUbge355AAAAAAADokkApXI/C9VySQK5H4XoU/IBAMzMzMzOkoUDXo3A9Cv+aQGZmZmZmAJBAMzMzMzOjmEAzMzMzMzGVQAAAAAAAuJJAhetRuB5xfkCPwvUoXAKaQDMzMzMzy5dA4XoUrkfdikB7FK5H4SuYQAAAAAAAsJZAhetRuB49nUAzMzMzs5SjQLgehetRqp5AMzMzMzOzjUDXo3A9CtecQJqZmZmZ+YJAmpmZmZlBjECPwvUoXAmOQB+F61G41ZpAZmZmZma8iUAAAAAAAHiYQI/C9Shca4dASOF6FK53iUD2KFyPwlOPQKRwPQrXGYxASOF6FK70lUApXI/C9aWUQArXo3A9bnVAmpmZmZkvkUCPwvUoXKGKQI/C9ShcSphAXI/C9Shsl0CF61G4HjuUQAAAAAAA0HpAmpmZmZlZf0B7FK5H4bWVQJqZmZmZ2ZRAmpmZmZlZlkAfhetRONigQFK4HoXr1KBAj8L1KFypoEBmZmZmZqSUQLgehevR7aBAuB6F61HuhkCamZmZmfmNQPYoXI/C7X9AcT0K16NYjkBI4XoUroOMQHE9CtejRJdAAAAAAABgjkBI4XoUrkORQM3MzMzMbJZA4XoUrkeUkUA9CtejcEmXQOxRuB6FIpJAw/UoXI87nEAK16NwPWWVQMP1KFyP0ppAUrgehespk0CamZmZmXGXQM3MzMzMAphAexSuR+GwmkAK16NwPbqIQK5H4XoUW5JAmpmZmZnZh0BxPQrXo02cQFyPwvUofplAFK5H4Xq4j0AAAAAAAMiWQB+F61G48ZlA4XoUrkfFiECkcD0K18aTQGZmZmZm9pdAexSuR+Hjm0CuR+F6FLiYQDMzMzMzM5BAMzMzMzOzkkAzMzMzM42QQFyPwvUoWpBA7FG4HoXdh0AAAAAAAAiBQArXo3A9Op1AMzMzMzMroEBmZmZmZqaTQClcj8L1b5RAZmZmZmYuk0AzMzMzMxOUQPYoXI/C2plAAAAAAABok0BmZmZmZgaZQGZmZmZmZpdAzczMzEyYpUBI4XoUrv97QFyPwvUoFodA4XoUrkeOmEBmZmZmZoWVQJqZmZmZIZhACtejcD1YlUBcj8L1KHyIQGZmZmZmRnZAuB6F61F4gECF61G4HgGeQKRwPQrXipNAhetRuB7Gl0AAAAAAAACaQPYoXI/Cp5lAAAAAAABAlUDXo3A9CsuLQFyPwvUoKJtAH4XrUbgplkA9CtejcByYQBSuR+F6m5dAMzMzMzOzmEDNzMzMzHyaQGZmZmZmE5VA4XoUrkeonEAAAAAAAGmRQJqZmZmZaZ1AXI/C9SiKmkC4HoXrUceXQJqZmZmZIZhAj8L1KFxFkkCamZmZmTmbQGZmZmZmPJFAXI/C9SgagECuR+F6FLyUQMP1KFyPNZxAuB6F61HogUAzMzMzM5uEQD0K16NwZpRAZmZmZmaikUDsUbgehfqUQLgehetRFZRAXI/C9ShSm0DXo3A9Ct+KQGZmZmZm1pJAMzMzMzPTjkCamZmZmTmLQOxRuB6FypVAexSuR+E5lUCamZmZmRmHQEjhehSuh5NAAAAAAAAEkUBcj8L1KOyXQFK4HoXrYYlAH4XrUbg1kkD2KFyPwh6cQFyPwvUoyoxAZmZmZmbaj0CuR+F6FBmUQGZmZmZmRpZAAAAAAADEl0DXo3A9CsGXQOxRuB6F46FAUrgehesdlUAzMzMzM3GWQOxRuB6FVZpAUrgehesTk0AfhetRuPaJQLgehetRPJFAw/UoXI8clEDNzMzMzISGQFK4HoXrXZhAzczMzMzakkAUrkfheg6VQOxRuB6FW4lAXI/C9Sjum0DXo3A9Co+TQBSuR+F6NIxAZmZmZmamkEAAAAAAANaTQIXrUbgeGYVAMzMzMzPkpED2KFyPwjmNQDMzMzMzyJVACtejcD0dkUA9CtejcCOXQDMzMzMzs5JAZmZmZmbaj0D2KFyPwi+QQMP1KFyPkJFACtejcD33mUCuR+F6FA6VQClcj8L1modAPQrXo3COmEBI4XoUrtSVQEjhehSupZtAAAAAAAAsmkCamZmZmU2WQB+F61G4dJRAuB6F61EijUCPwvUoXGuHQHsUrkfh1J1AMzMzMzPDkkBI4XoUruuNQD0K16NwgphAZmZmZmZ2lkAzMzMzM/OWQM3MzMzMoI5APQrXo3BRl0B7FK5H4SWjQGZmZmZm3JBAj8L1KFx8lUAK16NwPR2RQAAAAAAAgJZAw/UoXI81nEBmZmZmZhadQOxRuB6F1qFAH4XrUbiGj0DXo3A9CjyYQAAAAAAA2JtAAAAAAAAIgUBmZmZmZm6bQD0K16Nwv45AexSuR+F+i0BmZmZmZoaLQJqZmZmZEZZAFK5H4Xq0f0BxPQrXo5KFQD0K16Nw2X9APQrXo3C1mEC4HoXr0U6gQM3MzMzMEo1A16NwPQoxmECamZmZmUuGQHE9CtejnJVArkfhehS6fUCamZmZmYGeQOF6FK5H0ZtAMzMzMzOrjEDXo3A9CsGNQDMzMzMzi5hACtejcD3WikAUrkfhegSVQHE9CtejvptAmpmZmZlXo0BSuB6F6yOkQDMzMzMza5RAzczMzMwQl0DD9ShcjwCOQFyPwvUo6oZAmpmZmZmNlUBmZmZmZqSUQGZmZmZmHZJA9ihcj8LZjkCamZmZmVmTQFK4HoXrlJBAmpmZmZljmEBmZmZmZpaUQDMzMzMzM5hAUrgehespk0AAAAAAAOCMQGZmZmZm5pVAMzMzMzOLmEDNzMzMzIyKQFK4HoXru5JAmpmZmZkhmEC4HoXrUTWVQHE9CtejM55AZmZmZmb2l0DsUbgehd2HQK5H4XoUrI9ACtejcD20kUB7FK5H4X6RQLgehetRcJxAw/UoXI+dkkAAAAAAAICPQGZmZmZm+o5A7FG4HoWFiEDXo3A9Cm2NQAAAAAAAjaNAj8L1KFxDnUCuR+F6FKyPQGZmZmZmpJRACtejcD1tkEBxPQrXoxWiQAAAAAAAqJVAcT0K16PFkEDhehSuRyyQQD0K16Nw95NAZmZmZmbqikDhehSuR7WGQClcj8L1bI5AKVyPwvVfkkD2KFyPwn2HQEjhehSumY5ASOF6FK5xjUCamZmZmQmVQOF6FK5HmYxAH4XrUTi1o0D2KFyPwjGFQOxRuB6FWY5ApHA9CteKk0CamZmZmVmWQJqZmZmZCZVAzczMzMwcnECamZmZmTmeQAAAAAAA4I1AH4XrUbjkkECPwvUoXH9+QIXrUbge65NAw/UoXI+mmkCkcD0K11OVQHE9CtejMaVAAAAAAADMhEAUrkfheryfQFK4HoXrmZ5AAAAAAACwhkBSuB6F6+eXQJqZmZmZM5FAmpmZmZnTiUC4HoXrUfuWQLgehetRypBAw/UoXI9vlECF61G4Hq6XQAAAAAAAQH5AMzMzMzPHhEAK16NwPfqKQOF6FK5HM5tAZmZmZmaXm0C4HoXrUTWVQNejcD2KBqZAzczMzMxkkUCkcD0K1+yZQAAAAAAAHpVAmpmZmZkhmECamZmZmQ6dQMP1KFyP4JZAAAAAAACwlkCuR+F6lFqhQBSuR+F6qoJAH4XrUbj1lEDXo3A9CuOHQDMzMzMzM4hACtejcD0SkkAfhetRuF2TQJqZmZmZG41AMzMzMzO9lkBmZmZmZrCJQJqZmZmZqYRAw/UoXI8KkkA9CtejcJuJQArXo3A98p5AMzMzMzOzkUDsUbgehcuIQI/C9ShcuJBAj8L1KFxZlEDXo3A9CvmTQAAAAAAAgJBAAAAAAAD/kUAUrkfh+g+iQJqZmZmZsZVAmpmZmZm3kkCkcD0K196VQBSuR+F67pJAFK5H4XraiUCamZmZmZmOQDMzMzMz54dAj8L1KNx5pECamZmZmUmdQJqZmZmZ6YBAmpmZmZk5i0AK16NwPbmcQFyPwvUoppJAAAAAAAAOjUCkcD0K1z+DQAAAAAAAwHhACtejcD1gikDsUbgehSKSQMP1KFyPLI9APQrXo3Bhh0CF61G4HgyQQMP1KFyPyohAMzMzMzO7nkAAAAAAAACOQFyPwvUoLpJAPQrXo3AkmkC4HoXrUSeVQM3MzMzMDI9AcT0K16OGg0DNzMzMzCyFQJqZmZmZOYtA9ihcj8Lvk0AAAAAAANiLQJqZmZmZcZZAMzMzMzObhEBmZmZmZpqLQAAAAAAAQI1AmpmZmZl5i0CamZmZmZWLQFK4HoXrFp1AH4XrUbjeh0DXo3A9CjOCQGZmZmZm5p1ACtejcD1udUAzMzMzM1WkQM3MzMzMjJFAZmZmZmYegUCuR+F6FA6IQClcj8L17ohASOF6FK7nl0DhehSuR56RQM3MzMzMxJJAhetRuB56m0CuR+F6FIyBQDMzMzMzg5dACtejcD0dkUCamZmZmWGRQFK4HoXrDpBAZmZmZmbmjkDsUbgehUWeQHsUrkfhCIpAMzMzMzOzkkCamZmZmQGPQJqZmZmZVJlArkfhehTGjkAzMzMzMzOIQB+F61G4rohACtejcD2zkkAAAAAAAEqGQGZmZmZmXolAMzMzMzOjmEDhehSuRxGLQClcj8L1BZBAMzMzMzNFoEApXI/C9fiOQGZmZmZmpolAzczMzMwsh0CPwvUoXAKaQKRwPQrX+ptAj8L1KFy7lUAfhetRuPaJQJqZmZmZEZZAZmZmZmZGhkBcj8L1KCKSQHsUrkfhIodAMzMzMzOBiEC4HoXrUeCOQClcj8L1EpBAAAAAAABcnECkcD0K1zueQB+F61G4NZJAAAAAAAAUikAK16NwPUaNQM3MzMzMHJ5AmpmZmZkxmkAfhetRuA+fQI/C9ShcE4xAMzMzMzPzk0AzMzMzM4OZQAAAAAAA2JtASOF6FK4Vk0CkcD0K1+qRQLgehetRiJNACtejcD1YjUDsUbgehSWVQClcj8L1Cp1AH4XrUbgEhUAAAAAAAK2XQLgehetRI5dAMzMzMzOTjEAzMzMzMzN7QI/C9ShcfJVACtejcL0coEBSuB6F60KVQB+F61G4BJVAcT0K16PwikAAAAAAACyRQGZmZmZm35FAmpmZmZnJm0CamZmZmYuIQKRwPQrX345ApHA9CteDgEBmZmZmZj+bQJqZmZmZVYlAFK5H4XqSikAzMzMzM8ySQNejcD0KcaFAFK5H4XrxkEAAAAAAAMiWQFyPwvUorpNAzczMzMwsh0CkcD0K19+OQK5H4XoUJopAPQrXo3BJl0A9CtejcByYQClcj8L1TJRAAAAAAADpoEAzMzMzM3uGQLgehetRF5hAMzMzMzMZokCPwvUo3AqmQMP1KFyPDI1AmpmZmZlRnkB7FK5H4SGVQLgehetRd5BApHA9CtdxmkD2KFyPwjmNQJqZmZmZIYhACtejcD0SnkAAAAAAACyaQLgehetRrphA4XoUrkefkEBmZmZmZqaTQB+F61G4R5VAhetRuB6rm0Bcj8L1KM6RQEjhehSulZhAFK5H4Xp6oEAUrkfhekyNQD0K16NwP4tA4XoUrkcol0AzMzMzM7+SQGZmZmZmgJVA4XoUrkeZkUAK16NwPQyJQClcj8L1OI5AzczMzMwMgUA9CtejcBGVQDMzMzMzc5VAzczMzMzmmUAUrkfhej2SQOxRuB6FFJZASOF6FK7XgUAzMzMzM+SkQM3MzMzMcpBAhetRuB7qlkDsUbgehRiTQOxRuB6FA4lArkfhehSShkD2KFyPwjeiQM3MzMzM5plAhetRuB5Vh0CPwvUo3PegQKRwPQrX/4RAKVyPwvU4lUDXo3A9Cq2FQIXrUbgeyJVAzczMzMyMhkCamZmZmVuYQAAAAAAAep9AzczMzMxElkBSuB6F6yafQAAAAAAAFZJAZmZmZmbmi0AzMzMzMzeUQBSuR+F6NIxAUrgehevhoEBmZmZmZiaSQDMzMzMzx5dAmpmZmZmdnUBmZmZmZn6dQGZmZmZmvKFAPQrXo3COmED2KFyPwkWdQM3MzMzMbIlAmpmZmZnjkkAzMzMzM/OGQGZmZmZmTpdAzczMzMxkkkCPwvUoXB2VQFyPwvUo5IpAmpmZmZnhfkD2KFyPwm+MQFyPwvUo5JFACtejcD1GjUCamZmZmVWJQEjhehSu3ZRAZmZmZmYmlUA9CtejcKCTQDMzMzMz9YJAZmZmZmZGj0B7FK5H4WOTQNejcD0KAJFAexSuR+FVlUC4HoXrUXCcQD0K16Nwv45ArkfhehTylUBxPQrXo6aOQEjhehSukZJACtejcD0GfEDNzMzMzHKHQJqZmZmZyZtAMzMzMzPhkUB7FK5H4SeUQAAAAAAAYI5AZmZmZmbOmEAzMzMzM0+WQJqZmZmZYZFAAAAAAADonUApXI/C9dSJQDMzMzMzq4xArkfhehRYnkA9CtejcAuXQBSuR+F6Zo5A4XoUrkcHpEAK16NwPWSCQB+F61G44npAw/UoXI+MjkCamZmZmZWLQJqZmZmZ2Z9AXI/C9Sg/lUBmZmZmZraZQAAAAAAAyJZAPQrXo3CNfkAAAAAAAK+bQClcj8L1sphAmpmZmZl5iECamZmZmTmLQPYoXI/C2Y5AMzMzMzNjg0CamZmZmVygQGZmZmZmvZJAj8L1KNyipEAzMzMzM0GGQM3MzMzMb5dAzczMzMwMlkDNzMzMzGCTQClcj8L1mpdA4XoUrkfFmEDNzMzMzEyJQDMzMzMzK6BAzczMzMzakkAK16NwPROgQDMzMzMzMZVAZmZmZmZ2lUDNzMzMzFyQQEjhehSur5ZAMzMzMzPIlUBmZmZmZm6VQEjhehSuPpVA7FG4HoUHjkDNzMzMzDyTQD0K16NwdZBAAAAAAAAclED2KFyPwnCgQJqZmZmZ8ZFAAAAAAAColUCkcD0K1y6SQHE9CtejoJNAMzMzMzNjg0AUrkfhesCQQDMzMzMz841AH4XrUbh0lED2KFyPwgWLQFK4HoXrp45AFK5H4Xrei0BmZmZmZhaQQK5H4XoUZJBAH4XrUbgplkCPwvUoXGuiQGZmZmZmHaVAZmZmZmZ2lkBSuB6F6/STQK5H4XoUuJhAXI/C9SjKmEAzMzMzM2WfQAAAAAAANH1AmpmZmZkxikDhehSuRzOLQAAAAAAA0JpAKVyPwvWyl0B7FK5H4R2UQD0K16Nwz4dAKVyPwvW7kkDXo3A9Cr2XQDMzMzMzXZVACtejcD34ikBmZmZmZj+bQArXo3A9EpJA9ihcj8IVjkCkcD0K17+NQGZmZmZm3ZFAFK5H4XpVk0BxPQrXo4iHQAAAAAAAYI5A16NwPQoBhEDNzMzMzMyOQD0K16Nwo51AcT0K16NIlEBSuB6F64uZQGZmZmZmAphA16NwPQrCkEB7FK5H4eOUQArXo3A9HZFAzczMzMzMfkBcj8L1KAKGQLgehetRXZdA7FG4HoUbl0DsUbgehXOTQI/C9ShcupNAuB6F61Ejl0AAAAAAAASRQI/C9Shca4dAexSuR+E8lkCF61G4HkuGQAAAAAAAiIFAMzMzMzMLkUAK16NwPfSIQHE9CtejAJVAFK5H4frbpECuR+F6FFuSQM3MzMzMtIBAexSuR+E+lEBmZmZmZjyRQOxRuB6F5YlA4XoUrkeilkAAAAAAAOKUQDMzMzMzL6FAhetRuB7DlkApXI/C9ZeWQKRwPQrX345Aw/UoXI9yj0D2KFyPwjyaQPYoXI/CgpJAPQrXo3CQmEDNzMzMzNyVQDMzMzMzgYhAAAAAAABUikCkcD0K1/OMQAAAAAAAwIhAAAAAAACVlUCPwvUoXCWUQOxRuB6Fw4xAuB6F61Ekh0CkcD0K1x2bQM3MzMzMCJdAw/UoXI+0gUA9CtejcAKTQOF6FK5HKpJApHA9CtdfkkCamZmZmRmXQMP1KFyPyIZAPQrXo3ATj0AfhetRuA6cQKRwPQrX+ptAMzMzMzOrnEAzMzMzMzeaQPYoXI/CMpZAKVyPwvU4fkAAAAAAALiXQMP1KFyPyJ5AH4XrUTh0o0AUrkfhelOQQIXrUbgeZJJAMzMzMzObmkDhehSuR3OUQFK4HoXr3ZtAKVyPwvXUiUCPwvUoXKOVQAAAAAAAcZtAzczMzMx6kUDsUbgehbmNQI/C9ShcF4RAUrgehet/jUCamZmZmW2hQAAAAAAAQJ1AAAAAAACAk0D2KFyPwtWTQGZmZmZm751ACtejcD1XnkCPwvUoXFOXQOF6FK5H1ZpA9ihcj8LZjkAzMzMzMyGdQOxRuB6FIpJAMzMzMzPGo0DNzMzMzMyMQBSuR+F6PohAFK5H4Xq0iECkcD0K1yeHQOF6FK5HPYhA16NwPQotn0C4HoXrUZ6BQKRwPQrXNZBAj8L1KFxcnUApXI/C9QqdQNejcD0K4Y1AcT0K16PElUAAAAAAAP+RQAAAAAAAgJZASOF6FK7TmEBcj8L1KGh/QNejcD0Kk45AexSuR2GcoUAzMzMzM/WSQFK4HoXru5JA7FG4HoU/lEAzMzMzM5OMQLgehetRFZRA9ihcj8Ltf0DNzMzMzLaJQHsUrkfhVJRAFK5H4frKoEC4HoXrUfyFQJqZmZmZWY9AexSuR+G3nEA9CtejcI2PQDMzMzMzJ4hAuB6F69EroUDXo3A9CmiWQGZmZmZmAo5AexSuR+EBoUApXI/C9W+UQJqZmZmZOYtAUrgehevFlkA9CtejcMmVQOxRuB6FlYFApHA9CteukkBmZmZmZsaKQI/C9ShciZBAKVyPwvX0hEAzMzMzM3uWQB+F61G4uphAZmZmZmZVmUCF61G4HsaXQNejcD0K0ZNAKVyPwvX4l0DhehSuRweNQMP1KFyPjI5AAAAAAAAAlUBmZmZmZiaOQFK4HoXrxZZArkfhehTajUCamZmZmUeIQOxRuB6F15BAexSuR+GgmkC4HoXrUV6EQEjhehSuYptAmpmZmZnPlUAzMzMzMxuWQAAAAAAA4I1APQrXo3Bhh0DNzMzMzBSNQAAAAAAAwolAexSuR+GEoEBSuB6F64yeQMP1KFyPe55A16NwPQqxkEC4HoXrUTyRQArXo3C9ZqFACtejcD34ikDD9Shcj5ShQJqZmZmZqXtAhetRuB7VmECuR+F6FA6IQKRwPQrXgZNA4XoUrkcdmkCF61G4HqCWQGZmZmZm3ZFASOF6FK5ng0BxPQrXo5CQQOxRuB6FD5NAKVyPwvXYoUAzMzMzM6iiQMP1KFyPGaBAZmZmZmZvnUAAAAAAABSKQKRwPQrXe5NAw/UoXI90g0AAAAAAAGqbQPYoXI/CYJtAj8L1KFw3lEDNzMzMzEyJQEjhehSuk3dA16NwPQqPk0C4HoXrURaWQJqZmZmZqXtAzczMzMzZl0AzMzMzM3OVQI/C9Shc5ZNASOF6FK7UlUBcj8L1KH6KQI/C9ShcOaFAMzMzMzMniEDhehSuR3mPQGZmZmZmtp5AZmZmZmb4m0D2KFyPwvWFQKRwPQrXtZVAZmZmZmaAlUAzMzMzM6KaQJqZmZmZMZpAPQrXo3AUoUBcj8L1KKCXQGZmZmZm6Z5AexSuR+EdlEAzMzMzM2OlQAAAAAAAQJFAFK5H4Xp8kEDsUbgehROVQIXrUbgeZJJA9ihcj8JvjEBmZmZmZkaGQAAAAAAAkpRAzczMzMyWlEAUrkfhegyGQAAAAAAA0JpAmpmZmZlUmUDNzMzMzBKcQBSuR+F6z6FASOF6FK5glUBmZmZmZlKlQOF6FK5H9X9AAAAAAABeoUBcj8L1KE+RQKRwPQrXgYNAmpmZmZnjgkCPwvUoXHyVQOxRuB6FZ4tACtejcD0AjUCamZmZma6aQPYoXI/C2Y5AzczMzMyIi0B7FK5H4cyHQAAAAAAAQJFA7FG4HoUNk0AfhetRuEeVQIXrUbgeUJRAhetRuB4cnUB7FK5H4WqHQJqZmZmZLYhA16NwPQqVikAAAAAAAKCXQGZmZmZmZppAFK5H4XrBkUAAAAAAADSHQAAAAAAA4KFAzczMzMz8iUBmZmZmZsSYQEjhehSum45AAAAAAADwjkBxPQrXo0ecQKRwPQrXU4dAFK5H4XoOlUCuR+F6FKqXQFyPwvUooI5APQrXo3DqkkAzMzMzM5WLQJqZmZmZ+ZhAAAAAAAAskUAUrkfheg6FQD0K16Nwz4dAUrgehesbn0CkcD0K13GaQBSuR+F6R5VA4XoUrkd/jkCF61G4HvyXQOxRuB6FcZFAcT0K16M8n0CkcD0K1wiRQArXo3A9Ro1AexSuR+EOh0BxPQrXo4iHQOF6FK5HKpJAMzMzMzNXgUAzMzMzM/eFQOxRuB6FlYFAUrgehet/jUBmZmZmZl6JQFK4HoXr14dAzczMzMxamUBxPQrXo/COQHE9CtejxoxAAAAAAABAfkDNzMzMzOx3QBSuR+H6OqNAzczMzMxgmEAK16NwPdaKQAAAAAAAEI9AFK5H4Xo+iEBcj8L1KFCEQHE9CtejSplAZmZmZmamiUAzMzMzM2uUQIXrUbgeUJRAexSuR+FdkUAAAAAAANiLQClcj8L1mpdAAAAAAAAUikBmZmZmZnCjQJqZmZmZt5RArkfhehR7kkBmZmZmZoiUQGZmZmZm7I9AMzMzMzNFoEAzMzMzM0WLQClcj8L1wH1AmpmZmZlJl0DXo3A9CkWSQM3MzMzMxJVAuB6F61GgmEBI4XoUrk+JQKRwPQrX/4RAzczMzMxAkkD2KFyPwjGHQDMzMzMz045Aw/UoXI8AjkBmZmZmZsSYQHE9CtejAJhAuB6F61EqikDXo3A9Ci+RQJqZmZmZuYZAcT0K16OYkkBI4XoUroN8QGZmZmZmdJNAMzMzMzPXlEBmZmZmZkaWQFyPwvWojqBAzczMzEyHpUCamZmZmUqZQOF6FK5H9JhAj8L1KFzOnUCF61G4HlaQQJqZmZmZcZZApHA9CtfsmUDsUbgehZWaQGZmZmZmfo1AMzMzMzP1gkAfhetRuGKVQHsUrkfhYJVAH4XrUbiZmEAAAAAAAACSQDMzMzMz+5tA9ihcj8IQkkApXI/C9dSJQIXrUbgePZ1ACtejcD0zm0BmZmZmZiZ9QJqZmZmZWYxAcT0K16P6iEDD9ShcjzGgQHE9CtejkJBAMzMzMzMzkECamZmZmUaXQDMzMzMzW4JA4XoUrkfYlEC4HoXrUeCOQDMzMzMzo5tAPQrXo3Cgk0D2KFyPwv+LQFyPwvUoS5ZAH4XrUbhOjEDhehSuxzehQD0K16Pwh6JAexSuR+GsjUCkcD0K10CcQGZmZmZm2JdAXI/C9SialUDNzMzMzIyLQArXo3A9GaVAmpmZmZmblEBcj8L1KISTQHsUrkfhzJZAAAAAAABFkkBcj8L1KN+SQHsUrkfhzJZAj8L1KFyHgkDNzMzMTMKjQHsUrkfhzZFAmpmZmZkrkUBmZmZmZiCMQHE9Ctejq5FAMzMzMzNBlkCamZmZmdOQQAAAAAAAII5Aj8L1KFyVm0BSuB6F6yqVQI/C9ShcvpRAPQrXo3Dal0C4HoXrUcyMQEjhehSuLZ5AMzMzMzNTkUCPwvUoXKOVQM3MzMzMHJNAcT0K16NEl0BmZmZmZjaUQDMzMzMzV4FACtejcD1XnkDhehSuR42JQEjhehSu2YRAAAAAAABok0BSuB6F6yeYQHsUrkfhmoZAMzMzMzOznUDNzMzMzHyaQHE9CtcjAqBAAAAAAABZkEBmZmZmZqaHQIXrUbgeQYBAMzMzMzOzlEBxPQrXoySWQOxRuB6F5YlAFK5H4XoZl0A9CtejcB+ZQM3MzMzM7JdAAAAAAAAeh0CamZmZmal7QArXo3A9ZZVAmpmZmZnhfkBI4XoUrneTQB+F61G48ntAZmZmZmYdkkBmZmZmZoCGQJqZmZmZWZRACtejcD13oEAzMzMzM6uWQEjhehSuQ5FAFK5H4Xp2iEDD9Shcj5CRQD0K16Nw6pJAhetRuB5vlEAAAAAAAIiBQNejcD0KKpZAAAAAAACek0DNzMzMzHKYQJqZmZmZMZpAmpmZmZlGoUCF61G4HkeBQDMzMzMzM5NAXI/C9Shof0AfhetRuLqIQGZmZmZm5p1A4XoUrkctjUBxPQrXo7+QQEjhehSu5aBAAAAAAACAlkBmZmZmZiaCQHsUrkfhPJZAUrgehevhdUBxPQrXI4igQM3MzMzM3JVAZmZmZmZum0DXo3A9CvuWQDMzMzMzo3tAZmZmZmZOl0D2KFyPwm+MQBSuR+F63otAPQrXo3Clm0D2KFyPwpWPQOxRuB6F15BAuB6F61E4kkDNzMzMzLyBQJqZmZmZi4hAZmZmZmYCmECkcD0K1ySgQFyPwvUoMpxAKVyPwvVukEAfhetRuFCSQPYoXI/C75NA4XoUrkcqkkBmZmZmZlCNQGZmZmZmBo1AzczMzMxMm0BSuB6F682QQGZmZmZmLpZAzczMzMxsgkDhehSuRx2QQIXrUbgeapFAuB6F61HakkB7FK5H4fyfQHE9CtejMJVA16NwPQqUpUDD9Shcj8p/QDMzMzMzq5xAMzMzMzOzfUCamZmZmVmWQM3MzMzMDJFAmpmZmZkao0AAAAAAAOeRQGZmZmZmA5ZAXI/C9Sh8kEDNzMzMzAyQQD0K16NwUJ9AAAAAAADKkUBxPQrXo5yFQAAAAAAAUaFAMzMzMzPkpEDD9Shcj5CRQNejcD0KNJJAXI/C9SigjkBcj8L1KPqRQOxRuB6FhYhAAAAAAABAjkCamZmZmUuVQAAAAAAAdolAmpmZmZmTk0CamZmZmTGaQIXrUbgePZ1AH4XrUbgBnECamZmZmRmUQBSuR+F685xAPQrXo3B6kEDhehSuR1OOQMP1KFyP0nVAj8L1KFyXk0CPwvUoXEWSQMP1KFwP/aBAMzMzMzPnh0C4HoXrUeuVQAAAAAAAPJFAw/UoXI88gkCF61G4HhaSQEjhehSud4lAw/UoXI+ImECkcD0K17SWQGZmZmZmIpVAexSuR+Fjk0DhehSuR26RQNejcD0KRZJApHA9Ctd7k0AK16NwPR2RQD0K16NwJYNACtejcD06kEDNzMzMzGyQQHE9CtejiIdAj8L1KFyHeUDD9Shcj1qHQM3MzMzMXJBAexSuR+Etm0DNzMzMTIakQClcj8L1opVAmpmZmZlBnECamZmZmbmGQOxRuB6FO4NA7FG4HoWNi0AfhetRuNCUQHsUrkfhfpFAMzMzMzNTikBcj8L1KFeYQM3MzMzMCI9AAAAAAABAlEDNzMzMzMqbQBSuR+F6U5BAj8L1KFwRi0Bcj8L1KMiDQDMzMzMzl5RAmpmZmZl1nEDNzMzMzHefQLgehetRPJFA16NwPQqck0AAAAAAAHiaQKRwPQrX/4RAPQrXo3Ajl0DNzMzMzAyPQFyPwvWosKVA9ihcj0KPokCamZmZmZmOQGZmZmZmRoZAmpmZmZkBhED2KFyPwo2ZQArXo3A9BIlAzczMzMzklkD2KFyPwu2cQGZmZmZmHaVAPQrXo3AviUDNzMzMzBehQGZmZmZmkJVAMzMzMzMblkD2KFyPwjGHQB+F61G4IIlAmpmZmZmVlkCuR+F6FKWcQHE9CtejKoJAZmZmZmZWlECkcD0K17+NQMP1KFyPEpVAhetRuB6glkAAAAAAAOCRQNejcD0K/5pACtejcD1YlUDNzMzMzDSVQM3MzMzMqJRAAAAAAADTmEBSuB6F66akQGZmZmZmpolAMzMzMzNrlED2KFyPwmCRQAAAAAAAbpZAexSuR2FZoEC4HoXrUUSDQArXo3A9M5RA4XoUrkeZjED2KFyPwu2cQGZmZmZmRnZAUrgeheuVl0CF61G4HpmJQHsUrkfhAnpAKVyPwvXZokDhehSuR06VQDMzMzMzg5dArkfhehRaikCPwvUo3PegQAAAAAAA4pRAw/UoXI8om0DsUbgehSKSQIXrUbgeS55AXI/C9SgGj0AAAAAAAC2UQGZmZmZmA5ZAFK5H4XoOlUC4HoXrUWWRQHsUrkfhvZtAZmZmZmYuk0AAAAAAgL2gQHE9CtejD5NAzczMzMzclUDNzMzMzPx5QB+F61G4dIRAXI/C9SjAlUCamZmZmZmSQK5H4XoUWJ5AzczMzMz8mUBxPQrXo8yOQOxRuB6FuY1AMzMzMzMZokCuR+F6FAiWQDMzMzMzGaJAZmZmZmZGhkAfhetRuLKLQFK4HoXrSYVApHA9CtfzjEBSuB6F66+GQHsUrkfhsIBArkfhehTyk0DNzMzMzBCHQJqZmZmZmZVAMzMzMzNrhEAzMzMzM/WCQEjhehSu05xAcT0K16O/kEAzMzMzM5OMQAAAAAAAoI9AcT0K16OrkUAAAAAAAC6bQJqZmZmZKXlAj8L1KFxrh0BmZmZmZnacQHsUrkfhVJRA16NwPQoxmECF61G4HluPQMP1KFyPyJNAj8L1KFxRlUBI4XoUrl2UQOxRuB6FQ4dAmpmZmZmBnkAAAAAAALiRQFK4HoXrq4dAmpmZmZlxn0D2KFyPwhCSQKRwPQrXopBAXI/C9SjmnECF61G4HluaQGZmZmZmZnpAhetRuB59iEAzMzMzM4OXQB+F61G4JaVAKVyPwvUihUCamZmZmbmPQLgehetRn5BAUrgehesflkCPwvUoXBOMQDMzMzMzoppA7FG4HoXtjkDD9Shcjz2QQM3MzMzMA59AAAAAAAAhlUDsUbgehaeXQEjhehSui5JAzczMzMxslkBcj8L1KAaPQPYoXI9C/qFAzczMzMzsl0BI4XoUrtd1QFyPwvUoI6ZAuB6F61H4kUC4HoXrUX2TQClcj8L1HodAMzMzMzPDkEAfhetRuKaWQOF6FK5HtZZAAAAAAADIiUBcj8L1KJCBQEjhehSuuJBAH4XrUbg8ikAzMzMzMzeaQClcj8L1qZBA9ihcj8LLkEBmZmZmZkaPQAAAAAAAAJJAAAAAAACAlkC4HoXrUTSMQGZmZmZm1pJAUrgeheunjkCamZmZmeWJQEjhehSuoplAZmZmZmYGjkAAAAAAAEiKQD0K16NwpJlAj8L1KFxniUCamZmZmbeUQGZmZmZmZpRA4XoUrkcEl0AzMzMzM4iXQNejcD0Kk45A7FG4HoWNjkDXo3A9CmqVQOxRuB6FL5xAj8L1KFzKkEAzMzMzMxOIQLgehevRNaVAH4XrUbiuj0AzMzMzM8mCQM3MzMzMDJxAzczMzMzYikDXo3A9CmqVQFK4HoXri5lAuB6F61HgjkBmZmZmZqCKQJqZmZmZK5FAPQrXo3DRg0CuR+F6FPKTQDMzMzMz9ZJAXI/C9SjHlECPwvUo3P2lQClcj8L1k5JA16NwPQqHkEDNzMzMzJKeQClcj8L1/ohAMzMzMzNzlUCamZmZmWGLQGZmZmZmHpdAZmZmZmZ2lkBmZmZmZnaMQJqZmZmZRpdAAAAAAACAkED2KFyPwnCgQHE9CtejMpBA9ihcj8KelUAAAAAAAMCYQNejcD0KYpRAcT0K16PwmUAUrkfhegCNQK5H4XoUuo1APQrXo3D3k0A9CtejcD+LQOF6FK7HP6ZAexSuR+Eyk0DsUbgehQuLQPYoXI/CapRAMzMzMzMzkEAAAAAAAMSSQOxRuB6FIpJAuB6F61HEm0BmZmZmZr5+QClcj8L1SIdACtejcD36ikApXI/C9UiHQJqZmZmZ8YFAmpmZmZm3lEAfhetRuPaJQM3MzMzMjJ5AmpmZmZnvkEDNzMzMzGyWQHsUrkfhRp5ApHA9CtexjED2KFyPwmOCQAAAAAAAaptAmpmZmZk5m0CF61G4HoeKQDMzMzMz85tAhetRuB47lED2KFyPwuOHQHsUrkfhrpJASOF6FK6Pm0DsUbgehb6WQOxRuB6Fg5BAZmZmZmYMl0BmZmZmZiSNQAAAAAAAUJBAmpmZmZmZfEAAAAAAAOCcQHsUrkfhHZRAMzMzMzNDlUBmZmZmZgCJQD0K16NwvJ5AZmZmZmbmkkCamZmZmWGRQFyPwvUojpVAuB6F61GsjUBmZmZmZtqPQFyPwvUooJdAw/UoXI+WokBmZmZmZlaYQM3MzMzMDI9AmpmZmZn5gkBmZmZmZiZ9QDMzMzMzF5pAZmZmZmZIoECkcD0K11ifQD0K16NwGqZAzczMzMzOj0DsUbgehX6RQFK4HoXr1KBAKVyPwvV/m0ApXI/C9Sx7QBSuR+F6AIRAFK5H4Xp8nECPwvUoXJeTQAAAAAAAb6JA9ihcj8LgmUAzMzMzM7ORQPYoXI/CxpBAw/UoXI+QkUDhehSuxz+mQJqZmZmZ+YhAKVyPwvWKk0DXo3A9Ckt/QHsUrkfhNoZAZmZmZmYmjkBxPQrXo/qIQGZmZmbmCKJAXI/C9SgigkDNzMzMzPSYQOF6FK5HxZhAUrgeheuVl0DXo3A9CoySQMP1KFyP8pRA7FG4HoWkokBmZmZmZoKLQAAAAAAAXqFA9ihcj8IYnEAzMzMzM5OJQLgehetRsKBAj8L1KFyXk0Bcj8L1KNWUQDMzMzMzWpFAzczMzMwMnECuR+F6FLaMQKRwPQrXgplApHA9CtcZjED2KFyPwrKTQDMzMzMzUZhAFK5H4XraiUAK16NwPSSZQJqZmZmZmZVAj8L1KFw3lEC4HoXrUfSVQOxRuB6FD5BAexSuR+GwgEDNzMzMzAGiQClcj8L1ToBAj8L1KFzikkCamZmZmTmbQNejcD0Kd5dAAAAAAADwk0DsUbgehQ2TQDMzMzMzCJZAexSuR+Ggh0CF61G4HlaQQM3MzMzMQIJAKVyPwvXuk0AAAAAAADR9QDMzMzMzm4RAzczMzMzclUBI4XoUrt2iQBSuR+F6fJBAmpmZmZmVi0AUrkfhem6UQHE9Ctejv5BA7FG4HoVvf0BmZmZmZlKlQK5H4XoU0ptAUrgeheuPm0AfhetRuHSUQAAAAAAARZNApHA9ClcDpEBcj8L1KGabQLgehetRZZFAKVyPwvWFmEAAAAAAAFmQQD0K16NwB4BA9ihcj8LZjkCuR+F6FFieQOF6FK5Hf45AKVyPwvUjlkDNzMzMzOyHQAAAAAAAgJBAKVyPwvX8lUBI4XoUrj+XQBSuR+F6TI1AMzMzMzNjg0DD9Shcj8ScQOF6FK5H9JhAUrgehethiUDNzMzMzDiIQKRwPQrXJ4VAhetRuB7rk0DNzMzMzOycQJqZmZmZh55Aw/UoXI+mikAAAAAAAICTQK5H4XoUpZxAexSuR+HMlkAzMzMzMzOIQAAAAAAAGZNA7FG4HoWnnkCkcD0K14uXQDMzMzMzKYdAhetRuB7ulkBSuB6F6zGOQHsUrkfhfpFAPQrXo3AapkAK16NwPXKJQB+F61G4ho9Aj8L1KFxLhECamZmZmZWWQD0K16NwQJZAMzMzMzNJlkBmZmZmZuqhQMP1KFyPDI1ArkfhehTyhUDNzMzMzAyRQAAAAAAAGoxAAAAAAABpkUCamZmZmR+NQGZmZmZmzphAZmZmZmbyh0CamZmZmQ+XQFyPwvUobZpACtejcD3AkkDNzMzMzFCGQOF6FK5HeY9A9ihcj8LLkEDXo3A9CjOUQI/C9Shcu5VAj8L1KFxQl0DNzMzMzKSXQK5H4XoUvJRAMzMzMzMTlEDNzMzMzAycQK5H4XoUDohAMzMzMzPThkCPwvUoXBGLQLgehetRzJpAUrgehevflkAzMzMzM0WbQClcj8L1tpFA7FG4HoXRi0DhehSuR2mQQI/C9Shc55VAw/UoXI8MjUCamZmZmTmQQK5H4XqUwqFAmpmZmZmLokAAAAAAAKiVQM3MzMzMu5FAXI/C9ShkdUDD9Shcj8qYQAAAAAAAyJlACtejcD3GjUAUrkfhejSdQI/C9Shc4pJAUrgeheuamEAAAAAAAASRQGZmZmbmkqJA4XoUrke1hkD2KFyPwjeiQBSuR+F6KIlAAAAAAADwlUBcj8L1KBqQQMP1KFyPUolA9ihcj8Izi0DD9Shcj7+RQHE9CtejNpBAAAAAAAAYlUCkcD0K10+dQOxRuB6FEJRAFK5H4Xr+ikA9CtejcOqSQFyPwvUorpNArkfhehQajEC4HoXrUeCOQJqZmZmZ+ZpAzczMzMxlkEBcj8L1KGqhQGZmZmZm2o9AzczMzMyclkAzMzMzM5uUQB+F61G4Qn1AuB6F61HMjEC4HoXrUZ2bQDMzMzMzo5tAw/UoXI9jkkDhehSuR415QIXrUbgeS5FAKVyPwvXuiEBmZmZmZh6BQJqZmZmZYZFAAAAAAACghEB7FK5HYVmgQDMzMzMz85BASOF6FK53iUApXI/C9fmRQGZmZmZm4pxAAAAAAAAbnUCF61G4ni6iQGZmZmZm4aJAPQrXo3CqmUCPwvUoXNCUQOxRuB6FE5VAmpmZmZk4pEDNzMzMzMyMQNejcD0K5ZFAUrgeheu3lkCkcD0K1+qRQGZmZmbmtqBAMzMzMzM/j0BSuB6F6+mlQM3MzMzMTJhAXI/C9Sh7lkCamZmZmbmGQM3MzMzMPJNAXI/C9Sj0jEDXo3A9ComRQK5H4XoUNIJA9ihcj8Ixh0C4HoXrUTuTQGZmZmZmqJpAXI/C9ShIjEAAAAAAACCMQDMzMzMzUaRAFK5H4XoSgUAzMzMzM2uUQK5H4XoUhpBAzczMzMyam0A9CtejcJCYQDMzMzMzc6VAH4XrUbiAmEAfhetRuNSZQAAAAAAAho5AKVyPwvWqkEBmZmZm5r+hQOF6FK5H4aVAPQrXo3DRg0D2KFyPwhCRQKRwPQpXiaFAzczMzMwsh0AK16NwPRCZQGZmZmZmFqBAmpmZmZm3lEBI4XoUrsiXQJqZmZmZLYhAuB6F61HulkAUrkfhehKRQJqZmZmZAY9A16NwPQrDlUB7FK5H4QyWQHsUrkfhRolAMzMzMzOIl0CamZmZmamTQM3MzMzMTJVASOF6FK6hiUApXI/C9baRQAAAAAAAaJNAhetRuB47hEBmZmZmZt+RQAAAAAAAdKBAzczMzMx5l0CamZmZmamEQJqZmZmZQYxA4XoUrkdfkUCPwvUoXKWNQGZmZmZmZpRAZmZmZma+k0B7FK5H4QKKQJqZmZmZYYtAKVyPwvW2kUCPwvUo3PegQIXrUbgeS55AXI/C9ShIjEDNzMzMzAClQGZmZmZm35RAAAAAAAColUCkcD0K19CUQJqZmZmZmY5ApHA9Ctfcl0BI4XoUrouCQAAAAAAAf5JA4XoUrkfWkkAzMzMzM5WRQM3MzMzMHqZA7FG4HoWFiEAfhetRuJ+TQMP1KFyPDnVAXI/C9Sh4dUBI4XoUruKbQJqZmZmZYZFAMzMzMzNdlUD2KFyPwiaYQOF6FK5H26BAzczMzMxQdkDD9Shcj2+UQI/C9ShcCZBAAAAAAAAsjEAzMzMzM56VQJqZmZmZqZNAZmZmZmYWgUC4HoXrUXCcQPYoXI/CxpBAmpmZmZkZh0AzMzMzM1GYQFyPwvWojqBAKVyPwvU4jkAzMzMzM4N3QGZmZmZmgopAexSuR+EaiUBmZmZmZpaEQJqZmZmZmZVAmpmZmZlRjkCPwvUoXImQQGZmZmZmHoFAcT0K16NNnEAK16NwPcyUQFyPwvUoS5ZAhetRuB4RmkAzMzMzM7qgQHsUrkfhoJpASOF6FK4xhEBmZmZmZgaOQOF6FK5Ht45AAAAAAADAkkAAAAAAAAiBQNejcD0KTY9ASOF6FK5im0DNzMzMzMSiQJqZmZmZz5VAAAAAAADYm0CamZmZmQmVQArXo3A9N5hA4XoUrkcnjEDD9Shcj0yOQNejcD0K2Z5AmpmZmZnliUDhehSuR+uEQDMzMzMzC5FA9ihcj8LZjkC4HoXrUbCbQI/C9ShcsYlAKVyPwvVWgkDNzMzMzAyTQD0K16Nwr5FAMzMzMzOzjUAUrkfhevKcQMP1KFyPaJtAmpmZmZnZh0AAAAAAAPaRQAAAAAAAl5dAH4XrUbjxmUBmZmZmZj6VQM3MzMzMtJBA16NwPQrDlEDNzMzMzAx8QD0K16NwjY9AmpmZmZlZj0CkcD0K10yeQK5H4XqUMqFA7FG4HoURlkBI4XoUrneJQKRwPQrXHZtAH4XrUbgElUAfhetRuMCKQHE9Ctej+ohAmpmZmZn5kkBI4XoUrteFQGZmZmZmdpxA16NwPQq8kECkcD0K10OZQGZmZmZm1plAMzMzMzOzjUAK16NwvWeiQGZmZmZmXolA7FG4HoXDjEApXI/C9XiQQGZmZmZmNpRAj8L1KFxRlUBxPQrXowGfQI/C9Shc2Y9APQrXo3CQmEBSuB6F69meQDMzMzMzk5NAhetRuB7fnkAAAAAAAECNQM3MzMzMepFAmpmZmZlJl0BxPQrXo0ecQFK4HoXrH5ZAKVyPwvX4jkDD9Shcj1+WQFyPwvUoDKRAKVyPwvXalECPwvUoXKWNQM3MzMzMHH5A16NwPQrelEAAAAAAAHaGQM3MzMzMdItA7FG4HoVvj0CPwvUoXEeRQFyPwvUofopAZmZmZmbdkUDhehSuR82BQKRwPQrXK6NAmpmZmZnjgkBmZmZmZlKlQM3MzMzMAH5A7FG4HoVZjkDNzMzMzIx7QEjhehSug3xAKVyPwvWAl0D2KFyPwsaQQIXrUbies6BApHA9CtdqkkCkcD0K1298QD0K16NwYYdAAAAAAABQmUDXo3A9CrGQQHsUrkfhAopApHA9CteYnkC4HoXrUb+XQDMzMzMzTZNAhetRuB5VjkAAAAAAAJCSQHE9CtejKoJAmpmZmZlBjEAzMzMzM5uKQArXo3A9BJlAZmZmZmZQjUCamZmZmUmNQDMzMzMznpVAw/UoXI/bkUCamZmZmfqYQJqZmZmZDp1ASOF6FK7nl0BSuB6F69+WQIXrUbgeBZVAuB6F61GumEAzMzMzM6OQQLgehetRFpZASOF6FK41nEBmZmZmZt+RQFK4HoXrKZNAmpmZmZkOnUAUrkfhet6LQHsUrkfh/J9AzczMzMwcnkB7FK5H4aaMQIXrUbgexJtAPQrXo3DfhkDD9ShcjweRQEjhehQuNKJAw/UoXI9ijEAAAAAAAKCHQM3MzMzMvIFACtejcD1Gi0CamZmZmVmTQM3MzMzMvJ1ArkfhehQJpUB7FK5H4QSBQFyPwvUooJdAw/UoXI/XkEAzMzMzMxuWQJqZmZkZwaJAKVyPwvU4lUApXI/C9YCXQGZmZmZm9I1Aj8L1KFw5n0DsUbgehZWRQJqZmZmZT5lAj8L1KFzikkBcj8L1KGqhQDMzMzMzU4pAexSuR+FOlUDD9Shcj22YQClcj8L1Cp1AAAAAAABAlEDXo3A9CmOgQMP1KFyPvIBA9ihcj8JjgkDNzMzMzNyVQGZmZmZmP5tAexSuR2FIo0AUrkfheuCLQAAAAAAAZpNAXI/C9SjIg0AzMzMzM6iiQNejcD2KnKVArkfhehTSm0DsUbgehUudQM3MzMzMLaBAzczMzMwIj0AzMzMzM1eIQGZmZmZmzphArkfhehS8lEDsUbgehROMQMP1KFyP4JlAKVyPwvVOgEAUrkfhej+TQMP1KFyPaJtAXI/C9SjHlECPwvUoXBaeQM3MzMzM5IZAexSuR+EQk0BxPQrXo6yVQNejcD0Kr45AzczMzMz0mEAAAAAAgMiiQOF6FK5HjYlA16NwPYruo0DNzMzMzPCCQAAAAAAA8JVAexSuR+FdkUDXo3A9CpiRQD0K16NwRJdAZmZmZmZ7lUCamZmZmUGcQAAAAAAAf5BAKVyPwvUilUDD9Shcjy6HQGZmZmZmVohAhetRuB7Gl0DD9Shcj42bQPYoXI/CYJpAZmZmZmaIlEBmZmZmZtKHQMP1KFyPuIxAAAAAAABAlEB7FK5H4QyWQDMzMzMz85ZAMzMzMzODd0BmZmZmZiyRQHsUrkfhzpZAAAAAAADWg0BmZmZmZqiaQClcj8L1bpBA7FG4HoXgnUDNzMzMzBSNQI/C9Shcl5NAzczMzMwQl0BSuB6Fa3elQM3MzMzMzJBA4XoUrkcHjUCamZmZmUeaQMP1KFyP0opAMzMzMzPXlEAfhetRuNycQOxRuB6Fxp1AH4XrUbgFmEBmZmZmZj6VQBSuR+F6R5VAAAAAAAAmjECamZmZmSeRQNejcD0KjJJAXI/C9ShQhEDNzMzMzMyTQAAAAAAA1IlAmpmZmZlBnEAAAAAAAEiSQJqZmZmZh55AexSuR+F/nkDD9ShcjyyXQDMzMzMzY55AZmZmZuYfoECamZmZmTmLQDMzMzOzy6RAAAAAAACOlEBmZmZmZiSRQOxRuB6F15BAw/UoXI8glkAUrkfh+jCgQI/C9Shc4pJAAAAAAAAAi0AfhetRuE2aQNejcD0KpYNAPQrXo3DvlkCamZmZmamLQFyPwvUoJpNA16NwPQp9jECamZmZmZmcQKRwPQrX8plAH4XrUbgxlUBmZmZmZi6DQHE9CtejR5xAKVyPwvVukECF61G4HuuTQJqZmZmZRpdAzczMzMyulECamZmZmYWXQK5H4XoUzIpAzczMzMxYnkAAAAAAAPCVQGZmZmZmopFAhetRuB6fiUBmZmZmZnacQKRwPQrX345AAAAAAABpkUApXI/C9W6QQOxRuB6FlZpAZmZmZmZ+jUApXI/C9dmiQNejcD0KQ4FAPQrXo3BEl0BmZmZmZiaSQDMzMzMzA5JAj8L1KFwjikBxPQrXo6aOQClcj8L1uopA9ihcj8KdikB7FK5H4WOTQGZmZmZmLoNAZmZmZmZCiEDXo3A9Cs2fQIXrUbgemYdASOF6FK7UlUBI4XoUrjuUQClcj8L1spdAPQrXo3BakECPwvUoXEqUQB+F61G4DpxA4XoUrkfgkkCkcD0K12aUQHsUrkfhq6JAzczMzMz0mEAAAAAAACCOQArXo3A9n5xAMzMzMzO6oEBmZmZmZsCCQDMzMzMzcZZAXI/C9SjAlUBmZmZmZnaGQAAAAAAAqIVAexSuR+ErmEDXo3A9CkWCQM3MzMzMNaJACtejcD1YlUBI4XoUrouCQBSuR+F6PZJArkfhehSql0CkcD0K14GTQDMzMzMzs41ArkfhehSpm0AAAAAAAECUQOxRuB6F7YBAw/UoXI/ylEBmZmZmZjiRQAAAAAAAKp5AXI/C9SgboUApXI/C9dSJQNejcD0Ks4pAMzMzMzOIl0DsUbgehe2AQKRwPQrX24FA4XoUrkfZfEDNzMzMzKiUQBSuR+F6GZdAj8L1KFxymkDNzMzMzBSUQAAAAAAAuJFASOF6FC5LokDNzMzMzEyOQFK4HoXrjJ5AFK5H4XoclUCkcD0K11OHQM3MzMzM/JlAUrgehevUoEA9CtejcDmHQBSuR+F625lA4XoUrkcLg0BI4XoUrmGEQM3MzMzMvJFA16NwPQrfikCkcD0K10+dQAAAAAAAII5ASOF6FK7hh0AzMzMzM/OPQDMzMzMz045Aj8L1KFwDikB7FK5H4cyWQEjhehSuBJNAAAAAAADIiUBmZmZmZm6bQJqZmZmZyZtAZmZmZmYGjUBmZmZmZk6HQMP1KFwPEKBA9ihcj8JwoEC4HoXrUWSJQKRwPQrXA5JAZmZmZmYWkECamZmZmUuVQOxRuB6F0YtAzczMzMz0mEAK16NwPQCNQFK4HoXrXZhAmpmZmZlpnUCkcD0K18aTQBSuR+F6x5RAzczMzMw8k0CamZmZmZmOQJqZmZmZeYhAmpmZmZlxlkDNzMzMzGySQGZmZmZmho5AKVyPwvVOgEBSuB6F6z2JQJqZmZmZOYtAzczMzMwGnEAK16NwPeWgQI/C9ShcoYpAZmZmZmZulUApXI/C9Sx7QOF6FK5H7J1AZmZmZmZ2kUAzMzMzM02TQJqZmZmZSZJAzczMzMz8k0CkcD0K13uTQM3MzMzMWIpASOF6FC5KoUAK16NwPdWTQFyPwvUofIBAMzMzMzMZkkDNzMzMzD6gQBSuR+F64ItA16NwPQrXnEB7FK5H4TyGQI/C9ShcPZBAPQrXo3DqkkBmZmZmZmKUQHE9CtejSJRAmpmZmZn5jUCamZmZmSuRQHsUrkfhAZdA16NwPQrhjUDD9ShcjyyXQOxRuB6Fx4lAKVyPwvWpkEDNzMzMzOaZQGZmZmZmAphACtejcL1ppEDNzMzMzKyZQBSuR+F6LpZAAAAAAADvmEAzMzMzM6ObQJqZmZmZW5hAj8L1KFw3lECuR+F6FMaOQMP1KFyPpppAMzMzMzPDkEB7FK5H4R2UQLgehetRypBAAAAAAAC7mkA9CtejcKeVQHE9CtejAJVAzczMzMwMgUAAAAAAAHiYQOxRuB6FfpFAZmZmZmaCi0AAAAAAACCOQJqZmZmZRqFAAAAAAADwjkDNzMzMzMSSQFyPwvUojodA7FG4HoV0k0DNzMzMzHqRQDMzMzMza5RAPQrXo3AvlUC4HoXrUeyLQM3MzMzMzJNAZmZmZmaMnEDNzMzMzFiVQJqZmZmZ+JVAAAAAAAAbnUDsUbgehd2HQMP1KFyPd5VAMzMzMzOelUC4HoXrUZSSQDMzMzMzk4lAw/UoXI8ZoEAzMzMzM8OPQM3MzMzMhJxA7FG4HoXNhUAfhetRuCmWQM3MzMzMpJRAhetRuB7ViEAK16NwPcmSQNejcD0KqZVAcT0K16NulUAAAAAAAOCJQGZmZmbmd6FAZmZmZmYWoEAUrkfhemiIQM3MzMzMTI5AexSuR+F9pEAK16NwPUiVQJqZmZmZIZhA16NwPQoAkUA9CtejcOqSQClcj8L1Yp9AUrgehevhoEAAAAAAAHyLQHsUrkfhzItAzczMzMxsiUA9CtejcB+ZQK5H4XoU0ptAPQrXo3DRg0DNzMzMzFieQEjhehSuXZRAcT0K16PMjkAfhetRuMCKQJqZmZmZGYdAZmZmZmZ+jUD2KFyPQv6hQClcj8L12KFAFK5H4Xr+ikBmZmZmZmaKQAAAAAAABJFAZmZmZmZeiUC4HoXrUYKGQLgehetRcJBAAAAAAAAAjkCamZmZmUOUQGZmZmZmdpZAAAAAAAAciEBcj8L1KNaWQFyPwvUo6oZAPQrXo3DphkBmZmZmZh6BQGZmZmZmXopA9ihcj8JNekAzMzMzM1ORQJqZmZmZt5RAzczMzMy8nUDNzMzMzMyTQMP1KFyPpopApHA9Ctc7nkDD9Shcj1KJQAAAAAAAVJVAuB6F61HulkCamZmZmZmOQClcj8L1spdAXI/C9Shak0CuR+F6lGyjQDMzMzMzs5JAMzMzMzMNpUDNzMzMzNqSQM3MzMzMHJxAuB6F61Hxl0ApXI/C9RWRQM3MzMzMHJ5AcT0K16MgjEBmZmZmZrqMQIXrUbgeO4RAXI/C9SigjkBI4XoUrgaSQPYoXI/CoYFA9ihcj8JgkUAAAAAAAOCeQAAAAAAAfp9ApHA9CtdtkUApXI/C9TiVQArXo3A9dZJAMzMzMzNFi0D2KFyPwneVQDMzMzMzm4pAFK5H4XoDn0AUrkfhesKQQKRwPQrXbZFAMzMzMzPLl0CuR+F6lDKhQBSuR+H626RAUrgehethiUBxPQrXo4CZQAAAAAAAQJFAH4XrUbgykUC4HoXrURWUQAAAAAAAYI5AMzMzMzMzn0DD9ShcjwqSQD0K16NwyZVAmpmZmZmMn0CkcD0K17t/QJqZmZmZ3ZNAcT0K16MxpUCamZmZmamTQHsUrkfhrJ1AAAAAAAAqnkBmZmZmZjuTQJqZmZmZL5FAH4XrUbg2h0CamZmZmcODQLgehetRcJBAuB6F61ESkUCamZmZmZmOQJqZmZmZO4dAH4XrUbgAlECamZmZmbKWQPYoXI/CfYdASOF6FK7TmEAAAAAAAFCQQClcj8L15ItAuB6F61Gdm0AzMzMzM7ONQGZmZmZmdaFAuB6F61FElEDNzMzMzMOYQEjhehSuIJRAMzMzMzMWlkB7FK5H4cyHQAAAAAAAkJJAj8L1KFyljUAK16NwPVeRQM3MzMzMrpNAZmZmZmZWlkDD9ShcjzyCQI/C9ShcHZVAAAAAAAAYlUBmZmZmZoqVQPYoXI/CapRAw/UoXI+UoUAUrkfheg6KQGZmZmZm5o9AzczMzMw8k0AzMzMzM2ODQM3MzMzMfJRArkfhehTMikDsUbgehRSXQOxRuB6Fw4xAH4XrUbhHlUAzMzMzM/OQQDMzMzMz9YJAKVyPwvXshUAUrkfherSIQOF6FK5HtXZAexSuR+GukkBI4XoUrhCdQJqZmZmZC5JA4XoUrkdJkkDNzMzMzJqUQDMzMzMzi5NAPQrXo3CTnkD2KFyPwiaYQArXo3A9Op1Aj8L1KFxQl0BxPQrXo0iUQKRwPQrXJ4VAuB6F61GsjUDNzMzMzI6KQFyPwvUoI6ZAzczMzMwQh0C4HoXrUcieQLgehetRyJ5AmpmZmZlKmUBmZmZmZkaWQM3MzMzMZJJAMzMzMzNPgUCPwvUoXAKTQFK4HoXrzYZAexSuR+GgmkCuR+F6FICZQAAAAAAA8J5AmpmZmZl5jUDD9Shcj5CRQArXo3A9U5VAFK5H4XoOlUDD9Shcjw6EQClcj8L17ohASOF6FK5EnkBmZmZmZjyPQLgehetRn5BAuB6F61HgkEAfhetRuDaHQGZmZmZmhoNAmpmZmZmZjkBmZmZmZpGRQD0K16Nwr4xAzczMzMxhl0AAAAAAAEWTQArXo3A9bohA4XoUrkfDhkAK16NwPQZ8QIXrUbgeEYpAZmZmZmYOkkAK16NwPWqcQAAAAAAALJpAKVyPwvUwl0AzMzMzMwuRQPYoXI/CYJpAmpmZmZnRoECkcD0K12eEQAAAAAAAaJNAZmZmZmbckEDNzMzMzMqbQM3MzMzM1IRAPQrXo3CjnUAfhetRuOWWQAAAAAAAgIZAH4XrUbhSiUCuR+F6FNKbQNejcD0KiZFAZmZmZmYWoEApXI/C9VaCQDMzMzMz15RAUrgehesLgUAzMzMzM0OVQM3MzMzMLI5AexSuR+GEoEApXI/C9SyLQNejcD0Kj5NAmpmZmZnpmEAK16NwPaaGQFK4HoXrQJNAmpmZmZnZh0BmZmZmZsqWQM3MzMzMu5FApHA9Ctcnh0CamZmZmTSTQKRwPQrXTZJAAAAAAAAsmkAzMzMzM6ObQJqZmZmZEZNA9ihcj8Ltf0AAAAAAANmYQGZmZmZmw6FASOF6FK7dokDNzMzMzAClQGZmZmZm5o1AAAAAAADMlEBmZmZmZuaOQNejcD0KAJFAhetRuB7ilECuR+F6FHKSQGZmZmZm/INAFK5H4XoOlUBxPQrXo4iHQHE9CtejdpBAMzMzMzPDkEDNzMzMzNyFQAAAAAAANJdACtejcD1qnECamZmZGbihQDMzMzMzuqBAMzMzMzO7nkAzMzMzM+ibQArXo3A9+opAhetRuB7Em0D2KFyPwtWNQFK4HoXrQpVA9ihcj8LQk0CkcD0K16KQQI/C9Shcf35AcT0K16MekkCamZmZma18QDMzMzMzupNApHA9CtcbhkB7FK5H4SGVQMP1KFyPpIxAUrgehesnmEAfhetRuGyRQPYoXI/CgJ5APQrXo3CqmUBI4XoUrhWTQJqZmZmZwZRAKVyPwvWtnEBcj8L1KOSRQDMzMzMzj4tAAAAAAABpkUAK16NwPdWTQM3MzMzMhIZASOF6FK4/l0BmZmZmZiaSQJqZmZmZOZtAMzMzMzOTk0B7FK5H4eCBQDMzMzMz85BA7FG4HgUtokBcj8L1qI6gQJqZmZmZCZ9A16NwPQptjUAK16NwPQyUQAAAAAAADo1AZmZmZmZ1oUAzMzMzMzOWQGZmZmZmroRAzczMzMxCn0DhehSuR3+IQI/C9Sjc/aVAzczMzMxslkBmZmZmZj6VQDMzMzMze5ZAH4XrUbjeh0AfhetRuLqYQDMzMzMz841AZmZmZmZmlEAK16NwPbmYQGZmZmZmloRAZmZmZmZ2lkAUrkfhei6WQOxRuB6FS3ZAmpmZmZnCk0Bcj8L1KOyXQDMzMzMzM5BAAAAAAABKhkC4HoXrUcKOQKRwPQrXrpJAcT0K16NYjkB7FK5H4fyfQHsUrkfh+plAexSuR+EMlkB7FK5H4bCAQM3MzMzM2pJA9ihcj8InnkBxPQrXoyGgQI/C9ShcN5RA9ihcj8Ltf0DhehSuR3+OQAAAAAAAQJRAAAAAAACNo0CPwvUoXKWNQHE9CtcjiKBAmpmZmZn2n0CamZmZmSGYQGZmZmZmPpVAexSuR+GwgEBSuB6F6/qUQM3MzMzM/HlAMzMzMzO/hEDNzMzMzOx3QJqZmZmZ8YFAAAAAAAD2kUDsUbgehXmSQIXrUbgeGp9AMzMzMzMblkBcj8L1KFCEQGZmZmZml5tAexSuR+Gtl0CuR+F6FKqHQFK4HoXrMX5AAAAAAADEkkDXo3A9CoySQDMzMzMzg5dA9ihcj8LBh0BxPQrXo0ecQAAAAAAANJFASOF6FK47lEBmZmZmZqiaQM3MzMzMTIlAuB6F61EijUBI4XoUrteBQJqZmZmZMYpA7FG4HoUUl0DsUbgehf+OQFyPwvUo7JdAFK5H4fowoECamZmZmbKWQAAAAAAAAItAmpmZmZkhmEBmZmZmZj6VQB+F61G4BIVAmpmZmZkwokCPwvUoXPmVQFyPwvUo1o9AXI/C9Sh8kEDsUbgeBTGhQDMzMzMzL6FAmpmZmZkrnEApXI/C9SyLQFyPwvUowJVAzczMzMzsjUAUrkfherKXQD0K16NwE49Aj8L1KFwXhEDD9Shcj6aaQDMzMzMzY5NAj8L1KFyhikApXI/C9dmiQKRwPQrXfZFAexSuR+GCiEA9CtejcDiVQK5H4XoUAZRAH4XrUbjVmkBmZmZmZhagQM3MzMzM2JpAFK5H4XoAjUAzMzMzMzGVQM3MzMzMrpNAmpmZmZm5hkCamZmZmVmUQClcj8L1ipNAFK5H4Xr0ikDXo3A9ivmlQNejcD0KRZJAZmZmZmbmkkB7FK5H4a2XQIXrUbgea4hAmpmZmZmqkUBmZmZmZmaKQDMzMzMzG5ZAKVyPwvXsjkB7FK5H4cyHQHE9CtcjiaNAexSuR+HMh0D2KFyPQv6hQA==",
          "dtype": "f8"
         },
         "yaxis": "y"
        }
       ],
       "layout": {
        "legend": {
         "title": {
          "text": "Gender"
         },
         "tracegroupgap": 0
        },
        "template": {
         "data": {
          "bar": [
           {
            "error_x": {
             "color": "#2a3f5f"
            },
            "error_y": {
             "color": "#2a3f5f"
            },
            "marker": {
             "line": {
              "color": "white",
              "width": 0.5
             },
             "pattern": {
              "fillmode": "overlay",
              "size": 10,
              "solidity": 0.2
             }
            },
            "type": "bar"
           }
          ],
          "barpolar": [
           {
            "marker": {
             "line": {
              "color": "white",
              "width": 0.5
             },
             "pattern": {
              "fillmode": "overlay",
              "size": 10,
              "solidity": 0.2
             }
            },
            "type": "barpolar"
           }
          ],
          "carpet": [
           {
            "aaxis": {
             "endlinecolor": "#2a3f5f",
             "gridcolor": "#C8D4E3",
             "linecolor": "#C8D4E3",
             "minorgridcolor": "#C8D4E3",
             "startlinecolor": "#2a3f5f"
            },
            "baxis": {
             "endlinecolor": "#2a3f5f",
             "gridcolor": "#C8D4E3",
             "linecolor": "#C8D4E3",
             "minorgridcolor": "#C8D4E3",
             "startlinecolor": "#2a3f5f"
            },
            "type": "carpet"
           }
          ],
          "choropleth": [
           {
            "colorbar": {
             "outlinewidth": 0,
             "ticks": ""
            },
            "type": "choropleth"
           }
          ],
          "contour": [
           {
            "colorbar": {
             "outlinewidth": 0,
             "ticks": ""
            },
            "colorscale": [
             [
              0,
              "#0d0887"
             ],
             [
              0.1111111111111111,
              "#46039f"
             ],
             [
              0.2222222222222222,
              "#7201a8"
             ],
             [
              0.3333333333333333,
              "#9c179e"
             ],
             [
              0.4444444444444444,
              "#bd3786"
             ],
             [
              0.5555555555555556,
              "#d8576b"
             ],
             [
              0.6666666666666666,
              "#ed7953"
             ],
             [
              0.7777777777777778,
              "#fb9f3a"
             ],
             [
              0.8888888888888888,
              "#fdca26"
             ],
             [
              1,
              "#f0f921"
             ]
            ],
            "type": "contour"
           }
          ],
          "contourcarpet": [
           {
            "colorbar": {
             "outlinewidth": 0,
             "ticks": ""
            },
            "type": "contourcarpet"
           }
          ],
          "heatmap": [
           {
            "colorbar": {
             "outlinewidth": 0,
             "ticks": ""
            },
            "colorscale": [
             [
              0,
              "#0d0887"
             ],
             [
              0.1111111111111111,
              "#46039f"
             ],
             [
              0.2222222222222222,
              "#7201a8"
             ],
             [
              0.3333333333333333,
              "#9c179e"
             ],
             [
              0.4444444444444444,
              "#bd3786"
             ],
             [
              0.5555555555555556,
              "#d8576b"
             ],
             [
              0.6666666666666666,
              "#ed7953"
             ],
             [
              0.7777777777777778,
              "#fb9f3a"
             ],
             [
              0.8888888888888888,
              "#fdca26"
             ],
             [
              1,
              "#f0f921"
             ]
            ],
            "type": "heatmap"
           }
          ],
          "histogram": [
           {
            "marker": {
             "pattern": {
              "fillmode": "overlay",
              "size": 10,
              "solidity": 0.2
             }
            },
            "type": "histogram"
           }
          ],
          "histogram2d": [
           {
            "colorbar": {
             "outlinewidth": 0,
             "ticks": ""
            },
            "colorscale": [
             [
              0,
              "#0d0887"
             ],
             [
              0.1111111111111111,
              "#46039f"
             ],
             [
              0.2222222222222222,
              "#7201a8"
             ],
             [
              0.3333333333333333,
              "#9c179e"
             ],
             [
              0.4444444444444444,
              "#bd3786"
             ],
             [
              0.5555555555555556,
              "#d8576b"
             ],
             [
              0.6666666666666666,
              "#ed7953"
             ],
             [
              0.7777777777777778,
              "#fb9f3a"
             ],
             [
              0.8888888888888888,
              "#fdca26"
             ],
             [
              1,
              "#f0f921"
             ]
            ],
            "type": "histogram2d"
           }
          ],
          "histogram2dcontour": [
           {
            "colorbar": {
             "outlinewidth": 0,
             "ticks": ""
            },
            "colorscale": [
             [
              0,
              "#0d0887"
             ],
             [
              0.1111111111111111,
              "#46039f"
             ],
             [
              0.2222222222222222,
              "#7201a8"
             ],
             [
              0.3333333333333333,
              "#9c179e"
             ],
             [
              0.4444444444444444,
              "#bd3786"
             ],
             [
              0.5555555555555556,
              "#d8576b"
             ],
             [
              0.6666666666666666,
              "#ed7953"
             ],
             [
              0.7777777777777778,
              "#fb9f3a"
             ],
             [
              0.8888888888888888,
              "#fdca26"
             ],
             [
              1,
              "#f0f921"
             ]
            ],
            "type": "histogram2dcontour"
           }
          ],
          "mesh3d": [
           {
            "colorbar": {
             "outlinewidth": 0,
             "ticks": ""
            },
            "type": "mesh3d"
           }
          ],
          "parcoords": [
           {
            "line": {
             "colorbar": {
              "outlinewidth": 0,
              "ticks": ""
             }
            },
            "type": "parcoords"
           }
          ],
          "pie": [
           {
            "automargin": true,
            "type": "pie"
           }
          ],
          "scatter": [
           {
            "fillpattern": {
             "fillmode": "overlay",
             "size": 10,
             "solidity": 0.2
            },
            "type": "scatter"
           }
          ],
          "scatter3d": [
           {
            "line": {
             "colorbar": {
              "outlinewidth": 0,
              "ticks": ""
             }
            },
            "marker": {
             "colorbar": {
              "outlinewidth": 0,
              "ticks": ""
             }
            },
            "type": "scatter3d"
           }
          ],
          "scattercarpet": [
           {
            "marker": {
             "colorbar": {
              "outlinewidth": 0,
              "ticks": ""
             }
            },
            "type": "scattercarpet"
           }
          ],
          "scattergeo": [
           {
            "marker": {
             "colorbar": {
              "outlinewidth": 0,
              "ticks": ""
             }
            },
            "type": "scattergeo"
           }
          ],
          "scattergl": [
           {
            "marker": {
             "colorbar": {
              "outlinewidth": 0,
              "ticks": ""
             }
            },
            "type": "scattergl"
           }
          ],
          "scattermap": [
           {
            "marker": {
             "colorbar": {
              "outlinewidth": 0,
              "ticks": ""
             }
            },
            "type": "scattermap"
           }
          ],
          "scattermapbox": [
           {
            "marker": {
             "colorbar": {
              "outlinewidth": 0,
              "ticks": ""
             }
            },
            "type": "scattermapbox"
           }
          ],
          "scatterpolar": [
           {
            "marker": {
             "colorbar": {
              "outlinewidth": 0,
              "ticks": ""
             }
            },
            "type": "scatterpolar"
           }
          ],
          "scatterpolargl": [
           {
            "marker": {
             "colorbar": {
              "outlinewidth": 0,
              "ticks": ""
             }
            },
            "type": "scatterpolargl"
           }
          ],
          "scatterternary": [
           {
            "marker": {
             "colorbar": {
              "outlinewidth": 0,
              "ticks": ""
             }
            },
            "type": "scatterternary"
           }
          ],
          "surface": [
           {
            "colorbar": {
             "outlinewidth": 0,
             "ticks": ""
            },
            "colorscale": [
             [
              0,
              "#0d0887"
             ],
             [
              0.1111111111111111,
              "#46039f"
             ],
             [
              0.2222222222222222,
              "#7201a8"
             ],
             [
              0.3333333333333333,
              "#9c179e"
             ],
             [
              0.4444444444444444,
              "#bd3786"
             ],
             [
              0.5555555555555556,
              "#d8576b"
             ],
             [
              0.6666666666666666,
              "#ed7953"
             ],
             [
              0.7777777777777778,
              "#fb9f3a"
             ],
             [
              0.8888888888888888,
              "#fdca26"
             ],
             [
              1,
              "#f0f921"
             ]
            ],
            "type": "surface"
           }
          ],
          "table": [
           {
            "cells": {
             "fill": {
              "color": "#EBF0F8"
             },
             "line": {
              "color": "white"
             }
            },
            "header": {
             "fill": {
              "color": "#C8D4E3"
             },
             "line": {
              "color": "white"
             }
            },
            "type": "table"
           }
          ]
         },
         "layout": {
          "annotationdefaults": {
           "arrowcolor": "#2a3f5f",
           "arrowhead": 0,
           "arrowwidth": 1
          },
          "autotypenumbers": "strict",
          "coloraxis": {
           "colorbar": {
            "outlinewidth": 0,
            "ticks": ""
           }
          },
          "colorscale": {
           "diverging": [
            [
             0,
             "#8e0152"
            ],
            [
             0.1,
             "#c51b7d"
            ],
            [
             0.2,
             "#de77ae"
            ],
            [
             0.3,
             "#f1b6da"
            ],
            [
             0.4,
             "#fde0ef"
            ],
            [
             0.5,
             "#f7f7f7"
            ],
            [
             0.6,
             "#e6f5d0"
            ],
            [
             0.7,
             "#b8e186"
            ],
            [
             0.8,
             "#7fbc41"
            ],
            [
             0.9,
             "#4d9221"
            ],
            [
             1,
             "#276419"
            ]
           ],
           "sequential": [
            [
             0,
             "#0d0887"
            ],
            [
             0.1111111111111111,
             "#46039f"
            ],
            [
             0.2222222222222222,
             "#7201a8"
            ],
            [
             0.3333333333333333,
             "#9c179e"
            ],
            [
             0.4444444444444444,
             "#bd3786"
            ],
            [
             0.5555555555555556,
             "#d8576b"
            ],
            [
             0.6666666666666666,
             "#ed7953"
            ],
            [
             0.7777777777777778,
             "#fb9f3a"
            ],
            [
             0.8888888888888888,
             "#fdca26"
            ],
            [
             1,
             "#f0f921"
            ]
           ],
           "sequentialminus": [
            [
             0,
             "#0d0887"
            ],
            [
             0.1111111111111111,
             "#46039f"
            ],
            [
             0.2222222222222222,
             "#7201a8"
            ],
            [
             0.3333333333333333,
             "#9c179e"
            ],
            [
             0.4444444444444444,
             "#bd3786"
            ],
            [
             0.5555555555555556,
             "#d8576b"
            ],
            [
             0.6666666666666666,
             "#ed7953"
            ],
            [
             0.7777777777777778,
             "#fb9f3a"
            ],
            [
             0.8888888888888888,
             "#fdca26"
            ],
            [
             1,
             "#f0f921"
            ]
           ]
          },
          "colorway": [
           "#636efa",
           "#EF553B",
           "#00cc96",
           "#ab63fa",
           "#FFA15A",
           "#19d3f3",
           "#FF6692",
           "#B6E880",
           "#FF97FF",
           "#FECB52"
          ],
          "font": {
           "color": "#2a3f5f"
          },
          "geo": {
           "bgcolor": "white",
           "lakecolor": "white",
           "landcolor": "white",
           "showlakes": true,
           "showland": true,
           "subunitcolor": "#C8D4E3"
          },
          "hoverlabel": {
           "align": "left"
          },
          "hovermode": "closest",
          "mapbox": {
           "style": "light"
          },
          "paper_bgcolor": "white",
          "plot_bgcolor": "white",
          "polar": {
           "angularaxis": {
            "gridcolor": "#EBF0F8",
            "linecolor": "#EBF0F8",
            "ticks": ""
           },
           "bgcolor": "white",
           "radialaxis": {
            "gridcolor": "#EBF0F8",
            "linecolor": "#EBF0F8",
            "ticks": ""
           }
          },
          "scene": {
           "xaxis": {
            "backgroundcolor": "white",
            "gridcolor": "#DFE8F3",
            "gridwidth": 2,
            "linecolor": "#EBF0F8",
            "showbackground": true,
            "ticks": "",
            "zerolinecolor": "#EBF0F8"
           },
           "yaxis": {
            "backgroundcolor": "white",
            "gridcolor": "#DFE8F3",
            "gridwidth": 2,
            "linecolor": "#EBF0F8",
            "showbackground": true,
            "ticks": "",
            "zerolinecolor": "#EBF0F8"
           },
           "zaxis": {
            "backgroundcolor": "white",
            "gridcolor": "#DFE8F3",
            "gridwidth": 2,
            "linecolor": "#EBF0F8",
            "showbackground": true,
            "ticks": "",
            "zerolinecolor": "#EBF0F8"
           }
          },
          "shapedefaults": {
           "line": {
            "color": "#2a3f5f"
           }
          },
          "ternary": {
           "aaxis": {
            "gridcolor": "#DFE8F3",
            "linecolor": "#A2B1C6",
            "ticks": ""
           },
           "baxis": {
            "gridcolor": "#DFE8F3",
            "linecolor": "#A2B1C6",
            "ticks": ""
           },
           "bgcolor": "white",
           "caxis": {
            "gridcolor": "#DFE8F3",
            "linecolor": "#A2B1C6",
            "ticks": ""
           }
          },
          "title": {
           "x": 0.05
          },
          "xaxis": {
           "automargin": true,
           "gridcolor": "#EBF0F8",
           "linecolor": "#EBF0F8",
           "ticks": "",
           "title": {
            "standoff": 15
           },
           "zerolinecolor": "#EBF0F8",
           "zerolinewidth": 2
          },
          "yaxis": {
           "automargin": true,
           "gridcolor": "#EBF0F8",
           "linecolor": "#EBF0F8",
           "ticks": "",
           "title": {
            "standoff": 15
           },
           "zerolinecolor": "#EBF0F8",
           "zerolinewidth": 2
          }
         }
        },
        "title": {
         "text": "Calories Burned vs Session Duration"
        },
        "xaxis": {
         "anchor": "y",
         "domain": [
          0,
          1
         ],
         "title": {
          "text": "Session Duration (hrs)"
         }
        },
        "yaxis": {
         "anchor": "x",
         "domain": [
          0,
          1
         ],
         "title": {
          "text": "Calories Burned"
         }
        }
       }
      }
     },
     "metadata": {},
     "output_type": "display_data"
    },
    {
     "data": {
      "application/vnd.plotly.v1+json": {
       "config": {
        "plotlyServerURL": "https://plot.ly"
       },
       "data": [
        {
         "hovertemplate": "Workout Type=%{x}<br>Avg Calories Burned=%{marker.color}<extra></extra>",
         "legendgroup": "",
         "marker": {
          "color": {
           "bdata": "3yJ1ASLSmUA5ZV7KuEWVQHDznMAt7pJAgJn3k9sIjEA=",
           "dtype": "f8"
          },
          "coloraxis": "coloraxis",
          "pattern": {
           "shape": ""
          }
         },
         "name": "",
         "orientation": "v",
         "showlegend": false,
         "text": {
          "bdata": "3yJ1ASLSmUA5ZV7KuEWVQHDznMAt7pJAgJn3k9sIjEA=",
          "dtype": "f8"
         },
         "textposition": "outside",
         "texttemplate": "%{text:.0f}",
         "type": "bar",
         "x": [
          "HIIT",
          "Strength",
          "Cardio",
          "Yoga"
         ],
         "xaxis": "x",
         "y": {
          "bdata": "3yJ1ASLSmUA5ZV7KuEWVQHDznMAt7pJAgJn3k9sIjEA=",
          "dtype": "f8"
         },
         "yaxis": "y"
        }
       ],
       "layout": {
        "barmode": "relative",
        "coloraxis": {
         "colorbar": {
          "title": {
           "text": "Avg Calories Burned"
          }
         },
         "colorscale": [
          [
           0,
           "#0d0887"
          ],
          [
           0.1111111111111111,
           "#46039f"
          ],
          [
           0.2222222222222222,
           "#7201a8"
          ],
          [
           0.3333333333333333,
           "#9c179e"
          ],
          [
           0.4444444444444444,
           "#bd3786"
          ],
          [
           0.5555555555555556,
           "#d8576b"
          ],
          [
           0.6666666666666666,
           "#ed7953"
          ],
          [
           0.7777777777777778,
           "#fb9f3a"
          ],
          [
           0.8888888888888888,
           "#fdca26"
          ],
          [
           1,
           "#f0f921"
          ]
         ]
        },
        "legend": {
         "tracegroupgap": 0
        },
        "template": {
         "data": {
          "bar": [
           {
            "error_x": {
             "color": "#2a3f5f"
            },
            "error_y": {
             "color": "#2a3f5f"
            },
            "marker": {
             "line": {
              "color": "white",
              "width": 0.5
             },
             "pattern": {
              "fillmode": "overlay",
              "size": 10,
              "solidity": 0.2
             }
            },
            "type": "bar"
           }
          ],
          "barpolar": [
           {
            "marker": {
             "line": {
              "color": "white",
              "width": 0.5
             },
             "pattern": {
              "fillmode": "overlay",
              "size": 10,
              "solidity": 0.2
             }
            },
            "type": "barpolar"
           }
          ],
          "carpet": [
           {
            "aaxis": {
             "endlinecolor": "#2a3f5f",
             "gridcolor": "#C8D4E3",
             "linecolor": "#C8D4E3",
             "minorgridcolor": "#C8D4E3",
             "startlinecolor": "#2a3f5f"
            },
            "baxis": {
             "endlinecolor": "#2a3f5f",
             "gridcolor": "#C8D4E3",
             "linecolor": "#C8D4E3",
             "minorgridcolor": "#C8D4E3",
             "startlinecolor": "#2a3f5f"
            },
            "type": "carpet"
           }
          ],
          "choropleth": [
           {
            "colorbar": {
             "outlinewidth": 0,
             "ticks": ""
            },
            "type": "choropleth"
           }
          ],
          "contour": [
           {
            "colorbar": {
             "outlinewidth": 0,
             "ticks": ""
            },
            "colorscale": [
             [
              0,
              "#0d0887"
             ],
             [
              0.1111111111111111,
              "#46039f"
             ],
             [
              0.2222222222222222,
              "#7201a8"
             ],
             [
              0.3333333333333333,
              "#9c179e"
             ],
             [
              0.4444444444444444,
              "#bd3786"
             ],
             [
              0.5555555555555556,
              "#d8576b"
             ],
             [
              0.6666666666666666,
              "#ed7953"
             ],
             [
              0.7777777777777778,
              "#fb9f3a"
             ],
             [
              0.8888888888888888,
              "#fdca26"
             ],
             [
              1,
              "#f0f921"
             ]
            ],
            "type": "contour"
           }
          ],
          "contourcarpet": [
           {
            "colorbar": {
             "outlinewidth": 0,
             "ticks": ""
            },
            "type": "contourcarpet"
           }
          ],
          "heatmap": [
           {
            "colorbar": {
             "outlinewidth": 0,
             "ticks": ""
            },
            "colorscale": [
             [
              0,
              "#0d0887"
             ],
             [
              0.1111111111111111,
              "#46039f"
             ],
             [
              0.2222222222222222,
              "#7201a8"
             ],
             [
              0.3333333333333333,
              "#9c179e"
             ],
             [
              0.4444444444444444,
              "#bd3786"
             ],
             [
              0.5555555555555556,
              "#d8576b"
             ],
             [
              0.6666666666666666,
              "#ed7953"
             ],
             [
              0.7777777777777778,
              "#fb9f3a"
             ],
             [
              0.8888888888888888,
              "#fdca26"
             ],
             [
              1,
              "#f0f921"
             ]
            ],
            "type": "heatmap"
           }
          ],
          "histogram": [
           {
            "marker": {
             "pattern": {
              "fillmode": "overlay",
              "size": 10,
              "solidity": 0.2
             }
            },
            "type": "histogram"
           }
          ],
          "histogram2d": [
           {
            "colorbar": {
             "outlinewidth": 0,
             "ticks": ""
            },
            "colorscale": [
             [
              0,
              "#0d0887"
             ],
             [
              0.1111111111111111,
              "#46039f"
             ],
             [
              0.2222222222222222,
              "#7201a8"
             ],
             [
              0.3333333333333333,
              "#9c179e"
             ],
             [
              0.4444444444444444,
              "#bd3786"
             ],
             [
              0.5555555555555556,
              "#d8576b"
             ],
             [
              0.6666666666666666,
              "#ed7953"
             ],
             [
              0.7777777777777778,
              "#fb9f3a"
             ],
             [
              0.8888888888888888,
              "#fdca26"
             ],
             [
              1,
              "#f0f921"
             ]
            ],
            "type": "histogram2d"
           }
          ],
          "histogram2dcontour": [
           {
            "colorbar": {
             "outlinewidth": 0,
             "ticks": ""
            },
            "colorscale": [
             [
              0,
              "#0d0887"
             ],
             [
              0.1111111111111111,
              "#46039f"
             ],
             [
              0.2222222222222222,
              "#7201a8"
             ],
             [
              0.3333333333333333,
              "#9c179e"
             ],
             [
              0.4444444444444444,
              "#bd3786"
             ],
             [
              0.5555555555555556,
              "#d8576b"
             ],
             [
              0.6666666666666666,
              "#ed7953"
             ],
             [
              0.7777777777777778,
              "#fb9f3a"
             ],
             [
              0.8888888888888888,
              "#fdca26"
             ],
             [
              1,
              "#f0f921"
             ]
            ],
            "type": "histogram2dcontour"
           }
          ],
          "mesh3d": [
           {
            "colorbar": {
             "outlinewidth": 0,
             "ticks": ""
            },
            "type": "mesh3d"
           }
          ],
          "parcoords": [
           {
            "line": {
             "colorbar": {
              "outlinewidth": 0,
              "ticks": ""
             }
            },
            "type": "parcoords"
           }
          ],
          "pie": [
           {
            "automargin": true,
            "type": "pie"
           }
          ],
          "scatter": [
           {
            "fillpattern": {
             "fillmode": "overlay",
             "size": 10,
             "solidity": 0.2
            },
            "type": "scatter"
           }
          ],
          "scatter3d": [
           {
            "line": {
             "colorbar": {
              "outlinewidth": 0,
              "ticks": ""
             }
            },
            "marker": {
             "colorbar": {
              "outlinewidth": 0,
              "ticks": ""
             }
            },
            "type": "scatter3d"
           }
          ],
          "scattercarpet": [
           {
            "marker": {
             "colorbar": {
              "outlinewidth": 0,
              "ticks": ""
             }
            },
            "type": "scattercarpet"
           }
          ],
          "scattergeo": [
           {
            "marker": {
             "colorbar": {
              "outlinewidth": 0,
              "ticks": ""
             }
            },
            "type": "scattergeo"
           }
          ],
          "scattergl": [
           {
            "marker": {
             "colorbar": {
              "outlinewidth": 0,
              "ticks": ""
             }
            },
            "type": "scattergl"
           }
          ],
          "scattermap": [
           {
            "marker": {
             "colorbar": {
              "outlinewidth": 0,
              "ticks": ""
             }
            },
            "type": "scattermap"
           }
          ],
          "scattermapbox": [
           {
            "marker": {
             "colorbar": {
              "outlinewidth": 0,
              "ticks": ""
             }
            },
            "type": "scattermapbox"
           }
          ],
          "scatterpolar": [
           {
            "marker": {
             "colorbar": {
              "outlinewidth": 0,
              "ticks": ""
             }
            },
            "type": "scatterpolar"
           }
          ],
          "scatterpolargl": [
           {
            "marker": {
             "colorbar": {
              "outlinewidth": 0,
              "ticks": ""
             }
            },
            "type": "scatterpolargl"
           }
          ],
          "scatterternary": [
           {
            "marker": {
             "colorbar": {
              "outlinewidth": 0,
              "ticks": ""
             }
            },
            "type": "scatterternary"
           }
          ],
          "surface": [
           {
            "colorbar": {
             "outlinewidth": 0,
             "ticks": ""
            },
            "colorscale": [
             [
              0,
              "#0d0887"
             ],
             [
              0.1111111111111111,
              "#46039f"
             ],
             [
              0.2222222222222222,
              "#7201a8"
             ],
             [
              0.3333333333333333,
              "#9c179e"
             ],
             [
              0.4444444444444444,
              "#bd3786"
             ],
             [
              0.5555555555555556,
              "#d8576b"
             ],
             [
              0.6666666666666666,
              "#ed7953"
             ],
             [
              0.7777777777777778,
              "#fb9f3a"
             ],
             [
              0.8888888888888888,
              "#fdca26"
             ],
             [
              1,
              "#f0f921"
             ]
            ],
            "type": "surface"
           }
          ],
          "table": [
           {
            "cells": {
             "fill": {
              "color": "#EBF0F8"
             },
             "line": {
              "color": "white"
             }
            },
            "header": {
             "fill": {
              "color": "#C8D4E3"
             },
             "line": {
              "color": "white"
             }
            },
            "type": "table"
           }
          ]
         },
         "layout": {
          "annotationdefaults": {
           "arrowcolor": "#2a3f5f",
           "arrowhead": 0,
           "arrowwidth": 1
          },
          "autotypenumbers": "strict",
          "coloraxis": {
           "colorbar": {
            "outlinewidth": 0,
            "ticks": ""
           }
          },
          "colorscale": {
           "diverging": [
            [
             0,
             "#8e0152"
            ],
            [
             0.1,
             "#c51b7d"
            ],
            [
             0.2,
             "#de77ae"
            ],
            [
             0.3,
             "#f1b6da"
            ],
            [
             0.4,
             "#fde0ef"
            ],
            [
             0.5,
             "#f7f7f7"
            ],
            [
             0.6,
             "#e6f5d0"
            ],
            [
             0.7,
             "#b8e186"
            ],
            [
             0.8,
             "#7fbc41"
            ],
            [
             0.9,
             "#4d9221"
            ],
            [
             1,
             "#276419"
            ]
           ],
           "sequential": [
            [
             0,
             "#0d0887"
            ],
            [
             0.1111111111111111,
             "#46039f"
            ],
            [
             0.2222222222222222,
             "#7201a8"
            ],
            [
             0.3333333333333333,
             "#9c179e"
            ],
            [
             0.4444444444444444,
             "#bd3786"
            ],
            [
             0.5555555555555556,
             "#d8576b"
            ],
            [
             0.6666666666666666,
             "#ed7953"
            ],
            [
             0.7777777777777778,
             "#fb9f3a"
            ],
            [
             0.8888888888888888,
             "#fdca26"
            ],
            [
             1,
             "#f0f921"
            ]
           ],
           "sequentialminus": [
            [
             0,
             "#0d0887"
            ],
            [
             0.1111111111111111,
             "#46039f"
            ],
            [
             0.2222222222222222,
             "#7201a8"
            ],
            [
             0.3333333333333333,
             "#9c179e"
            ],
            [
             0.4444444444444444,
             "#bd3786"
            ],
            [
             0.5555555555555556,
             "#d8576b"
            ],
            [
             0.6666666666666666,
             "#ed7953"
            ],
            [
             0.7777777777777778,
             "#fb9f3a"
            ],
            [
             0.8888888888888888,
             "#fdca26"
            ],
            [
             1,
             "#f0f921"
            ]
           ]
          },
          "colorway": [
           "#636efa",
           "#EF553B",
           "#00cc96",
           "#ab63fa",
           "#FFA15A",
           "#19d3f3",
           "#FF6692",
           "#B6E880",
           "#FF97FF",
           "#FECB52"
          ],
          "font": {
           "color": "#2a3f5f"
          },
          "geo": {
           "bgcolor": "white",
           "lakecolor": "white",
           "landcolor": "white",
           "showlakes": true,
           "showland": true,
           "subunitcolor": "#C8D4E3"
          },
          "hoverlabel": {
           "align": "left"
          },
          "hovermode": "closest",
          "mapbox": {
           "style": "light"
          },
          "paper_bgcolor": "white",
          "plot_bgcolor": "white",
          "polar": {
           "angularaxis": {
            "gridcolor": "#EBF0F8",
            "linecolor": "#EBF0F8",
            "ticks": ""
           },
           "bgcolor": "white",
           "radialaxis": {
            "gridcolor": "#EBF0F8",
            "linecolor": "#EBF0F8",
            "ticks": ""
           }
          },
          "scene": {
           "xaxis": {
            "backgroundcolor": "white",
            "gridcolor": "#DFE8F3",
            "gridwidth": 2,
            "linecolor": "#EBF0F8",
            "showbackground": true,
            "ticks": "",
            "zerolinecolor": "#EBF0F8"
           },
           "yaxis": {
            "backgroundcolor": "white",
            "gridcolor": "#DFE8F3",
            "gridwidth": 2,
            "linecolor": "#EBF0F8",
            "showbackground": true,
            "ticks": "",
            "zerolinecolor": "#EBF0F8"
           },
           "zaxis": {
            "backgroundcolor": "white",
            "gridcolor": "#DFE8F3",
            "gridwidth": 2,
            "linecolor": "#EBF0F8",
            "showbackground": true,
            "ticks": "",
            "zerolinecolor": "#EBF0F8"
           }
          },
          "shapedefaults": {
           "line": {
            "color": "#2a3f5f"
           }
          },
          "ternary": {
           "aaxis": {
            "gridcolor": "#DFE8F3",
            "linecolor": "#A2B1C6",
            "ticks": ""
           },
           "baxis": {
            "gridcolor": "#DFE8F3",
            "linecolor": "#A2B1C6",
            "ticks": ""
           },
           "bgcolor": "white",
           "caxis": {
            "gridcolor": "#DFE8F3",
            "linecolor": "#A2B1C6",
            "ticks": ""
           }
          },
          "title": {
           "x": 0.05
          },
          "xaxis": {
           "automargin": true,
           "gridcolor": "#EBF0F8",
           "linecolor": "#EBF0F8",
           "ticks": "",
           "title": {
            "standoff": 15
           },
           "zerolinecolor": "#EBF0F8",
           "zerolinewidth": 2
          },
          "yaxis": {
           "automargin": true,
           "gridcolor": "#EBF0F8",
           "linecolor": "#EBF0F8",
           "ticks": "",
           "title": {
            "standoff": 15
           },
           "zerolinecolor": "#EBF0F8",
           "zerolinewidth": 2
          }
         }
        },
        "title": {
         "text": "Top 5 Workouts by Average Calories Burned"
        },
        "xaxis": {
         "anchor": "y",
         "domain": [
          0,
          1
         ],
         "title": {
          "text": "Workout Type"
         }
        },
        "yaxis": {
         "anchor": "x",
         "domain": [
          0,
          1
         ],
         "title": {
          "text": "Avg Calories Burned"
         }
        }
       }
      }
     },
     "metadata": {},
     "output_type": "display_data"
    },
    {
     "name": "stdout",
     "output_type": "stream",
     "text": [
      "Correlation between Session Duration and Calories Burned: 0.81\n"
     ]
    }
   ],
   "source": [
    "# KPI 1: Correlation Activity vs Calories Burned\n",
    "corr = df['Session_Duration_hours'].corr(df['Calories_Burned'])\n",
    "\n",
    "# KPI 2: Top Workout Types by Avg Calories Burned\n",
    "top_workouts = df.groupby('Workout_Type')['Calories_Burned'].mean().sort_values(ascending=False).head(5)\n",
    "top_workouts_df = top_workouts.reset_index().rename(columns={'Calories_Burned': 'Avg_Calories_Burned'})\n",
    "print(\"Top 5 Workouts by Average Calories Burned:\")\n",
    "print(top_workouts_df)\n",
    "\n",
    "# Scatter plot: Calories Burned vs Session Duration\n",
    "fig5 = px.scatter(\n",
    "    df, x='Session_Duration_hours', y='Calories_Burned', color='Gender',\n",
    "    title='Calories Burned vs Session Duration',\n",
    "    labels={'Session_Duration_hours': 'Session Duration (hrs)', 'Calories_Burned': 'Calories Burned'},\n",
    "    template='plotly_white'\n",
    ")\n",
    "fig5.update_traces(marker=dict(size=6, opacity=0.7))\n",
    "fig5.show()\n",
    "\n",
    "# Bar chart: Top Workouts by Avg Calories\n",
    "fig6 = px.bar(\n",
    "    top_workouts_df, x='Workout_Type', y='Avg_Calories_Burned',\n",
    "    title='Top 5 Workouts by Average Calories Burned',\n",
    "    text='Avg_Calories_Burned',\n",
    "    labels={'Workout_Type': 'Workout Type', 'Avg_Calories_Burned': 'Avg Calories Burned'},\n",
    "    template='plotly_white',\n",
    "    color='Avg_Calories_Burned'\n",
    ")\n",
    "fig6.update_traces(texttemplate='%{text:.0f}', textposition='outside')\n",
    "fig6.update_layout(yaxis_title='Avg Calories Burned')\n",
    "fig6.show()\n",
    "\n",
    "print(f\"Correlation between Session Duration and Calories Burned: {corr:.2f}\")"
   ]
  }
 ],
 "metadata": {
  "kernelspec": {
   "display_name": "Python 3",
   "language": "python",
   "name": "python3"
  },
  "language_info": {
   "codemirror_mode": {
    "name": "ipython",
    "version": 3
   },
   "file_extension": ".py",
   "mimetype": "text/x-python",
   "name": "python",
   "nbconvert_exporter": "python",
   "pygments_lexer": "ipython3",
   "version": "3.12.5"
  }
 },
 "nbformat": 4,
 "nbformat_minor": 5
}
